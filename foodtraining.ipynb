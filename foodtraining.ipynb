{
  "nbformat": 4,
  "nbformat_minor": 0,
  "metadata": {
    "colab": {
      "provenance": [],
      "authorship_tag": "ABX9TyN7RJk5e6KtG1uSV0qv5w51",
      "include_colab_link": true
    },
    "kernelspec": {
      "name": "python3",
      "display_name": "Python 3"
    },
    "language_info": {
      "name": "python"
    }
  },
  "cells": [
    {
      "cell_type": "markdown",
      "metadata": {
        "id": "view-in-github",
        "colab_type": "text"
      },
      "source": [
        "<a href=\"https://colab.research.google.com/github/baekjiyeon123/groupproject_b3/blob/main/foodtraining.ipynb\" target=\"_parent\"><img src=\"https://colab.research.google.com/assets/colab-badge.svg\" alt=\"Open In Colab\"/></a>"
      ]
    },
    {
      "cell_type": "code",
      "execution_count": null,
      "metadata": {
        "id": "V_l8nAUEein7"
      },
      "outputs": [],
      "source": [
        "!pwd"
      ]
    },
    {
      "cell_type": "code",
      "source": [
        "import locale\n",
        "locale.getpreferredencoding = lambda: \"UTF-8\""
      ],
      "metadata": {
        "id": "0htOALnBepRf"
      },
      "execution_count": null,
      "outputs": []
    },
    {
      "cell_type": "code",
      "source": [
        "from google.colab import drive\n",
        "drive.mount('/content/drive')"
      ],
      "metadata": {
        "id": "isKHEEKuepTt"
      },
      "execution_count": null,
      "outputs": []
    },
    {
      "cell_type": "code",
      "source": [
        "!nvidia-smi"
      ],
      "metadata": {
        "id": "yjsavrL_epV0"
      },
      "execution_count": null,
      "outputs": []
    },
    {
      "cell_type": "code",
      "source": [
        "!pip install ultralytics\n",
        "from IPython import display\n",
        "import ultralytics"
      ],
      "metadata": {
        "id": "FGWfvCbxepX0"
      },
      "execution_count": null,
      "outputs": []
    },
    {
      "cell_type": "code",
      "source": [
        "import os\n",
        "HOME = os.getcwd()\n",
        "print(HOME)"
      ],
      "metadata": {
        "id": "r_1ZOvpdepZz"
      },
      "execution_count": null,
      "outputs": []
    },
    {
      "cell_type": "code",
      "source": [
        "import torch"
      ],
      "metadata": {
        "id": "pFfCkBeIezXr"
      },
      "execution_count": null,
      "outputs": []
    },
    {
      "cell_type": "code",
      "source": [
        "%cd /content/drive/MyDrive/\n",
        "\n",
        "!git clone https://github.com/ultralytics/yolov5"
      ],
      "metadata": {
        "id": "evRaQcwuepcD"
      },
      "execution_count": null,
      "outputs": []
    },
    {
      "cell_type": "code",
      "source": [
        "%cd /content/drive/MyDrive/yolov5\n",
        "%pip install -r requirements.txt\n",
        "%pip install -q roboflow\n",
        "\n",
        "%pip install --upgrade imageio\n",
        "from IPython.display import Image, clear_output"
      ],
      "metadata": {
        "id": "lvXsNtxpepeJ"
      },
      "execution_count": null,
      "outputs": []
    },
    {
      "cell_type": "code",
      "source": [
        "from tqdm import tqdm\n",
        "import IProgress\n",
        "from ipywidgets import IntProgress"
      ],
      "metadata": {
        "id": "j1CoyWUsfGWt"
      },
      "execution_count": null,
      "outputs": []
    },
    {
      "cell_type": "code",
      "source": [
        "torch.cuda.get_arch_list()"
      ],
      "metadata": {
        "id": "1AftG3v7fHoI"
      },
      "execution_count": null,
      "outputs": []
    },
    {
      "cell_type": "code",
      "source": [
        "print('All set. Using PyTorch version %s with %s' % (torch.__version__, torch.cuda.get_device_properties(0) if torch.cuda.is_available() else 'CPU'))"
      ],
      "metadata": {
        "id": "ceRmVvYsfC5y"
      },
      "execution_count": null,
      "outputs": []
    },
    {
      "cell_type": "code",
      "source": [
        "%cd /content/drive/MyDrive\n",
        "!mkdir datasets"
      ],
      "metadata": {
        "id": "G0V-HFQUfUNr"
      },
      "execution_count": null,
      "outputs": []
    },
    {
      "cell_type": "code",
      "source": [
        "%cd /content/drive/MyDrive/datasets4\n",
        "\n",
        "!pip install roboflow\n",
        "\n",
        "from roboflow import Roboflow\n",
        "rf = Roboflow(api_key=\"QdXV6krknWcnORVwwGnr\")\n",
        "project = rf.workspace(\"yong331\").project(\"sk-shielders-module-project-3_koreanfood_detecting\")\n",
        "version = project.version(3)\n",
        "dataset = version.download(\"yolov5\")"
      ],
      "metadata": {
        "id": "10oXNP9xfWm3"
      },
      "execution_count": null,
      "outputs": []
    },
    {
      "cell_type": "code",
      "source": [
        "%cat /content/drive/MyDrive/datasets/SK-Shielders-Module-Project-3_KoreanFOOD_Detecting-3/data.yaml"
      ],
      "metadata": {
        "id": "e3RZTqoAfYb7"
      },
      "execution_count": null,
      "outputs": []
    },
    {
      "cell_type": "code",
      "source": [
        "from glob import glob\n",
        "\n",
        "img_list = glob('/content/drive/MyDrive/datasets/SK-Shielders-Module-Project-3_KoreanFOOD_Detecting-3/train/images/*.jpg')\n",
        "\n",
        "print(len(img_list))"
      ],
      "metadata": {
        "id": "V0M3nQL_fbKb"
      },
      "execution_count": null,
      "outputs": []
    },
    {
      "cell_type": "code",
      "source": [
        "from sklearn.model_selection import train_test_split\n",
        "train_img_list, val_img_list = train_test_split(img_list, test_size=0.2, random_state=2000)\n",
        "\n",
        "print(len(train_img_list), len(val_img_list))"
      ],
      "metadata": {
        "id": "9xbAKdK9fd_I"
      },
      "execution_count": null,
      "outputs": []
    },
    {
      "cell_type": "code",
      "source": [
        "with open('/content/drive/MyDrive/datasets/SK-Shielders-Module-Project-3_KoreanFOOD_Detecting-3/train.txt', 'w') as f:\n",
        "  f.write('\\n'.join(train_img_list) + '\\n')\n",
        "\n",
        "with open('/content/drive/MyDrive/datasets/SK-Shielders-Module-Project-3_KoreanFOOD_Detecting-3/val.txt', 'w') as f:\n",
        "  f.write('\\n'.join(val_img_list) + '\\n')"
      ],
      "metadata": {
        "id": "fPzFMeNhffY5"
      },
      "execution_count": null,
      "outputs": []
    },
    {
      "cell_type": "code",
      "source": [
        "import yaml\n",
        "\n",
        "with open('/content/drive/MyDrive/datasets/SK-Shielders-Module-Project-3_KoreanFOOD_Detecting-3/data.yaml', 'r') as f:\n",
        "  data = yaml.full_load(f)\n",
        "  #data = yaml.load(f, Loader=yaml.FullLoader)\n",
        "\n",
        "print(data)\n",
        "\n",
        "data['train'] = '/content/drive/MyDrive/datasets/SK-Shielders-Module-Project-3_KoreanFOOD_Detecting-3/train.txt'\n",
        "data['val'] = '/content/drive/MyDrive/datasets/SK-Shielders-Module-Project-3_KoreanFOOD_Detecting-3/val.txt'\n",
        "\n",
        "with open('/content/drive/MyDrive/datasets/SK-Shielders-Module-Project-3_KoreanFOOD_Detecting-3/data.yaml', 'w') as f:\n",
        "  yaml.dump(data, f)\n",
        "\n",
        "print(data)"
      ],
      "metadata": {
        "id": "0op6kfY-fhpf"
      },
      "execution_count": null,
      "outputs": []
    },
    {
      "cell_type": "code",
      "source": [
        "!pip install wandb"
      ],
      "metadata": {
        "id": "HCdGDJJsfhr2"
      },
      "execution_count": null,
      "outputs": []
    },
    {
      "cell_type": "code",
      "source": [
        " def fitness(x):\n",
        "     # Model fitness as a weighted combination of metrics\n",
        "     w = [0.0, 0.0, 0.1, 0.9]  # weights for [P, R, mAP@0.5, mAP@0.5:0.95]\n",
        "     return (x[:, :4] * w).sum(1)"
      ],
      "metadata": {
        "id": "Pc6C1UnGfhtp"
      },
      "execution_count": null,
      "outputs": []
    },
    {
      "cell_type": "markdown",
      "source": [
        "# Training the yolov5 Model"
      ],
      "metadata": {
        "id": "cMIbkTA0fOA5"
      }
    },
    {
      "cell_type": "code",
      "source": [
        "!python train.py --img 416 --batch 16 --epochs 200 --data /content/drive/MyDrive/datasets/SK-Shielders-Module-Project-3_KoreanFOOD_Detecting-3/data.yaml --weights yolov5s.pt --cache"
      ],
      "metadata": {
        "id": "426UDJJFfLFR"
      },
      "execution_count": null,
      "outputs": []
    },
    {
      "cell_type": "code",
      "source": [
        "!python detect.py --weights ./content/drive/MyDrive/yolov5/runs/train/yolov5s_results4/weights/best.pt --conf 0.5 --source /content/drive/MyDrive/datasets/SK-Shielders-Module-Project-3_KoreanFOOD_Detecting-3/test/images"
      ],
      "metadata": {
        "id": "klob43rsgDQo"
      },
      "execution_count": null,
      "outputs": []
    },
    {
      "cell_type": "code",
      "source": [
        "%load_ext tensorboard\n",
        "%reload_ext tensorboard\n",
        "%tensorboard --logdir /content/drive/MyDrive/yolov5/runs/train/yolov5s_results"
      ],
      "metadata": {
        "id": "8xLIC9_7gEpk"
      },
      "execution_count": null,
      "outputs": []
    },
    {
      "cell_type": "markdown",
      "source": [
        "# you have best.pt and last.pt inside runs\\train\\exp2\\weights"
      ],
      "metadata": {
        "id": "is0qWD6fgL9Y"
      }
    },
    {
      "cell_type": "code",
      "source": [
        "# Convert weights to fp16 TFLite model\n",
        "\n",
        "!python export.py --weights runs/train/exp2/weights/best.pt --include tflite --img 416"
      ],
      "metadata": {
        "id": "yRiw6o-wgO4U"
      },
      "execution_count": null,
      "outputs": []
    },
    {
      "cell_type": "code",
      "source": [
        "#After running the above command, you will have best-fp16.tflite in runs\\train\\exp2\\weights folder\n",
        "\n",
        "# Lets run the created tflite model.\n",
        "\n",
        "!python detect.py --weights runs\\train\\exp2\\weights\\best-fp16.tflite --img 416 --conf 0.25 --source runs/train/exp2/test_images"
      ],
      "metadata": {
        "id": "psxj2e1ygO7A"
      },
      "execution_count": null,
      "outputs": []
    },
    {
      "cell_type": "code",
      "source": [],
      "metadata": {
        "id": "y8Ii4GByCAVt"
      },
      "execution_count": null,
      "outputs": []
    },
    {
      "cell_type": "markdown",
      "source": [
        "# Our model is working fine and results are stored in runs\\detect\\exp3"
      ],
      "metadata": {
        "id": "p3SUjCy7gTAV"
      }
    },
    {
      "cell_type": "code",
      "source": [
        "#Convert weights to int8 TFLite model\n",
        "\n",
        "#!python export.py --weights runs/train/exp2/weights/best.pt --include tflite --int8 --img 416 --data data/coco128.yaml"
      ],
      "metadata": {
        "id": "mvQIQWgugO-j"
      },
      "execution_count": null,
      "outputs": []
    },
    {
      "cell_type": "markdown",
      "source": [
        "# 3. Get the android folder from here\n",
        "https://github.com/AarohiSingla/TFLite-Object-Detection-Android-App-Tutorial-Using-YOLOv5\n",
        "\n",
        "Now Put TFLite models in assets folder of Android project, and change\n",
        "And then open android/app/src/main/java/org/tensorflow/lite/examples/detection/tflite/DetectorFactory.java\n",
        "\n",
        "Do the following changes:\n",
        "\n",
        "Change the inputSize of image as per your dataset.\n",
        "\n",
        "Change labelFilename according to the classes of the model\n",
        "\n",
        "Then run the program in Android Studio."
      ],
      "metadata": {
        "id": "P-Iikbk-gYdr"
      }
    }
  ]
}