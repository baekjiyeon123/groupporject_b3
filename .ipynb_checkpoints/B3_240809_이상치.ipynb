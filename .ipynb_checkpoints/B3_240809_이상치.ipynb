{
 "cells": [
  {
   "cell_type": "code",
   "execution_count": 3,
   "id": "f8219000",
   "metadata": {},
   "outputs": [],
   "source": [
    "import pandas as pd\n",
    "import numpy as np\n",
    "from numpy.random import randn\n",
    "\n",
    "import matplotlib\n",
    "import matplotlib.pyplot as plt\n",
    "import seaborn as sns\n",
    "%matplotlib inline\n",
    "\n",
    "import statsmodels.formula.api as smf\n",
    "from statsmodels.api import qqplot, add_constant\n",
    "from statsmodels.stats.outliers_influence import variance_inflation_factor\n",
    "from statsmodels.stats.proportion import proportions_ztest\n",
    "\n",
    "import graphviz\n",
    "from sklearn.impute import SimpleImputer\n",
    "from sklearn.linear_model import LinearRegression, Ridge, Lasso, ElasticNet\n",
    "from sklearn.tree import export_graphviz\n",
    "from sklearn.tree import DecisionTreeRegressor\n",
    "from sklearn.ensemble import RandomForestRegressor\n",
    "from sklearn.ensemble import GradientBoostingRegressor\n",
    "from sklearn.model_selection import train_test_split\n",
    "from sklearn.model_selection import GridSearchCV\n",
    "from sklearn.feature_selection import RFE\n",
    "\n",
    "from sklearn.preprocessing import StandardScaler, MinMaxScaler, RobustScaler\n",
    "from sklearn.metrics import mean_squared_error, mean_absolute_error, r2_score, mean_absolute_percentage_error\n",
    "\n",
    "import warnings\n",
    "warnings.filterwarnings('ignore')\n",
    "\n",
    "matplotlib.rc('font', family = 'NanumBarunGothic')\n",
    "matplotlib.rc('axes', unicode_minus = False)"
   ]
  },
  {
   "cell_type": "code",
   "execution_count": 27,
   "id": "5dfcd6ba",
   "metadata": {},
   "outputs": [
    {
     "data": {
      "text/html": [
       "<div>\n",
       "<style scoped>\n",
       "    .dataframe tbody tr th:only-of-type {\n",
       "        vertical-align: middle;\n",
       "    }\n",
       "\n",
       "    .dataframe tbody tr th {\n",
       "        vertical-align: top;\n",
       "    }\n",
       "\n",
       "    .dataframe thead th {\n",
       "        text-align: right;\n",
       "    }\n",
       "</style>\n",
       "<table border=\"1\" class=\"dataframe\">\n",
       "  <thead>\n",
       "    <tr style=\"text-align: right;\">\n",
       "      <th></th>\n",
       "      <th>Name</th>\n",
       "      <th>Location</th>\n",
       "      <th>Price</th>\n",
       "      <th>Year</th>\n",
       "      <th>Kilometers_Driven</th>\n",
       "      <th>Fuel_Type</th>\n",
       "      <th>Transmission</th>\n",
       "      <th>Owner_Type</th>\n",
       "      <th>Mileage</th>\n",
       "      <th>Engine</th>\n",
       "      <th>Power</th>\n",
       "      <th>Seats</th>\n",
       "      <th>New_Price</th>\n",
       "    </tr>\n",
       "  </thead>\n",
       "  <tbody>\n",
       "    <tr>\n",
       "      <th>0</th>\n",
       "      <td>Maruti Wagon R LXI CNG</td>\n",
       "      <td>Mumbai</td>\n",
       "      <td>2682.68</td>\n",
       "      <td>2010</td>\n",
       "      <td>72000</td>\n",
       "      <td>CNG</td>\n",
       "      <td>Manual</td>\n",
       "      <td>First</td>\n",
       "      <td>26.6 kmpl</td>\n",
       "      <td>998 CC</td>\n",
       "      <td>58.16 bhp</td>\n",
       "      <td>5.0</td>\n",
       "      <td>NaN</td>\n",
       "    </tr>\n",
       "  </tbody>\n",
       "</table>\n",
       "</div>"
      ],
      "text/plain": [
       "                     Name Location    Price  Year  Kilometers_Driven  \\\n",
       "0  Maruti Wagon R LXI CNG   Mumbai  2682.68  2010              72000   \n",
       "\n",
       "  Fuel_Type Transmission Owner_Type    Mileage  Engine      Power  Seats  \\\n",
       "0       CNG       Manual      First  26.6 kmpl  998 CC  58.16 bhp    5.0   \n",
       "\n",
       "  New_Price  \n",
       "0       NaN  "
      ]
     },
     "execution_count": 27,
     "metadata": {},
     "output_type": "execute_result"
    }
   ],
   "source": [
    "df = pd.read_csv(\"/home/piai/청년아카데미/01 실습파일/2. Big Data 분석/Car.csv\", encoding = 'euc-kr')\n",
    "df.head(1)"
   ]
  },
  {
   "cell_type": "code",
   "execution_count": 13,
   "id": "dfae314d",
   "metadata": {},
   "outputs": [
    {
     "data": {
      "text/plain": [
       "Name                    0\n",
       "Location                0\n",
       "Price                1053\n",
       "Year                    0\n",
       "Kilometers_Driven       0\n",
       "Fuel_Type               0\n",
       "Transmission            0\n",
       "Owner_Type              0\n",
       "Mileage                 2\n",
       "Engine                 46\n",
       "Power                  46\n",
       "Seats                  53\n",
       "New_Price            6247\n",
       "dtype: int64"
      ]
     },
     "execution_count": 13,
     "metadata": {},
     "output_type": "execute_result"
    }
   ],
   "source": [
    "df1 = df.isnull().sum()\n",
    "df1\n",
    "\n",
    "# 원본 결측치 --> New_Price / Price / Seats / Engine / Power / Mileage"
   ]
  },
  {
   "cell_type": "code",
   "execution_count": 66,
   "id": "39bf7ebb",
   "metadata": {},
   "outputs": [
    {
     "data": {
      "text/html": [
       "<div>\n",
       "<style scoped>\n",
       "    .dataframe tbody tr th:only-of-type {\n",
       "        vertical-align: middle;\n",
       "    }\n",
       "\n",
       "    .dataframe tbody tr th {\n",
       "        vertical-align: top;\n",
       "    }\n",
       "\n",
       "    .dataframe thead th {\n",
       "        text-align: right;\n",
       "    }\n",
       "</style>\n",
       "<table border=\"1\" class=\"dataframe\">\n",
       "  <thead>\n",
       "    <tr style=\"text-align: right;\">\n",
       "      <th></th>\n",
       "      <th>Name</th>\n",
       "      <th>Location</th>\n",
       "      <th>Price</th>\n",
       "      <th>Year</th>\n",
       "      <th>Kilometers_Driven</th>\n",
       "      <th>Fuel_Type</th>\n",
       "      <th>Transmission</th>\n",
       "      <th>Owner_Type</th>\n",
       "      <th>Mileage</th>\n",
       "      <th>Engine</th>\n",
       "      <th>Power</th>\n",
       "      <th>Seats</th>\n",
       "      <th>Owner_Type_Num</th>\n",
       "      <th>Location_income</th>\n",
       "      <th>Car_cate</th>\n",
       "      <th>Brand</th>\n",
       "      <th>Brand_Category</th>\n",
       "      <th>Price_log</th>\n",
       "      <th>Power_log</th>\n",
       "    </tr>\n",
       "  </thead>\n",
       "  <tbody>\n",
       "    <tr>\n",
       "      <th>0</th>\n",
       "      <td>Maruti Wagon R LXI CNG</td>\n",
       "      <td>Mumbai</td>\n",
       "      <td>2682.68</td>\n",
       "      <td>14</td>\n",
       "      <td>72000</td>\n",
       "      <td>CNG</td>\n",
       "      <td>Manual</td>\n",
       "      <td>First</td>\n",
       "      <td>26.6</td>\n",
       "      <td>998.0</td>\n",
       "      <td>58.16</td>\n",
       "      <td>5.0</td>\n",
       "      <td>1</td>\n",
       "      <td>High</td>\n",
       "      <td>Standard Car</td>\n",
       "      <td>Maruti</td>\n",
       "      <td>Economy</td>\n",
       "      <td>7.894572</td>\n",
       "      <td>4.063198</td>\n",
       "    </tr>\n",
       "  </tbody>\n",
       "</table>\n",
       "</div>"
      ],
      "text/plain": [
       "                     Name Location    Price  Year  Kilometers_Driven  \\\n",
       "0  Maruti Wagon R LXI CNG   Mumbai  2682.68    14              72000   \n",
       "\n",
       "  Fuel_Type Transmission Owner_Type  Mileage  Engine  Power  Seats  \\\n",
       "0       CNG       Manual      First     26.6   998.0  58.16    5.0   \n",
       "\n",
       "   Owner_Type_Num Location_income      Car_cate   Brand Brand_Category  \\\n",
       "0               1            High  Standard Car  Maruti        Economy   \n",
       "\n",
       "   Price_log  Power_log  \n",
       "0   7.894572   4.063198  "
      ]
     },
     "execution_count": 66,
     "metadata": {},
     "output_type": "execute_result"
    }
   ],
   "source": [
    "df_remove = pd.read_csv(\"/home/piai/다운로드/NewCar.csv\", encoding = 'euc-kr')\n",
    "df_remove.head(1)"
   ]
  },
  {
   "cell_type": "code",
   "execution_count": 40,
   "id": "c8d2cb2d",
   "metadata": {},
   "outputs": [
    {
     "data": {
      "text/plain": [
       "Name                 0\n",
       "Location             0\n",
       "Price                0\n",
       "Year                 0\n",
       "Kilometers_Driven    0\n",
       "Fuel_Type            0\n",
       "Transmission         0\n",
       "Owner_Type           0\n",
       "Mileage              0\n",
       "Engine               0\n",
       "Power                0\n",
       "Seats                0\n",
       "Owner_Type_Num       0\n",
       "Location_income      0\n",
       "Car_cate             0\n",
       "Brand                0\n",
       "Brand_Category       0\n",
       "Price_log            0\n",
       "Power_log            0\n",
       "dtype: int64"
      ]
     },
     "execution_count": 40,
     "metadata": {},
     "output_type": "execute_result"
    }
   ],
   "source": [
    "df_remove1 = df_remove.isnull().sum()\n",
    "df_remove1\n",
    "\n",
    "# 예인수정본 결측치 --> 마무리!"
   ]
  },
  {
   "cell_type": "code",
   "execution_count": null,
   "id": "46880fa3",
   "metadata": {},
   "outputs": [],
   "source": [
    "# df = 원본 파일\n",
    "# df_remove = 예인이가 이상치 한번 제거한 상태 ( 08.09 10:00 )"
   ]
  },
  {
   "cell_type": "markdown",
   "id": "6563472a",
   "metadata": {},
   "source": [
    "### New_Price 이상치 --> Great"
   ]
  },
  {
   "cell_type": "code",
   "execution_count": 64,
   "id": "3f79999a",
   "metadata": {},
   "outputs": [],
   "source": [
    "# 열 제거 --> 이상치 X"
   ]
  },
  {
   "cell_type": "markdown",
   "id": "686c90a6",
   "metadata": {},
   "source": [
    "### Seats 이상치 --> Great"
   ]
  },
  {
   "cell_type": "code",
   "execution_count": 6,
   "id": "7c662c58",
   "metadata": {},
   "outputs": [
    {
     "data": {
      "text/plain": [
       "5.0     6047\n",
       "7.0      796\n",
       "8.0      170\n",
       "4.0      119\n",
       "6.0       38\n",
       "2.0       18\n",
       "10.0       8\n",
       "9.0        3\n",
       "0.0        1\n",
       "Name: Seats, dtype: int64"
      ]
     },
     "execution_count": 6,
     "metadata": {},
     "output_type": "execute_result"
    }
   ],
   "source": [
    "Seats_rank = df['Seats'].value_counts().sort_values(ascending = False)\n",
    "Seats_rank\n",
    "\n",
    "# 이상치 --> 데이터 모두 2~10 인승 / 0.0 --> 1개 (4001) --> 예인이가 이미 지움.\n",
    "# 혹시 몰라서 9~10 인승 이상치일까해서 차종 검색해봤는데 이상치 X"
   ]
  },
  {
   "cell_type": "markdown",
   "id": "453b5cda",
   "metadata": {},
   "source": [
    "### Location 이상치 --> Great"
   ]
  },
  {
   "cell_type": "code",
   "execution_count": 15,
   "id": "228c6d20",
   "metadata": {},
   "outputs": [
    {
     "data": {
      "text/plain": [
       "Mumbai        949\n",
       "Hyderabad     876\n",
       "Coimbatore    772\n",
       "Kochi         772\n",
       "Pune          765\n",
       "Delhi         660\n",
       "Kolkata       654\n",
       "Chennai       591\n",
       "Jaipur        499\n",
       "Bangalore     440\n",
       "Ahmedabad     275\n",
       "Name: Location, dtype: int64"
      ]
     },
     "execution_count": 15,
     "metadata": {},
     "output_type": "execute_result"
    }
   ],
   "source": [
    "Location_rank = df['Location'].value_counts().sort_values(ascending = False)\n",
    "Location_rank\n",
    "\n",
    "# 이상치 X"
   ]
  },
  {
   "cell_type": "markdown",
   "id": "d6615642",
   "metadata": {},
   "source": [
    "### Year 이상치 --> Great"
   ]
  },
  {
   "cell_type": "code",
   "execution_count": 20,
   "id": "1a239daf",
   "metadata": {},
   "outputs": [
    {
     "data": {
      "text/plain": [
       "2015    929\n",
       "2014    925\n",
       "2016    886\n",
       "2013    791\n",
       "2017    709\n",
       "2012    690\n",
       "2011    579\n",
       "2010    407\n",
       "2018    361\n",
       "2009    252\n",
       "2008    207\n",
       "2007    148\n",
       "2019    119\n",
       "2006     89\n",
       "2005     68\n",
       "2004     35\n",
       "2003     20\n",
       "2002     18\n",
       "2001      8\n",
       "2000      5\n",
       "1998      4\n",
       "1999      2\n",
       "1996      1\n",
       "Name: Year, dtype: int64"
      ]
     },
     "execution_count": 20,
     "metadata": {},
     "output_type": "execute_result"
    }
   ],
   "source": [
    "Year_rank = df['Year'].value_counts().sort_values(ascending = False)\n",
    "Year_rank\n",
    "\n",
    "# 2022년 데이터 \n",
    "\n",
    "# IQR 방법 --> Q3 - Q1,   Q1 - 1.5 * IQR 보다 작거나 Q3 + 1.5 * IQR --> 58개\n",
    "# 1996~2003년 58개 \n",
    "# 하지만 --> 인도 최대 중고차 플랫폼중 하나인 CraTrade.com에서 데이터중 가장 낮은 1996년 차가 있었다. 그러므로 그 위는 안짜른다.\n",
    "# 결론 : 이상치 X"
   ]
  },
  {
   "cell_type": "markdown",
   "id": "2b5dccbd",
   "metadata": {},
   "source": [
    "### Engine 이상치"
   ]
  },
  {
   "cell_type": "code",
   "execution_count": null,
   "id": "83c8f061",
   "metadata": {},
   "outputs": [],
   "source": [
    "# no고급 & 4000이상 / 800이하 --> 예인 문의!"
   ]
  },
  {
   "cell_type": "code",
   "execution_count": 43,
   "id": "88b11920",
   "metadata": {},
   "outputs": [
    {
     "data": {
      "text/html": [
       "<div>\n",
       "<style scoped>\n",
       "    .dataframe tbody tr th:only-of-type {\n",
       "        vertical-align: middle;\n",
       "    }\n",
       "\n",
       "    .dataframe tbody tr th {\n",
       "        vertical-align: top;\n",
       "    }\n",
       "\n",
       "    .dataframe thead th {\n",
       "        text-align: right;\n",
       "    }\n",
       "</style>\n",
       "<table border=\"1\" class=\"dataframe\">\n",
       "  <thead>\n",
       "    <tr style=\"text-align: right;\">\n",
       "      <th></th>\n",
       "      <th>Name</th>\n",
       "      <th>Location</th>\n",
       "      <th>Price</th>\n",
       "      <th>Year</th>\n",
       "      <th>Kilometers_Driven</th>\n",
       "      <th>Fuel_Type</th>\n",
       "      <th>Transmission</th>\n",
       "      <th>Owner_Type</th>\n",
       "      <th>Mileage</th>\n",
       "      <th>Engine</th>\n",
       "      <th>Power</th>\n",
       "      <th>Seats</th>\n",
       "      <th>Owner_Type_Num</th>\n",
       "      <th>Location_income</th>\n",
       "      <th>Car_cate</th>\n",
       "      <th>Brand</th>\n",
       "      <th>Brand_Category</th>\n",
       "      <th>Price_log</th>\n",
       "      <th>Power_log</th>\n",
       "    </tr>\n",
       "  </thead>\n",
       "  <tbody>\n",
       "  </tbody>\n",
       "</table>\n",
       "</div>"
      ],
      "text/plain": [
       "Empty DataFrame\n",
       "Columns: [Name, Location, Price, Year, Kilometers_Driven, Fuel_Type, Transmission, Owner_Type, Mileage, Engine, Power, Seats, Owner_Type_Num, Location_income, Car_cate, Brand, Brand_Category, Price_log, Power_log]\n",
       "Index: []"
      ]
     },
     "execution_count": 43,
     "metadata": {},
     "output_type": "execute_result"
    }
   ],
   "source": [
    "Engine_esc = df_remove[df_remove['Engine'] <= 800]\n",
    "Engine_esc\n",
    "\n",
    "# 800이하 확인 결과 없음! "
   ]
  },
  {
   "cell_type": "code",
   "execution_count": 37,
   "id": "71ed9047",
   "metadata": {},
   "outputs": [
    {
     "data": {
      "text/plain": [
       "1197 CC    732\n",
       "1248 CC    610\n",
       "1498 CC    370\n",
       "998 CC     309\n",
       "1198 CC    281\n",
       "          ... \n",
       "970 CC       1\n",
       "5204 CC      1\n",
       "2092 CC      1\n",
       "1795 CC      1\n",
       "1389 CC      1\n",
       "Name: Engine, Length: 150, dtype: int64"
      ]
     },
     "execution_count": 37,
     "metadata": {},
     "output_type": "execute_result"
    }
   ],
   "source": [
    "Engine_rank = df['Engine'].value_counts().sort_values(ascending = False)\n",
    "Engine_rank"
   ]
  },
  {
   "cell_type": "markdown",
   "id": "e2a75814",
   "metadata": {},
   "source": [
    "### Power 이상치"
   ]
  },
  {
   "cell_type": "code",
   "execution_count": null,
   "id": "f21122f8",
   "metadata": {},
   "outputs": [],
   "source": [
    "# no고급 & 400이상 / 60이하 --> 어떻게? --> 60이하 나옴 --> 예인 문의!!"
   ]
  },
  {
   "cell_type": "code",
   "execution_count": 49,
   "id": "485dd930",
   "metadata": {},
   "outputs": [
    {
     "data": {
      "text/html": [
       "<div>\n",
       "<style scoped>\n",
       "    .dataframe tbody tr th:only-of-type {\n",
       "        vertical-align: middle;\n",
       "    }\n",
       "\n",
       "    .dataframe tbody tr th {\n",
       "        vertical-align: top;\n",
       "    }\n",
       "\n",
       "    .dataframe thead th {\n",
       "        text-align: right;\n",
       "    }\n",
       "</style>\n",
       "<table border=\"1\" class=\"dataframe\">\n",
       "  <thead>\n",
       "    <tr style=\"text-align: right;\">\n",
       "      <th></th>\n",
       "      <th>Name</th>\n",
       "      <th>Location</th>\n",
       "      <th>Price</th>\n",
       "      <th>Year</th>\n",
       "      <th>Kilometers_Driven</th>\n",
       "      <th>Fuel_Type</th>\n",
       "      <th>Transmission</th>\n",
       "      <th>Owner_Type</th>\n",
       "      <th>Mileage</th>\n",
       "      <th>Engine</th>\n",
       "      <th>Power</th>\n",
       "      <th>Seats</th>\n",
       "      <th>Owner_Type_Num</th>\n",
       "      <th>Location_income</th>\n",
       "      <th>Car_cate</th>\n",
       "      <th>Brand</th>\n",
       "      <th>Brand_Category</th>\n",
       "      <th>Price_log</th>\n",
       "      <th>Power_log</th>\n",
       "    </tr>\n",
       "  </thead>\n",
       "  <tbody>\n",
       "    <tr>\n",
       "      <th>1162</th>\n",
       "      <td>Ambassador Classic Nova Diesel</td>\n",
       "      <td>Chennai</td>\n",
       "      <td>2069.5</td>\n",
       "      <td>21</td>\n",
       "      <td>80000</td>\n",
       "      <td>Diesel</td>\n",
       "      <td>Manual</td>\n",
       "      <td>Third</td>\n",
       "      <td>12.8</td>\n",
       "      <td>1489.0</td>\n",
       "      <td>35.5</td>\n",
       "      <td>5.0</td>\n",
       "      <td>3</td>\n",
       "      <td>High</td>\n",
       "      <td>Standard Car</td>\n",
       "      <td>Ambassador</td>\n",
       "      <td>Commercial/Utility</td>\n",
       "      <td>7.635062</td>\n",
       "      <td>3.569533</td>\n",
       "    </tr>\n",
       "  </tbody>\n",
       "</table>\n",
       "</div>"
      ],
      "text/plain": [
       "                                Name Location   Price  Year  \\\n",
       "1162  Ambassador Classic Nova Diesel  Chennai  2069.5    21   \n",
       "\n",
       "      Kilometers_Driven Fuel_Type Transmission Owner_Type  Mileage  Engine  \\\n",
       "1162              80000    Diesel       Manual      Third     12.8  1489.0   \n",
       "\n",
       "      Power  Seats  Owner_Type_Num Location_income      Car_cate       Brand  \\\n",
       "1162   35.5    5.0               3            High  Standard Car  Ambassador   \n",
       "\n",
       "          Brand_Category  Price_log  Power_log  \n",
       "1162  Commercial/Utility   7.635062   3.569533  "
      ]
     },
     "execution_count": 49,
     "metadata": {},
     "output_type": "execute_result"
    }
   ],
   "source": [
    "Power_esc = df_remove[df_remove['Power'] <= 40]\n",
    "Power_esc"
   ]
  },
  {
   "cell_type": "markdown",
   "id": "21de8ef8",
   "metadata": {},
   "source": [
    "### Kilometers_Driven 이상치 --> Great"
   ]
  },
  {
   "cell_type": "code",
   "execution_count": 55,
   "id": "68803bf3",
   "metadata": {},
   "outputs": [
    {
     "data": {
      "text/html": [
       "<div>\n",
       "<style scoped>\n",
       "    .dataframe tbody tr th:only-of-type {\n",
       "        vertical-align: middle;\n",
       "    }\n",
       "\n",
       "    .dataframe tbody tr th {\n",
       "        vertical-align: top;\n",
       "    }\n",
       "\n",
       "    .dataframe thead th {\n",
       "        text-align: right;\n",
       "    }\n",
       "</style>\n",
       "<table border=\"1\" class=\"dataframe\">\n",
       "  <thead>\n",
       "    <tr style=\"text-align: right;\">\n",
       "      <th></th>\n",
       "      <th>Name</th>\n",
       "      <th>Location</th>\n",
       "      <th>Price</th>\n",
       "      <th>Year</th>\n",
       "      <th>Kilometers_Driven</th>\n",
       "      <th>Fuel_Type</th>\n",
       "      <th>Transmission</th>\n",
       "      <th>Owner_Type</th>\n",
       "      <th>Mileage</th>\n",
       "      <th>Engine</th>\n",
       "      <th>Power</th>\n",
       "      <th>Seats</th>\n",
       "      <th>Owner_Type_Num</th>\n",
       "      <th>Location_income</th>\n",
       "      <th>Car_cate</th>\n",
       "      <th>Brand</th>\n",
       "      <th>Brand_Category</th>\n",
       "      <th>Price_log</th>\n",
       "      <th>Power_log</th>\n",
       "    </tr>\n",
       "  </thead>\n",
       "  <tbody>\n",
       "    <tr>\n",
       "      <th>3483</th>\n",
       "      <td>Tata Indigo LS</td>\n",
       "      <td>Jaipur</td>\n",
       "      <td>1532.96</td>\n",
       "      <td>16</td>\n",
       "      <td>300000</td>\n",
       "      <td>Diesel</td>\n",
       "      <td>Manual</td>\n",
       "      <td>First</td>\n",
       "      <td>17.0</td>\n",
       "      <td>1405.0</td>\n",
       "      <td>70.0</td>\n",
       "      <td>5.0</td>\n",
       "      <td>1</td>\n",
       "      <td>Low</td>\n",
       "      <td>Standard Car</td>\n",
       "      <td>Tata</td>\n",
       "      <td>Economy</td>\n",
       "      <td>7.334956</td>\n",
       "      <td>4.248495</td>\n",
       "    </tr>\n",
       "  </tbody>\n",
       "</table>\n",
       "</div>"
      ],
      "text/plain": [
       "                Name Location    Price  Year  Kilometers_Driven Fuel_Type  \\\n",
       "3483  Tata Indigo LS   Jaipur  1532.96    16             300000    Diesel   \n",
       "\n",
       "     Transmission Owner_Type  Mileage  Engine  Power  Seats  Owner_Type_Num  \\\n",
       "3483       Manual      First     17.0  1405.0   70.0    5.0               1   \n",
       "\n",
       "     Location_income      Car_cate Brand Brand_Category  Price_log  Power_log  \n",
       "3483             Low  Standard Car  Tata        Economy   7.334956   4.248495  "
      ]
     },
     "execution_count": 55,
     "metadata": {},
     "output_type": "execute_result"
    }
   ],
   "source": [
    "Kilometers_Driven_esc = df_remove[df_remove['Kilometers_Driven'] >= 300000]\n",
    "Kilometers_Driven_esc\n",
    "\n",
    "# 300000km 초과 이상치 잘 제거 완료 --> 이상치 제거 완료 --> 이상치 X"
   ]
  },
  {
   "cell_type": "markdown",
   "id": "b7d1733d",
   "metadata": {},
   "source": [
    "### Price 이상치 "
   ]
  },
  {
   "cell_type": "code",
   "execution_count": 36,
   "id": "83108603",
   "metadata": {},
   "outputs": [
    {
     "data": {
      "text/plain": [
       "6898.32     89\n",
       "8431.28     84\n",
       "5365.36     82\n",
       "6515.08     74\n",
       "4982.12     71\n",
       "            ..\n",
       "13459.39     1\n",
       "77659.75     1\n",
       "62038.89     1\n",
       "24680.66     1\n",
       "7.08         1\n",
       "Name: Price, Length: 1459, dtype: int64"
      ]
     },
     "execution_count": 36,
     "metadata": {},
     "output_type": "execute_result"
    }
   ],
   "source": [
    "Price_rank = df['Price'].value_counts().sort_values(ascending = False)\n",
    "Price_rank\n",
    "\n",
    "# 예인 문의!!"
   ]
  },
  {
   "cell_type": "markdown",
   "id": "19db7f3c",
   "metadata": {},
   "source": [
    "### Fuel_Type 이상치 --> Great"
   ]
  },
  {
   "cell_type": "code",
   "execution_count": 10,
   "id": "8df8c7b5",
   "metadata": {},
   "outputs": [
    {
     "data": {
      "text/plain": [
       "Diesel      3852\n",
       "Petrol      3325\n",
       "CNG           62\n",
       "LPG           12\n",
       "Electric       2\n",
       "Name: Fuel_Type, dtype: int64"
      ]
     },
     "execution_count": 10,
     "metadata": {},
     "output_type": "execute_result"
    }
   ],
   "source": [
    "Fuel_Type_rank = df['Fuel_Type'].value_counts().sort_values(ascending = False)\n",
    "Fuel_Type_rank\n",
    "\n",
    "# 결과값 5개가 끝 --> 이상치 X"
   ]
  },
  {
   "cell_type": "markdown",
   "id": "a6a698a1",
   "metadata": {},
   "source": [
    "### Transmission 이상치 --> Great"
   ]
  },
  {
   "cell_type": "code",
   "execution_count": 63,
   "id": "77ba9b91",
   "metadata": {},
   "outputs": [
    {
     "data": {
      "text/plain": [
       "Manual       5204\n",
       "Automatic    2049\n",
       "Name: Transmission, dtype: int64"
      ]
     },
     "execution_count": 63,
     "metadata": {},
     "output_type": "execute_result"
    }
   ],
   "source": [
    "Transmission_rank = df['Transmission'].value_counts().sort_values(ascending = False)\n",
    "Transmission_rank\n",
    "\n",
    "# 결과값 2개가 끝 --> 이상치 X"
   ]
  },
  {
   "cell_type": "markdown",
   "id": "c6923b96",
   "metadata": {},
   "source": [
    "### Owner_Type 이상치 --> Great"
   ]
  },
  {
   "cell_type": "code",
   "execution_count": 29,
   "id": "5e958eeb",
   "metadata": {},
   "outputs": [
    {
     "data": {
      "text/plain": [
       "First             5952\n",
       "Second            1152\n",
       "Third              137\n",
       "Fourth & Above      12\n",
       "Name: Owner_Type, dtype: int64"
      ]
     },
     "execution_count": 29,
     "metadata": {},
     "output_type": "execute_result"
    }
   ],
   "source": [
    "Owner_Type_rank = df['Owner_Type'].value_counts().sort_values(ascending = False)\n",
    "Owner_Type_rank\n",
    "\n",
    "# 결과값 4개가 끝 --> 이상치 X"
   ]
  },
  {
   "cell_type": "markdown",
   "id": "fa29a2bd",
   "metadata": {},
   "source": [
    "### Mileage 이상치"
   ]
  },
  {
   "cell_type": "code",
   "execution_count": 62,
   "id": "01c77572",
   "metadata": {},
   "outputs": [
    {
     "data": {
      "text/html": [
       "<div>\n",
       "<style scoped>\n",
       "    .dataframe tbody tr th:only-of-type {\n",
       "        vertical-align: middle;\n",
       "    }\n",
       "\n",
       "    .dataframe tbody tr th {\n",
       "        vertical-align: top;\n",
       "    }\n",
       "\n",
       "    .dataframe thead th {\n",
       "        text-align: right;\n",
       "    }\n",
       "</style>\n",
       "<table border=\"1\" class=\"dataframe\">\n",
       "  <thead>\n",
       "    <tr style=\"text-align: right;\">\n",
       "      <th></th>\n",
       "      <th>Name</th>\n",
       "      <th>Location</th>\n",
       "      <th>Price</th>\n",
       "      <th>Year</th>\n",
       "      <th>Kilometers_Driven</th>\n",
       "      <th>Fuel_Type</th>\n",
       "      <th>Transmission</th>\n",
       "      <th>Owner_Type</th>\n",
       "      <th>Mileage</th>\n",
       "      <th>Engine</th>\n",
       "      <th>Power</th>\n",
       "      <th>Seats</th>\n",
       "      <th>Owner_Type_Num</th>\n",
       "      <th>Location_income</th>\n",
       "      <th>Car_cate</th>\n",
       "      <th>Brand</th>\n",
       "      <th>Brand_Category</th>\n",
       "      <th>Price_log</th>\n",
       "      <th>Power_log</th>\n",
       "    </tr>\n",
       "  </thead>\n",
       "  <tbody>\n",
       "    <tr>\n",
       "      <th>1267</th>\n",
       "      <td>Maruti Wagon R CNG LXI</td>\n",
       "      <td>Pune</td>\n",
       "      <td>4537.56</td>\n",
       "      <td>11</td>\n",
       "      <td>79494</td>\n",
       "      <td>CNG</td>\n",
       "      <td>Manual</td>\n",
       "      <td>First</td>\n",
       "      <td>33.54</td>\n",
       "      <td>998.0</td>\n",
       "      <td>67.04</td>\n",
       "      <td>5.0</td>\n",
       "      <td>1</td>\n",
       "      <td>Median</td>\n",
       "      <td>Standard Car</td>\n",
       "      <td>Maruti</td>\n",
       "      <td>Economy</td>\n",
       "      <td>8.420145</td>\n",
       "      <td>4.205289</td>\n",
       "    </tr>\n",
       "    <tr>\n",
       "      <th>1964</th>\n",
       "      <td>Maruti Wagon R CNG LXI</td>\n",
       "      <td>Mumbai</td>\n",
       "      <td>4675.53</td>\n",
       "      <td>11</td>\n",
       "      <td>54000</td>\n",
       "      <td>CNG</td>\n",
       "      <td>Manual</td>\n",
       "      <td>First</td>\n",
       "      <td>33.54</td>\n",
       "      <td>998.0</td>\n",
       "      <td>67.04</td>\n",
       "      <td>5.0</td>\n",
       "      <td>1</td>\n",
       "      <td>High</td>\n",
       "      <td>Standard Car</td>\n",
       "      <td>Maruti</td>\n",
       "      <td>Economy</td>\n",
       "      <td>8.450098</td>\n",
       "      <td>4.205289</td>\n",
       "    </tr>\n",
       "    <tr>\n",
       "      <th>2259</th>\n",
       "      <td>Maruti Wagon R CNG LXI</td>\n",
       "      <td>Pune</td>\n",
       "      <td>5978.54</td>\n",
       "      <td>10</td>\n",
       "      <td>29202</td>\n",
       "      <td>CNG</td>\n",
       "      <td>Manual</td>\n",
       "      <td>First</td>\n",
       "      <td>33.54</td>\n",
       "      <td>998.0</td>\n",
       "      <td>67.04</td>\n",
       "      <td>5.0</td>\n",
       "      <td>1</td>\n",
       "      <td>Median</td>\n",
       "      <td>Standard Car</td>\n",
       "      <td>Maruti</td>\n",
       "      <td>Economy</td>\n",
       "      <td>8.695932</td>\n",
       "      <td>4.205289</td>\n",
       "    </tr>\n",
       "  </tbody>\n",
       "</table>\n",
       "</div>"
      ],
      "text/plain": [
       "                        Name Location    Price  Year  Kilometers_Driven  \\\n",
       "1267  Maruti Wagon R CNG LXI     Pune  4537.56    11              79494   \n",
       "1964  Maruti Wagon R CNG LXI   Mumbai  4675.53    11              54000   \n",
       "2259  Maruti Wagon R CNG LXI     Pune  5978.54    10              29202   \n",
       "\n",
       "     Fuel_Type Transmission Owner_Type  Mileage  Engine  Power  Seats  \\\n",
       "1267       CNG       Manual      First    33.54   998.0  67.04    5.0   \n",
       "1964       CNG       Manual      First    33.54   998.0  67.04    5.0   \n",
       "2259       CNG       Manual      First    33.54   998.0  67.04    5.0   \n",
       "\n",
       "      Owner_Type_Num Location_income      Car_cate   Brand Brand_Category  \\\n",
       "1267               1          Median  Standard Car  Maruti        Economy   \n",
       "1964               1            High  Standard Car  Maruti        Economy   \n",
       "2259               1          Median  Standard Car  Maruti        Economy   \n",
       "\n",
       "      Price_log  Power_log  \n",
       "1267   8.420145   4.205289  \n",
       "1964   8.450098   4.205289  \n",
       "2259   8.695932   4.205289  "
      ]
     },
     "execution_count": 62,
     "metadata": {},
     "output_type": "execute_result"
    }
   ],
   "source": [
    "Mileage_T3 = df_remove.nlargest(3, 'Mileage')\n",
    "Mileage_T3\n",
    "\n",
    "# 연비 상위 3개"
   ]
  },
  {
   "cell_type": "code",
   "execution_count": 61,
   "id": "0857152c",
   "metadata": {},
   "outputs": [
    {
     "data": {
      "text/html": [
       "<div>\n",
       "<style scoped>\n",
       "    .dataframe tbody tr th:only-of-type {\n",
       "        vertical-align: middle;\n",
       "    }\n",
       "\n",
       "    .dataframe tbody tr th {\n",
       "        vertical-align: top;\n",
       "    }\n",
       "\n",
       "    .dataframe thead th {\n",
       "        text-align: right;\n",
       "    }\n",
       "</style>\n",
       "<table border=\"1\" class=\"dataframe\">\n",
       "  <thead>\n",
       "    <tr style=\"text-align: right;\">\n",
       "      <th></th>\n",
       "      <th>Name</th>\n",
       "      <th>Location</th>\n",
       "      <th>Price</th>\n",
       "      <th>Year</th>\n",
       "      <th>Kilometers_Driven</th>\n",
       "      <th>Fuel_Type</th>\n",
       "      <th>Transmission</th>\n",
       "      <th>Owner_Type</th>\n",
       "      <th>Mileage</th>\n",
       "      <th>Engine</th>\n",
       "      <th>Power</th>\n",
       "      <th>Seats</th>\n",
       "      <th>Owner_Type_Num</th>\n",
       "      <th>Location_income</th>\n",
       "      <th>Car_cate</th>\n",
       "      <th>Brand</th>\n",
       "      <th>Brand_Category</th>\n",
       "      <th>Price_log</th>\n",
       "      <th>Power_log</th>\n",
       "    </tr>\n",
       "  </thead>\n",
       "  <tbody>\n",
       "    <tr>\n",
       "      <th>5523</th>\n",
       "      <td>Lamborghini Gallardo Coupe</td>\n",
       "      <td>Delhi</td>\n",
       "      <td>183955.20</td>\n",
       "      <td>13</td>\n",
       "      <td>6500</td>\n",
       "      <td>Petrol</td>\n",
       "      <td>Automatic</td>\n",
       "      <td>Third</td>\n",
       "      <td>6.40</td>\n",
       "      <td>5204.0</td>\n",
       "      <td>560.0</td>\n",
       "      <td>2.0</td>\n",
       "      <td>3</td>\n",
       "      <td>High</td>\n",
       "      <td>Sports Car</td>\n",
       "      <td>Lamborghini</td>\n",
       "      <td>Luxury</td>\n",
       "      <td>12.122448</td>\n",
       "      <td>6.327937</td>\n",
       "    </tr>\n",
       "    <tr>\n",
       "      <th>5352</th>\n",
       "      <td>Porsche Panamera 2010 2013 Diesel</td>\n",
       "      <td>Delhi</td>\n",
       "      <td>110373.12</td>\n",
       "      <td>11</td>\n",
       "      <td>36400</td>\n",
       "      <td>Diesel</td>\n",
       "      <td>Automatic</td>\n",
       "      <td>First</td>\n",
       "      <td>7.50</td>\n",
       "      <td>4806.0</td>\n",
       "      <td>394.3</td>\n",
       "      <td>4.0</td>\n",
       "      <td>1</td>\n",
       "      <td>High</td>\n",
       "      <td>Sedan</td>\n",
       "      <td>Porsche</td>\n",
       "      <td>Luxury</td>\n",
       "      <td>11.611622</td>\n",
       "      <td>5.977112</td>\n",
       "    </tr>\n",
       "    <tr>\n",
       "      <th>142</th>\n",
       "      <td>Mercedes-Benz S Class 2005 2013 S 500</td>\n",
       "      <td>Kolkata</td>\n",
       "      <td>45988.80</td>\n",
       "      <td>14</td>\n",
       "      <td>35277</td>\n",
       "      <td>Petrol</td>\n",
       "      <td>Automatic</td>\n",
       "      <td>First</td>\n",
       "      <td>7.81</td>\n",
       "      <td>5461.0</td>\n",
       "      <td>362.9</td>\n",
       "      <td>5.0</td>\n",
       "      <td>1</td>\n",
       "      <td>Median</td>\n",
       "      <td>Standard Car</td>\n",
       "      <td>Mercedes-Benz</td>\n",
       "      <td>Luxury</td>\n",
       "      <td>10.736153</td>\n",
       "      <td>5.894127</td>\n",
       "    </tr>\n",
       "  </tbody>\n",
       "</table>\n",
       "</div>"
      ],
      "text/plain": [
       "                                       Name Location      Price  Year  \\\n",
       "5523             Lamborghini Gallardo Coupe    Delhi  183955.20    13   \n",
       "5352      Porsche Panamera 2010 2013 Diesel    Delhi  110373.12    11   \n",
       "142   Mercedes-Benz S Class 2005 2013 S 500  Kolkata   45988.80    14   \n",
       "\n",
       "      Kilometers_Driven Fuel_Type Transmission Owner_Type  Mileage  Engine  \\\n",
       "5523               6500    Petrol    Automatic      Third     6.40  5204.0   \n",
       "5352              36400    Diesel    Automatic      First     7.50  4806.0   \n",
       "142               35277    Petrol    Automatic      First     7.81  5461.0   \n",
       "\n",
       "      Power  Seats  Owner_Type_Num Location_income      Car_cate  \\\n",
       "5523  560.0    2.0               3            High    Sports Car   \n",
       "5352  394.3    4.0               1            High         Sedan   \n",
       "142   362.9    5.0               1          Median  Standard Car   \n",
       "\n",
       "              Brand Brand_Category  Price_log  Power_log  \n",
       "5523    Lamborghini         Luxury  12.122448   6.327937  \n",
       "5352        Porsche         Luxury  11.611622   5.977112  \n",
       "142   Mercedes-Benz         Luxury  10.736153   5.894127  "
      ]
     },
     "execution_count": 61,
     "metadata": {},
     "output_type": "execute_result"
    }
   ],
   "source": [
    "Mileage_B3 = df_remove.nsmallest(3, 'Mileage')\n",
    "Mileage_B3\n",
    "\n",
    "# 연비 하위 3개"
   ]
  },
  {
   "cell_type": "markdown",
   "id": "f7ecb69b",
   "metadata": {},
   "source": [
    "### Name 이상치 --> Great"
   ]
  },
  {
   "cell_type": "code",
   "execution_count": 56,
   "id": "e621a468",
   "metadata": {},
   "outputs": [
    {
     "data": {
      "text/plain": [
       "2041"
      ]
     },
     "execution_count": 56,
     "metadata": {},
     "output_type": "execute_result"
    }
   ],
   "source": [
    "Name_unique = df['Name'].unique()\n",
    "Name_unique_num = len(Name_unique)\n",
    "Name_unique_num\n",
    "\n",
    "# 범주형 변수 + 모델이름이 2041가지이므로 이상치 판단 힘듬 --> 이상치 X"
   ]
  }
 ],
 "metadata": {
  "kernelspec": {
   "display_name": "Python [conda env:base] *",
   "language": "python",
   "name": "conda-base-py"
  },
  "language_info": {
   "codemirror_mode": {
    "name": "ipython",
    "version": 3
   },
   "file_extension": ".py",
   "mimetype": "text/x-python",
   "name": "python",
   "nbconvert_exporter": "python",
   "pygments_lexer": "ipython3",
   "version": "3.10.9"
  }
 },
 "nbformat": 4,
 "nbformat_minor": 5
}
