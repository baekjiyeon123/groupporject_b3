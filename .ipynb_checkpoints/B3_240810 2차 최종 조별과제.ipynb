{
 "cells": [
  {
   "cell_type": "code",
   "execution_count": 1,
   "id": "98a51b46",
   "metadata": {},
   "outputs": [],
   "source": [
    "import pandas as pd\n",
    "import numpy as np\n",
    "from numpy.random import randn\n",
    "\n",
    "import matplotlib\n",
    "import matplotlib.pyplot as plt\n",
    "import seaborn as sns\n",
    "from scipy import stats\n",
    "%matplotlib inline\n",
    "\n",
    "from scipy.stats import shapiro\n",
    "from scipy.stats import chi2_contingency\n",
    "import statsmodels.api as sm\n",
    "import statsmodels.formula.api as smf\n",
    "from statsmodels.formula.api import ols\n",
    "from statsmodels.api import qqplot, add_constant\n",
    "from statsmodels.stats.outliers_influence import variance_inflation_factor\n",
    "from statsmodels.stats.proportion import proportions_ztest\n",
    "\n",
    "import graphviz\n",
    "from sklearn.impute import SimpleImputer\n",
    "from sklearn.linear_model import LinearRegression, Ridge, Lasso, ElasticNet\n",
    "from sklearn.tree import export_graphviz\n",
    "from sklearn.tree import DecisionTreeRegressor\n",
    "from sklearn.ensemble import RandomForestRegressor\n",
    "from sklearn.ensemble import GradientBoostingRegressor\n",
    "from sklearn.model_selection import train_test_split\n",
    "from sklearn.model_selection import GridSearchCV\n",
    "from sklearn.feature_selection import RFE\n",
    "\n",
    "from sklearn.preprocessing import StandardScaler, MinMaxScaler, RobustScaler\n",
    "from sklearn.metrics import mean_squared_error, mean_absolute_error, r2_score, mean_absolute_percentage_error\n",
    "\n",
    "import warnings\n",
    "warnings.filterwarnings('ignore')\n",
    "\n",
    "matplotlib.rc('font', family = 'NanumBarunGothic')\n",
    "matplotlib.rc('axes', unicode_minus = False)"
   ]
  },
  {
   "cell_type": "markdown",
   "id": "1eefd17b",
   "metadata": {},
   "source": [
    "### 타겟변수\n",
    "- Price : 중고차 가격(단위:천원)\n",
    "\n",
    "### 설명변수\n",
    "- Name : 자동차 브랜드, 모델\n",
    "- Location : 영업점 위치\n",
    "- Year : 모델 연식\n",
    "- Kilometers_Driven : 차량 누적 주행거리(Km)\n",
    "- Fuel_Type : 자동차 사용연료\n",
    "- Transmission : 변속방식(Manual/Automatic)\n",
    "- Owner_Type : 소유권한 여부\n",
    "- Mileage : 표준주행거리(kmpl)\n",
    "- Engine : 엔진배기량(cc)\n",
    "- Power : 엔진최대출력(bhp)\n",
    "- Seats : 좌석 수\n",
    "- New_Price : 신차 가격"
   ]
  },
  {
   "cell_type": "markdown",
   "id": "c9f44d70",
   "metadata": {},
   "source": [
    "# <span style=\"color:red\"> 데이터 전처리</span>"
   ]
  },
  {
   "cell_type": "code",
   "execution_count": 2,
   "id": "20c04f47",
   "metadata": {},
   "outputs": [],
   "source": [
    "def classify_city_income(city_name):\n",
    "    high_income = {\n",
    "        \"Mumbai\": \"High\",\n",
    "        \"Delhi\": \"High\",\n",
    "        \"Bangalore\": \"High\",\n",
    "        \"Chennai\": \"High\"}\n",
    "\n",
    "    mid_income = {\n",
    "        \"Hyderabad\": \"Median\",\n",
    "        \"Ahmedabad\": \"Median\",\n",
    "        \"Pune\": \"Median\",\n",
    "        \"Kolkata\": \"Median\",\n",
    "        \"Coimbatore\": \"Median\"}\n",
    "    \n",
    "    low_income = {\n",
    "        \"Jaipur\": \"Low\",\n",
    "        \"Kochi\": \"Low\"}\n",
    "    \n",
    "    city_name = city_name.strip()\n",
    "    \n",
    "    if city_name in high_income:\n",
    "        return high_income[city_name]\n",
    "    elif city_name in mid_income:\n",
    "        return mid_income[city_name]\n",
    "    elif city_name in low_income:\n",
    "        return low_income[city_name]\n",
    "    else:\n",
    "        return np.nan\n",
    "    \n",
    "    \n",
    "def classify_car_by_seats(seat_count):\n",
    "    if seat_count == 2:\n",
    "        return \"Sports Car\"\n",
    "    elif seat_count == 4:\n",
    "        return \"Sedan\"\n",
    "    elif seat_count == 5:\n",
    "        return \"Standard Car\"\n",
    "    elif seat_count in (6, 7):\n",
    "        return \"SUV\"\n",
    "    else:\n",
    "        return \"Large Vehicle\"\n",
    "\n",
    "brand_region = {\n",
    "    # 유럽 (Europe)\n",
    "    'Audi': 'Europe', 'BMW': 'Europe', 'Mercedes-Benz': 'Europe', 'Jaguar': 'Europe', 'Porsche': 'Europe', 'Bentley': 'Europe', 'Lamborghini': 'Europe',\n",
    "    'Volvo': 'Europe', 'Land': 'Europe', 'Mini': 'Europe', 'Smart': 'Europe', 'Volkswagen': 'Europe', 'Skoda': 'Europe', 'OpelCorsa': 'Europe', 'Fiat': 'Europe',\n",
    "    'Renault': 'Europe',\n",
    "    # 일본 (Japan)\n",
    "    'Toyota': 'Japan', 'Honda': 'Japan', 'Nissan': 'Japan', 'Mitsubishi': 'Japan', 'Datsun': 'Japan', 'Maruti': 'Japan',\n",
    "    # 코리아 (Korea)\n",
    "    'Hyundai': 'Korea', 'Kia': 'Korea',\n",
    "    # 미국 (USA)\n",
    "    'Ford': 'USA', 'Chevrolet': 'USA', 'Jeep': 'USA',\n",
    "    # 기타 (Other) - 상업/유틸리티\n",
    "    'ISUZU': 'Other', 'Force': 'Other', 'Hindustan': 'Other', 'Ambassador': 'Other',\n",
    "    # 인도 (India) - Maruti와 Tata는 인도로 이동\n",
    "    'Mahindra': 'India', 'Tata': 'India', 'Maruti': 'India',}\n",
    "# Europe, Japan, Korea, USA, India, Other 6개의 지역 제조사\n",
    "    \n",
    "brand_categories = {\n",
    "    'Audi': 'Luxury', 'BMW': 'Luxury', 'Mercedes-Benz': 'Luxury', 'Jaguar': 'Luxury', 'Porsche': 'Luxury', 'Bentley': 'Luxury', 'Lamborghini': 'Luxury',\n",
    "    'Volvo': 'Premium', 'Land': 'Premium', 'Mini': 'Premium', 'Smart': 'Premium',\n",
    "    'Toyota': 'Mainstream', 'Honda': 'Mainstream', 'Hyundai': 'Mainstream', 'Nissan': 'Mainstream', 'Volkswagen': 'Mainstream', 'Ford': 'Mainstream', 'Chevrolet': 'Mainstream',\n",
    "    'Maruti': 'Economy', 'Tata': 'Economy', 'Mahindra': 'Economy', 'Datsun': 'Economy', 'Fiat': 'Economy', 'Renault': 'Economy', 'Skoda': 'Economy', 'Jeep': 'Economy', 'OpelCorsa': 'Economy',\n",
    "    'ISUZU': 'Commercial/Utility', 'Force': 'Commercial/Utility', 'Hindustan': 'Commercial/Utility', 'Ambassador': 'Commercial/Utility', 'Mitsubishi': 'Mainstream'}"
   ]
  },
  {
   "cell_type": "code",
   "execution_count": 3,
   "id": "8299caf8",
   "metadata": {},
   "outputs": [
    {
     "data": {
      "text/plain": [
       "(7253, 13)"
      ]
     },
     "execution_count": 3,
     "metadata": {},
     "output_type": "execute_result"
    }
   ],
   "source": [
    "df = pd.read_csv(\"/home/piai/다운로드/01_실습파일/2. Big Data 분석/Car.csv\")\n",
    "df.shape"
   ]
  },
  {
   "cell_type": "markdown",
   "id": "e93d7114",
   "metadata": {},
   "source": [
    "- 연속형 변수의 단위를 제거하고 실수변환합니다"
   ]
  },
  {
   "cell_type": "code",
   "execution_count": 4,
   "id": "322e4073",
   "metadata": {},
   "outputs": [],
   "source": [
    "df['Engine'] = df['Engine'].replace(['null', '0 CC'], np.nan).astype(str).str.replace(' CC', '').astype(float)\n",
    "df['Power'] = df['Power'].replace(['null bhp', '0 bhp'], np.nan).astype(str).str.replace(' bhp', '').astype(float)\n",
    "df['Mileage'] = df['Mileage'].replace('null kmpl', np.nan).astype(str).str.replace(' kmpl', '').astype(str).str.replace(' km/kg', '').astype(float)"
   ]
  },
  {
   "cell_type": "markdown",
   "id": "3122ba5d",
   "metadata": {},
   "source": [
    "- 오너 타입 변수는 레이블인코딩합니다."
   ]
  },
  {
   "cell_type": "code",
   "execution_count": 5,
   "id": "1f2f8c12",
   "metadata": {},
   "outputs": [],
   "source": [
    "Owner_Type = {'First': 1, 'Second': 2, 'Third': 3, 'Fourth & Above': 4}\n",
    "df['Owner_Type_Num'] = df['Owner_Type'].map(Owner_Type)"
   ]
  },
  {
   "cell_type": "code",
   "execution_count": 6,
   "id": "36546288",
   "metadata": {
    "scrolled": true
   },
   "outputs": [
    {
     "data": {
      "text/html": [
       "<div>\n",
       "<style scoped>\n",
       "    .dataframe tbody tr th:only-of-type {\n",
       "        vertical-align: middle;\n",
       "    }\n",
       "\n",
       "    .dataframe tbody tr th {\n",
       "        vertical-align: top;\n",
       "    }\n",
       "\n",
       "    .dataframe thead th {\n",
       "        text-align: right;\n",
       "    }\n",
       "</style>\n",
       "<table border=\"1\" class=\"dataframe\">\n",
       "  <thead>\n",
       "    <tr style=\"text-align: right;\">\n",
       "      <th></th>\n",
       "      <th>Name</th>\n",
       "      <th>Location</th>\n",
       "      <th>Price</th>\n",
       "      <th>Year</th>\n",
       "      <th>Kilometers_Driven</th>\n",
       "      <th>Fuel_Type</th>\n",
       "      <th>Transmission</th>\n",
       "      <th>Owner_Type</th>\n",
       "      <th>Mileage</th>\n",
       "      <th>Engine</th>\n",
       "      <th>Power</th>\n",
       "      <th>Seats</th>\n",
       "      <th>New_Price</th>\n",
       "      <th>Owner_Type_Num</th>\n",
       "    </tr>\n",
       "  </thead>\n",
       "  <tbody>\n",
       "    <tr>\n",
       "      <th>0</th>\n",
       "      <td>Maruti Wagon R LXI CNG</td>\n",
       "      <td>Mumbai</td>\n",
       "      <td>2682.68</td>\n",
       "      <td>2010</td>\n",
       "      <td>72000</td>\n",
       "      <td>CNG</td>\n",
       "      <td>Manual</td>\n",
       "      <td>First</td>\n",
       "      <td>26.60</td>\n",
       "      <td>998.0</td>\n",
       "      <td>58.16</td>\n",
       "      <td>5.0</td>\n",
       "      <td>NaN</td>\n",
       "      <td>1</td>\n",
       "    </tr>\n",
       "    <tr>\n",
       "      <th>1</th>\n",
       "      <td>Hyundai Creta 1.6 CRDi SX Option</td>\n",
       "      <td>Pune</td>\n",
       "      <td>19162.00</td>\n",
       "      <td>2015</td>\n",
       "      <td>41000</td>\n",
       "      <td>Diesel</td>\n",
       "      <td>Manual</td>\n",
       "      <td>First</td>\n",
       "      <td>19.67</td>\n",
       "      <td>1582.0</td>\n",
       "      <td>126.20</td>\n",
       "      <td>5.0</td>\n",
       "      <td>NaN</td>\n",
       "      <td>1</td>\n",
       "    </tr>\n",
       "    <tr>\n",
       "      <th>2</th>\n",
       "      <td>Honda Jazz V</td>\n",
       "      <td>Chennai</td>\n",
       "      <td>6898.32</td>\n",
       "      <td>2011</td>\n",
       "      <td>46000</td>\n",
       "      <td>Petrol</td>\n",
       "      <td>Manual</td>\n",
       "      <td>First</td>\n",
       "      <td>18.20</td>\n",
       "      <td>1199.0</td>\n",
       "      <td>88.70</td>\n",
       "      <td>5.0</td>\n",
       "      <td>8.61 Lakh</td>\n",
       "      <td>1</td>\n",
       "    </tr>\n",
       "    <tr>\n",
       "      <th>3</th>\n",
       "      <td>Maruti Ertiga VDI</td>\n",
       "      <td>Chennai</td>\n",
       "      <td>9197.76</td>\n",
       "      <td>2012</td>\n",
       "      <td>87000</td>\n",
       "      <td>Diesel</td>\n",
       "      <td>Manual</td>\n",
       "      <td>First</td>\n",
       "      <td>20.77</td>\n",
       "      <td>1248.0</td>\n",
       "      <td>88.76</td>\n",
       "      <td>7.0</td>\n",
       "      <td>NaN</td>\n",
       "      <td>1</td>\n",
       "    </tr>\n",
       "    <tr>\n",
       "      <th>4</th>\n",
       "      <td>Audi A4 New 2.0 TDI Multitronic</td>\n",
       "      <td>Coimbatore</td>\n",
       "      <td>27194.71</td>\n",
       "      <td>2013</td>\n",
       "      <td>40670</td>\n",
       "      <td>Diesel</td>\n",
       "      <td>Automatic</td>\n",
       "      <td>Second</td>\n",
       "      <td>15.20</td>\n",
       "      <td>1968.0</td>\n",
       "      <td>140.80</td>\n",
       "      <td>5.0</td>\n",
       "      <td>NaN</td>\n",
       "      <td>2</td>\n",
       "    </tr>\n",
       "  </tbody>\n",
       "</table>\n",
       "</div>"
      ],
      "text/plain": [
       "                               Name    Location     Price  Year  \\\n",
       "0            Maruti Wagon R LXI CNG      Mumbai   2682.68  2010   \n",
       "1  Hyundai Creta 1.6 CRDi SX Option        Pune  19162.00  2015   \n",
       "2                      Honda Jazz V     Chennai   6898.32  2011   \n",
       "3                 Maruti Ertiga VDI     Chennai   9197.76  2012   \n",
       "4   Audi A4 New 2.0 TDI Multitronic  Coimbatore  27194.71  2013   \n",
       "\n",
       "   Kilometers_Driven Fuel_Type Transmission Owner_Type  Mileage  Engine  \\\n",
       "0              72000       CNG       Manual      First    26.60   998.0   \n",
       "1              41000    Diesel       Manual      First    19.67  1582.0   \n",
       "2              46000    Petrol       Manual      First    18.20  1199.0   \n",
       "3              87000    Diesel       Manual      First    20.77  1248.0   \n",
       "4              40670    Diesel    Automatic     Second    15.20  1968.0   \n",
       "\n",
       "    Power  Seats  New_Price  Owner_Type_Num  \n",
       "0   58.16    5.0        NaN               1  \n",
       "1  126.20    5.0        NaN               1  \n",
       "2   88.70    5.0  8.61 Lakh               1  \n",
       "3   88.76    7.0        NaN               1  \n",
       "4  140.80    5.0        NaN               2  "
      ]
     },
     "execution_count": 6,
     "metadata": {},
     "output_type": "execute_result"
    }
   ],
   "source": [
    "df.head()"
   ]
  },
  {
   "cell_type": "markdown",
   "id": "95d453ba",
   "metadata": {},
   "source": [
    "- 데이터 타입과 널값을 확인합니다."
   ]
  },
  {
   "cell_type": "code",
   "execution_count": 7,
   "id": "860d54ec",
   "metadata": {},
   "outputs": [
    {
     "name": "stdout",
     "output_type": "stream",
     "text": [
      "<class 'pandas.core.frame.DataFrame'>\n",
      "RangeIndex: 7253 entries, 0 to 7252\n",
      "Data columns (total 14 columns):\n",
      " #   Column             Non-Null Count  Dtype  \n",
      "---  ------             --------------  -----  \n",
      " 0   Name               7253 non-null   object \n",
      " 1   Location           7253 non-null   object \n",
      " 2   Price              6200 non-null   float64\n",
      " 3   Year               7253 non-null   int64  \n",
      " 4   Kilometers_Driven  7253 non-null   int64  \n",
      " 5   Fuel_Type          7253 non-null   object \n",
      " 6   Transmission       7253 non-null   object \n",
      " 7   Owner_Type         7253 non-null   object \n",
      " 8   Mileage            7251 non-null   float64\n",
      " 9   Engine             7207 non-null   float64\n",
      " 10  Power              7078 non-null   float64\n",
      " 11  Seats              7200 non-null   float64\n",
      " 12  New_Price          1006 non-null   object \n",
      " 13  Owner_Type_Num     7253 non-null   int64  \n",
      "dtypes: float64(5), int64(3), object(6)\n",
      "memory usage: 793.4+ KB\n"
     ]
    }
   ],
   "source": [
    "df.info()"
   ]
  },
  {
   "cell_type": "markdown",
   "id": "7fe6f526",
   "metadata": {},
   "source": [
    "- 연속 및 범주형 자료들의 기술통계량을 확인합니다."
   ]
  },
  {
   "cell_type": "code",
   "execution_count": 8,
   "id": "5bc3a0a7",
   "metadata": {},
   "outputs": [
    {
     "data": {
      "text/html": [
       "<div>\n",
       "<style scoped>\n",
       "    .dataframe tbody tr th:only-of-type {\n",
       "        vertical-align: middle;\n",
       "    }\n",
       "\n",
       "    .dataframe tbody tr th {\n",
       "        vertical-align: top;\n",
       "    }\n",
       "\n",
       "    .dataframe thead th {\n",
       "        text-align: right;\n",
       "    }\n",
       "</style>\n",
       "<table border=\"1\" class=\"dataframe\">\n",
       "  <thead>\n",
       "    <tr style=\"text-align: right;\">\n",
       "      <th></th>\n",
       "      <th>Price</th>\n",
       "      <th>Year</th>\n",
       "      <th>Kilometers_Driven</th>\n",
       "      <th>Mileage</th>\n",
       "      <th>Engine</th>\n",
       "      <th>Power</th>\n",
       "      <th>Seats</th>\n",
       "      <th>Owner_Type_Num</th>\n",
       "    </tr>\n",
       "  </thead>\n",
       "  <tbody>\n",
       "    <tr>\n",
       "      <th>count</th>\n",
       "      <td>6200.000000</td>\n",
       "      <td>7253.000000</td>\n",
       "      <td>7.253000e+03</td>\n",
       "      <td>7251.000000</td>\n",
       "      <td>7207.000000</td>\n",
       "      <td>7078.000000</td>\n",
       "      <td>7200.000000</td>\n",
       "      <td>7253.000000</td>\n",
       "    </tr>\n",
       "    <tr>\n",
       "      <th>mean</th>\n",
       "      <td>14912.514750</td>\n",
       "      <td>2013.365366</td>\n",
       "      <td>5.869906e+04</td>\n",
       "      <td>18.141580</td>\n",
       "      <td>1616.573470</td>\n",
       "      <td>112.765214</td>\n",
       "      <td>5.279722</td>\n",
       "      <td>1.201572</td>\n",
       "    </tr>\n",
       "    <tr>\n",
       "      <th>std</th>\n",
       "      <td>17674.318464</td>\n",
       "      <td>3.254421</td>\n",
       "      <td>8.442772e+04</td>\n",
       "      <td>4.562197</td>\n",
       "      <td>595.285137</td>\n",
       "      <td>53.493553</td>\n",
       "      <td>0.811660</td>\n",
       "      <td>0.456808</td>\n",
       "    </tr>\n",
       "    <tr>\n",
       "      <th>min</th>\n",
       "      <td>7.080000</td>\n",
       "      <td>1996.000000</td>\n",
       "      <td>1.710000e+02</td>\n",
       "      <td>0.000000</td>\n",
       "      <td>72.000000</td>\n",
       "      <td>34.200000</td>\n",
       "      <td>0.000000</td>\n",
       "      <td>1.000000</td>\n",
       "    </tr>\n",
       "    <tr>\n",
       "      <th>25%</th>\n",
       "      <td>5365.360000</td>\n",
       "      <td>2011.000000</td>\n",
       "      <td>3.400000e+04</td>\n",
       "      <td>15.170000</td>\n",
       "      <td>1198.000000</td>\n",
       "      <td>75.000000</td>\n",
       "      <td>5.000000</td>\n",
       "      <td>1.000000</td>\n",
       "    </tr>\n",
       "    <tr>\n",
       "      <th>50%</th>\n",
       "      <td>8814.520000</td>\n",
       "      <td>2014.000000</td>\n",
       "      <td>5.341600e+04</td>\n",
       "      <td>18.160000</td>\n",
       "      <td>1493.000000</td>\n",
       "      <td>94.000000</td>\n",
       "      <td>5.000000</td>\n",
       "      <td>1.000000</td>\n",
       "    </tr>\n",
       "    <tr>\n",
       "      <th>75%</th>\n",
       "      <td>15869.972500</td>\n",
       "      <td>2016.000000</td>\n",
       "      <td>7.300000e+04</td>\n",
       "      <td>21.100000</td>\n",
       "      <td>1968.000000</td>\n",
       "      <td>138.100000</td>\n",
       "      <td>5.000000</td>\n",
       "      <td>1.000000</td>\n",
       "    </tr>\n",
       "    <tr>\n",
       "      <th>max</th>\n",
       "      <td>245273.600000</td>\n",
       "      <td>2019.000000</td>\n",
       "      <td>6.500000e+06</td>\n",
       "      <td>33.540000</td>\n",
       "      <td>5998.000000</td>\n",
       "      <td>616.000000</td>\n",
       "      <td>10.000000</td>\n",
       "      <td>4.000000</td>\n",
       "    </tr>\n",
       "  </tbody>\n",
       "</table>\n",
       "</div>"
      ],
      "text/plain": [
       "               Price         Year  Kilometers_Driven      Mileage  \\\n",
       "count    6200.000000  7253.000000       7.253000e+03  7251.000000   \n",
       "mean    14912.514750  2013.365366       5.869906e+04    18.141580   \n",
       "std     17674.318464     3.254421       8.442772e+04     4.562197   \n",
       "min         7.080000  1996.000000       1.710000e+02     0.000000   \n",
       "25%      5365.360000  2011.000000       3.400000e+04    15.170000   \n",
       "50%      8814.520000  2014.000000       5.341600e+04    18.160000   \n",
       "75%     15869.972500  2016.000000       7.300000e+04    21.100000   \n",
       "max    245273.600000  2019.000000       6.500000e+06    33.540000   \n",
       "\n",
       "            Engine        Power        Seats  Owner_Type_Num  \n",
       "count  7207.000000  7078.000000  7200.000000     7253.000000  \n",
       "mean   1616.573470   112.765214     5.279722        1.201572  \n",
       "std     595.285137    53.493553     0.811660        0.456808  \n",
       "min      72.000000    34.200000     0.000000        1.000000  \n",
       "25%    1198.000000    75.000000     5.000000        1.000000  \n",
       "50%    1493.000000    94.000000     5.000000        1.000000  \n",
       "75%    1968.000000   138.100000     5.000000        1.000000  \n",
       "max    5998.000000   616.000000    10.000000        4.000000  "
      ]
     },
     "execution_count": 8,
     "metadata": {},
     "output_type": "execute_result"
    }
   ],
   "source": [
    "df.describe()"
   ]
  },
  {
   "cell_type": "code",
   "execution_count": 9,
   "id": "b807a9fa",
   "metadata": {},
   "outputs": [
    {
     "data": {
      "text/html": [
       "<div>\n",
       "<style scoped>\n",
       "    .dataframe tbody tr th:only-of-type {\n",
       "        vertical-align: middle;\n",
       "    }\n",
       "\n",
       "    .dataframe tbody tr th {\n",
       "        vertical-align: top;\n",
       "    }\n",
       "\n",
       "    .dataframe thead th {\n",
       "        text-align: right;\n",
       "    }\n",
       "</style>\n",
       "<table border=\"1\" class=\"dataframe\">\n",
       "  <thead>\n",
       "    <tr style=\"text-align: right;\">\n",
       "      <th></th>\n",
       "      <th>Name</th>\n",
       "      <th>Location</th>\n",
       "      <th>Fuel_Type</th>\n",
       "      <th>Transmission</th>\n",
       "      <th>Owner_Type</th>\n",
       "      <th>New_Price</th>\n",
       "    </tr>\n",
       "  </thead>\n",
       "  <tbody>\n",
       "    <tr>\n",
       "      <th>count</th>\n",
       "      <td>7253</td>\n",
       "      <td>7253</td>\n",
       "      <td>7253</td>\n",
       "      <td>7253</td>\n",
       "      <td>7253</td>\n",
       "      <td>1006</td>\n",
       "    </tr>\n",
       "    <tr>\n",
       "      <th>unique</th>\n",
       "      <td>2041</td>\n",
       "      <td>11</td>\n",
       "      <td>5</td>\n",
       "      <td>2</td>\n",
       "      <td>4</td>\n",
       "      <td>625</td>\n",
       "    </tr>\n",
       "    <tr>\n",
       "      <th>top</th>\n",
       "      <td>Mahindra XUV500 W8 2WD</td>\n",
       "      <td>Mumbai</td>\n",
       "      <td>Diesel</td>\n",
       "      <td>Manual</td>\n",
       "      <td>First</td>\n",
       "      <td>63.71 Lakh</td>\n",
       "    </tr>\n",
       "    <tr>\n",
       "      <th>freq</th>\n",
       "      <td>55</td>\n",
       "      <td>949</td>\n",
       "      <td>3852</td>\n",
       "      <td>5204</td>\n",
       "      <td>5952</td>\n",
       "      <td>6</td>\n",
       "    </tr>\n",
       "  </tbody>\n",
       "</table>\n",
       "</div>"
      ],
      "text/plain": [
       "                          Name Location Fuel_Type Transmission Owner_Type  \\\n",
       "count                     7253     7253      7253         7253       7253   \n",
       "unique                    2041       11         5            2          4   \n",
       "top     Mahindra XUV500 W8 2WD   Mumbai    Diesel       Manual      First   \n",
       "freq                        55      949      3852         5204       5952   \n",
       "\n",
       "         New_Price  \n",
       "count         1006  \n",
       "unique         625  \n",
       "top     63.71 Lakh  \n",
       "freq             6  "
      ]
     },
     "execution_count": 9,
     "metadata": {},
     "output_type": "execute_result"
    }
   ],
   "source": [
    "df.describe(include = 'object')"
   ]
  },
  {
   "cell_type": "markdown",
   "id": "65cb4e9c",
   "metadata": {},
   "source": [
    "- 약 7300개의 데이터 행개수의 대다수가 널값인 New_Price 열은 지워주었습니다"
   ]
  },
  {
   "cell_type": "code",
   "execution_count": 10,
   "id": "b128ffa5",
   "metadata": {},
   "outputs": [],
   "source": [
    "df.drop(labels = 'New_Price', axis = 1, inplace = True)"
   ]
  },
  {
   "cell_type": "markdown",
   "id": "0d30da99",
   "metadata": {},
   "source": [
    "- Engine과 Power, Mileage 값의 경우 회귀모델을 설계하여 널값을 제외한 값들로 학습시키고 비어있는 값들을 에측하여 넣어주었습니다. 200개정도의 널값이 있었기에 과적합의 우려가 적을것이라 판단했습니다."
   ]
  },
  {
   "cell_type": "code",
   "execution_count": 11,
   "id": "78dc260f",
   "metadata": {},
   "outputs": [],
   "source": [
    "missing_engine_indices = df[df['Engine'].isnull() | (df['Engine'] == 0)].index\n",
    "\n",
    "imputer = SimpleImputer(strategy='mean')\n",
    "df[['Engine', 'Power', 'Mileage']] = imputer.fit_transform(df[['Engine', 'Power', 'Mileage']])\n",
    "\n",
    "engine_data = df[['Engine', 'Power', 'Year', 'Kilometers_Driven', 'Fuel_Type', 'Transmission', 'Owner_Type', 'Mileage']]\n",
    "engine_data = pd.get_dummies(engine_data, columns=['Fuel_Type', 'Transmission', 'Owner_Type'], drop_first=True)\n",
    "\n",
    "train_data = engine_data[engine_data['Engine'].notnull() | (engine_data['Engine'] == 0)]\n",
    "predict_data = engine_data.loc[missing_engine_indices]\n",
    "\n",
    "X_train = train_data.drop('Engine', axis=1)\n",
    "y_train = train_data['Engine']\n",
    "X_predict = predict_data.drop('Engine', axis=1)\n",
    "\n",
    "if not X_predict.empty:\n",
    "    engine_model = RandomForestRegressor(n_estimators=100, random_state=42)\n",
    "    engine_model.fit(X_train, y_train)\n",
    "\n",
    "    predicted_engines = engine_model.predict(X_predict)\n",
    "    df.loc[missing_engine_indices, 'Engine'] = predicted_engines"
   ]
  },
  {
   "cell_type": "code",
   "execution_count": 12,
   "id": "fa184e05",
   "metadata": {},
   "outputs": [],
   "source": [
    "missing_power_indices = df[df['Power'].isnull() | (df['Power'] == 0)].index\n",
    "\n",
    "power_data = df[['Power', 'Engine', 'Year', 'Kilometers_Driven', 'Fuel_Type', 'Transmission', 'Owner_Type', 'Mileage']]\n",
    "power_data = pd.get_dummies(power_data, columns=['Fuel_Type', 'Transmission', 'Owner_Type'], drop_first=True)\n",
    "\n",
    "train_data = power_data[power_data['Power'].notnull()| (engine_data['Power'] == 0)]\n",
    "predict_data = power_data.loc[missing_power_indices]\n",
    "\n",
    "X_train = train_data.drop('Power', axis=1)\n",
    "y_train = train_data['Power']\n",
    "X_predict = predict_data.drop('Power', axis=1)\n",
    "\n",
    "if not X_predict.empty:\n",
    "    power_model = RandomForestRegressor(n_estimators=100, random_state=42)\n",
    "    power_model.fit(X_train, y_train)\n",
    "\n",
    "    predicted_powers = power_model.predict(X_predict)\n",
    "    df.loc[missing_power_indices, 'Power'] = predicted_powersMaruti"
   ]
  },
  {
   "cell_type": "code",
   "execution_count": 13,
   "id": "8a172702",
   "metadata": {},
   "outputs": [],
   "source": [
    "# missing_mileage_indices = df[df['Mileage'].isnull() | (df['Mileage'] == 0)].index\n",
    "\n",
    "# mileage_data = df[['Power', 'Engine', 'Year', 'Kilometers_Driven', 'Fuel_Type', 'Transmission', 'Owner_Type', 'Mileage']]\n",
    "# mileage_data = pd.get_dummies(mileage_data, columns=['Fuel_Type', 'Transmission', 'Owner_Type'], drop_first=True)\n",
    "\n",
    "# train_data = mileage_data[mileage_data['Mileage'].notnull() | (engine_data['Mileage'] == 0)]\n",
    "# predict_data = mileage_data.loc[missing_mileage_indices]\n",
    "\n",
    "# X_train = train_data.drop('Mileage', axis=1)\n",
    "# y_train = train_data['Mileage']\n",
    "# X_predict = predict_data.drop('Mileage', axis=1)\n",
    "\n",
    "# X_train, X_val, y_train, y_val = train_test_split(X_train, y_train, test_size=0.2, random_state=42)\n",
    "\n",
    "# if not X_predict.empty:\n",
    "#     param_grid = {\n",
    "#         'n_estimators': [50 * i for i in range(1, 6)], \n",
    "#         'max_depth': [i for i in range(1, 11)],\n",
    "#         'min_samples_split': [10 * i for i in range(1, 11)], \n",
    "#         'min_samples_leaf': [5 * i for i in range(1, 6)]\n",
    "#     }\n",
    "\n",
    "#     grid_search = GridSearchCV(estimator=RandomForestRegressor(random_state=42), param_grid=param_grid, cv=5, n_jobs=-1)\n",
    "#     grid_search.fit(X_train, y_train)\n",
    "\n",
    "#     best_params = grid_search.best_params_\n",
    "#     print(\"Best Parameters:\", best_params)\n",
    "\n",
    "#     best_model = grid_search.best_estimator_\n",
    "#     predicted_mileages = best_model.predict(X_predict)\n",
    "\n",
    "#     df.loc[missing_mileage_indices, 'Mileage'] = predicted_mileages"
   ]
  },
  {
   "cell_type": "code",
   "execution_count": 14,
   "id": "22ad33b3",
   "metadata": {},
   "outputs": [],
   "source": [
    "missing_mileage_indices = df[df['Mileage'].isnull() | (df['Mileage'] == 0)].index\n",
    "\n",
    "mileage_data = df[['Power', 'Engine', 'Year', 'Kilometers_Driven', 'Fuel_Type', 'Transmission', 'Owner_Type', 'Mileage']]\n",
    "mileage_data = pd.get_dummies(mileage_data, columns=['Fuel_Type', 'Transmission', 'Owner_Type'], drop_first=True)\n",
    "\n",
    "train_data = mileage_data[mileage_data['Mileage'].notnull() | (engine_data['Mileage'] == 0)]\n",
    "predict_data = mileage_data.loc[missing_mileage_indices]\n",
    "\n",
    "X_train = train_data.drop('Mileage', axis=1)\n",
    "y_train = train_data['Mileage']\n",
    "X_predict = predict_data.drop('Mileage', axis=1)\n",
    "\n",
    "if not X_predict.empty:\n",
    "    mileages_model = RandomForestRegressor(max_depth = 10, min_samples_leaf = 5, min_samples_split = 10, n_estimators = 250, random_state=42)\n",
    "    mileages_model.fit(X_train, y_train)\n",
    "    \n",
    "    predicted_mileages = mileages_model.predict(X_predict)\n",
    "    df.loc[missing_mileage_indices, 'Mileage'] = predicted_mileages"
   ]
  },
  {
   "cell_type": "code",
   "execution_count": 15,
   "id": "bdb94278",
   "metadata": {},
   "outputs": [],
   "source": [
    "# val_predictions = best_model.predict(X_val)\n",
    "# print(\"Validation MAE:\", mean_absolute_error(y_val, val_predictions))\n",
    "# print(\"Validation MSE:\", mean_squared_error(y_val, val_predictions))\n",
    "# print(\"Validation RMSE:\", np.sqrt(mean_squared_error(y_val, val_predictions)))\n",
    "# print(\"Validation R^2 Score:\", r2_score(y_val, val_predictions))\n",
    "\n",
    "# predicted_mileages = best_model.predict(X_predict)\n",
    "# df.loc[missing_mileage_indices, 'Mileage'] = predicted_mileages"
   ]
  },
  {
   "cell_type": "markdown",
   "id": "08a7dd79",
   "metadata": {},
   "source": [
    "- 연도는 현재 년도 기준으로 개별 값들을 빼주어 계산하였습니다."
   ]
  },
  {
   "cell_type": "code",
   "execution_count": 16,
   "id": "eea96f7f",
   "metadata": {},
   "outputs": [],
   "source": [
    "df['Year'] = 2024 - df['Year']"
   ]
  },
  {
   "cell_type": "markdown",
   "id": "d2525a47",
   "metadata": {},
   "source": [
    "- 가설 수립 및 예측 모델링 과정에서 편의성을 높여주기 위해서 파생변수들을 생성하였습니다."
   ]
  },
  {
   "cell_type": "code",
   "execution_count": 17,
   "id": "2d9b34fd",
   "metadata": {},
   "outputs": [],
   "source": [
    "df['Location_income'] = df['Location'].apply(classify_city_income)\n",
    "df['Car_cate'] = df['Seats'].apply(classify_car_by_seats)\n",
    "df['Brand'] = df['Name'].apply(lambda x :x.split()[0])\n",
    "df['Brand_Category'] = df['Brand'].str.split().str[0].map(brand_categories).fillna('Unknown')\n",
    "df['Ownership_Level'] = df['Owner_Type'].apply(lambda x: 'Little' if x in ['First', 'Second'] else 'Much')\n",
    "df['brand_Region'] = df['Brand'].map(brand_region)"
   ]
  },
  {
   "cell_type": "markdown",
   "id": "5fab17da",
   "metadata": {},
   "source": [
    "- Seats 값의 경우 7인 모델하나를 제외하고 나머지 모델은 전부 5인승이기에 서칭한 데이터를 기반으로 값을 넣어주었습니다."
   ]
  },
  {
   "cell_type": "code",
   "execution_count": 18,
   "id": "f00648d1",
   "metadata": {},
   "outputs": [],
   "source": [
    "condition = (df['Seats'].isnull() & (df['Name'] == 'Mahindra TUV 300 P4'))\n",
    "df.loc[condition, 'Seats'] = 7\n",
    "\n",
    "condition1 = (df['Seats'].isnull() & (df['Name'] != 'Mahindra TUV 300 P4'))\n",
    "df.loc[condition1, 'Seats'] = 5\n",
    "\n",
    "df.loc[3999, 'Seats'] = 5"
   ]
  },
  {
   "cell_type": "code",
   "execution_count": 19,
   "id": "41e7ee5b",
   "metadata": {},
   "outputs": [
    {
     "name": "stdout",
     "output_type": "stream",
     "text": [
      "<class 'pandas.core.frame.DataFrame'>\n",
      "RangeIndex: 7253 entries, 0 to 7252\n",
      "Data columns (total 19 columns):\n",
      " #   Column             Non-Null Count  Dtype  \n",
      "---  ------             --------------  -----  \n",
      " 0   Name               7253 non-null   object \n",
      " 1   Location           7253 non-null   object \n",
      " 2   Price              6200 non-null   float64\n",
      " 3   Year               7253 non-null   int64  \n",
      " 4   Kilometers_Driven  7253 non-null   int64  \n",
      " 5   Fuel_Type          7253 non-null   object \n",
      " 6   Transmission       7253 non-null   object \n",
      " 7   Owner_Type         7253 non-null   object \n",
      " 8   Mileage            7253 non-null   float64\n",
      " 9   Engine             7253 non-null   float64\n",
      " 10  Power              7253 non-null   float64\n",
      " 11  Seats              7253 non-null   float64\n",
      " 12  Owner_Type_Num     7253 non-null   int64  \n",
      " 13  Location_income    7253 non-null   object \n",
      " 14  Car_cate           7253 non-null   object \n",
      " 15  Brand              7253 non-null   object \n",
      " 16  Brand_Category     7253 non-null   object \n",
      " 17  Ownership_Level    7253 non-null   object \n",
      " 18  brand_Region       7253 non-null   object \n",
      "dtypes: float64(5), int64(3), object(11)\n",
      "memory usage: 1.1+ MB\n"
     ]
    }
   ],
   "source": [
    "df.info()"
   ]
  },
  {
   "cell_type": "code",
   "execution_count": 20,
   "id": "8e8e2d14",
   "metadata": {},
   "outputs": [
    {
     "data": {
      "text/html": [
       "<div>\n",
       "<style scoped>\n",
       "    .dataframe tbody tr th:only-of-type {\n",
       "        vertical-align: middle;\n",
       "    }\n",
       "\n",
       "    .dataframe tbody tr th {\n",
       "        vertical-align: top;\n",
       "    }\n",
       "\n",
       "    .dataframe thead th {\n",
       "        text-align: right;\n",
       "    }\n",
       "</style>\n",
       "<table border=\"1\" class=\"dataframe\">\n",
       "  <thead>\n",
       "    <tr style=\"text-align: right;\">\n",
       "      <th></th>\n",
       "      <th>Price</th>\n",
       "      <th>Year</th>\n",
       "      <th>Kilometers_Driven</th>\n",
       "      <th>Mileage</th>\n",
       "      <th>Engine</th>\n",
       "      <th>Power</th>\n",
       "      <th>Seats</th>\n",
       "      <th>Owner_Type_Num</th>\n",
       "    </tr>\n",
       "  </thead>\n",
       "  <tbody>\n",
       "    <tr>\n",
       "      <th>count</th>\n",
       "      <td>6200.000000</td>\n",
       "      <td>7253.000000</td>\n",
       "      <td>7.253000e+03</td>\n",
       "      <td>7253.000000</td>\n",
       "      <td>7253.000000</td>\n",
       "      <td>7253.000000</td>\n",
       "      <td>7253.000000</td>\n",
       "      <td>7253.000000</td>\n",
       "    </tr>\n",
       "    <tr>\n",
       "      <th>mean</th>\n",
       "      <td>14912.514750</td>\n",
       "      <td>10.634634</td>\n",
       "      <td>5.869906e+04</td>\n",
       "      <td>18.225855</td>\n",
       "      <td>1616.238304</td>\n",
       "      <td>112.765214</td>\n",
       "      <td>5.278643</td>\n",
       "      <td>1.201572</td>\n",
       "    </tr>\n",
       "    <tr>\n",
       "      <th>std</th>\n",
       "      <td>17674.318464</td>\n",
       "      <td>3.254421</td>\n",
       "      <td>8.442772e+04</td>\n",
       "      <td>4.305160</td>\n",
       "      <td>593.439536</td>\n",
       "      <td>52.844178</td>\n",
       "      <td>0.806915</td>\n",
       "      <td>0.456808</td>\n",
       "    </tr>\n",
       "    <tr>\n",
       "      <th>min</th>\n",
       "      <td>7.080000</td>\n",
       "      <td>5.000000</td>\n",
       "      <td>1.710000e+02</td>\n",
       "      <td>2.039230</td>\n",
       "      <td>72.000000</td>\n",
       "      <td>34.200000</td>\n",
       "      <td>2.000000</td>\n",
       "      <td>1.000000</td>\n",
       "    </tr>\n",
       "    <tr>\n",
       "      <th>25%</th>\n",
       "      <td>5365.360000</td>\n",
       "      <td>8.000000</td>\n",
       "      <td>3.400000e+04</td>\n",
       "      <td>15.200000</td>\n",
       "      <td>1198.000000</td>\n",
       "      <td>77.000000</td>\n",
       "      <td>5.000000</td>\n",
       "      <td>1.000000</td>\n",
       "    </tr>\n",
       "    <tr>\n",
       "      <th>50%</th>\n",
       "      <td>8814.520000</td>\n",
       "      <td>10.000000</td>\n",
       "      <td>5.341600e+04</td>\n",
       "      <td>18.160000</td>\n",
       "      <td>1493.000000</td>\n",
       "      <td>98.600000</td>\n",
       "      <td>5.000000</td>\n",
       "      <td>1.000000</td>\n",
       "    </tr>\n",
       "    <tr>\n",
       "      <th>75%</th>\n",
       "      <td>15869.972500</td>\n",
       "      <td>13.000000</td>\n",
       "      <td>7.300000e+04</td>\n",
       "      <td>21.100000</td>\n",
       "      <td>1968.000000</td>\n",
       "      <td>138.030000</td>\n",
       "      <td>5.000000</td>\n",
       "      <td>1.000000</td>\n",
       "    </tr>\n",
       "    <tr>\n",
       "      <th>max</th>\n",
       "      <td>245273.600000</td>\n",
       "      <td>28.000000</td>\n",
       "      <td>6.500000e+06</td>\n",
       "      <td>33.540000</td>\n",
       "      <td>5998.000000</td>\n",
       "      <td>616.000000</td>\n",
       "      <td>10.000000</td>\n",
       "      <td>4.000000</td>\n",
       "    </tr>\n",
       "  </tbody>\n",
       "</table>\n",
       "</div>"
      ],
      "text/plain": [
       "               Price         Year  Kilometers_Driven      Mileage  \\\n",
       "count    6200.000000  7253.000000       7.253000e+03  7253.000000   \n",
       "mean    14912.514750    10.634634       5.869906e+04    18.225855   \n",
       "std     17674.318464     3.254421       8.442772e+04     4.305160   \n",
       "min         7.080000     5.000000       1.710000e+02     2.039230   \n",
       "25%      5365.360000     8.000000       3.400000e+04    15.200000   \n",
       "50%      8814.520000    10.000000       5.341600e+04    18.160000   \n",
       "75%     15869.972500    13.000000       7.300000e+04    21.100000   \n",
       "max    245273.600000    28.000000       6.500000e+06    33.540000   \n",
       "\n",
       "            Engine        Power        Seats  Owner_Type_Num  \n",
       "count  7253.000000  7253.000000  7253.000000     7253.000000  \n",
       "mean   1616.238304   112.765214     5.278643        1.201572  \n",
       "std     593.439536    52.844178     0.806915        0.456808  \n",
       "min      72.000000    34.200000     2.000000        1.000000  \n",
       "25%    1198.000000    77.000000     5.000000        1.000000  \n",
       "50%    1493.000000    98.600000     5.000000        1.000000  \n",
       "75%    1968.000000   138.030000     5.000000        1.000000  \n",
       "max    5998.000000   616.000000    10.000000        4.000000  "
      ]
     },
     "execution_count": 20,
     "metadata": {},
     "output_type": "execute_result"
    }
   ],
   "source": [
    "df.describe()"
   ]
  },
  {
   "cell_type": "code",
   "execution_count": 21,
   "id": "8a1ade09",
   "metadata": {},
   "outputs": [
    {
     "data": {
      "text/html": [
       "<div>\n",
       "<style scoped>\n",
       "    .dataframe tbody tr th:only-of-type {\n",
       "        vertical-align: middle;\n",
       "    }\n",
       "\n",
       "    .dataframe tbody tr th {\n",
       "        vertical-align: top;\n",
       "    }\n",
       "\n",
       "    .dataframe thead th {\n",
       "        text-align: right;\n",
       "    }\n",
       "</style>\n",
       "<table border=\"1\" class=\"dataframe\">\n",
       "  <thead>\n",
       "    <tr style=\"text-align: right;\">\n",
       "      <th></th>\n",
       "      <th>Name</th>\n",
       "      <th>Location</th>\n",
       "      <th>Fuel_Type</th>\n",
       "      <th>Transmission</th>\n",
       "      <th>Owner_Type</th>\n",
       "      <th>Location_income</th>\n",
       "      <th>Car_cate</th>\n",
       "      <th>Brand</th>\n",
       "      <th>Brand_Category</th>\n",
       "      <th>Ownership_Level</th>\n",
       "      <th>brand_Region</th>\n",
       "    </tr>\n",
       "  </thead>\n",
       "  <tbody>\n",
       "    <tr>\n",
       "      <th>count</th>\n",
       "      <td>7253</td>\n",
       "      <td>7253</td>\n",
       "      <td>7253</td>\n",
       "      <td>7253</td>\n",
       "      <td>7253</td>\n",
       "      <td>7253</td>\n",
       "      <td>7253</td>\n",
       "      <td>7253</td>\n",
       "      <td>7253</td>\n",
       "      <td>7253</td>\n",
       "      <td>7253</td>\n",
       "    </tr>\n",
       "    <tr>\n",
       "      <th>unique</th>\n",
       "      <td>2041</td>\n",
       "      <td>11</td>\n",
       "      <td>5</td>\n",
       "      <td>2</td>\n",
       "      <td>4</td>\n",
       "      <td>3</td>\n",
       "      <td>5</td>\n",
       "      <td>32</td>\n",
       "      <td>5</td>\n",
       "      <td>2</td>\n",
       "      <td>6</td>\n",
       "    </tr>\n",
       "    <tr>\n",
       "      <th>top</th>\n",
       "      <td>Mahindra XUV500 W8 2WD</td>\n",
       "      <td>Mumbai</td>\n",
       "      <td>Diesel</td>\n",
       "      <td>Manual</td>\n",
       "      <td>First</td>\n",
       "      <td>Median</td>\n",
       "      <td>Standard Car</td>\n",
       "      <td>Maruti</td>\n",
       "      <td>Mainstream</td>\n",
       "      <td>Little</td>\n",
       "      <td>India</td>\n",
       "    </tr>\n",
       "    <tr>\n",
       "      <th>freq</th>\n",
       "      <td>55</td>\n",
       "      <td>949</td>\n",
       "      <td>3852</td>\n",
       "      <td>5204</td>\n",
       "      <td>5952</td>\n",
       "      <td>3342</td>\n",
       "      <td>6047</td>\n",
       "      <td>1444</td>\n",
       "      <td>3619</td>\n",
       "      <td>7104</td>\n",
       "      <td>2003</td>\n",
       "    </tr>\n",
       "  </tbody>\n",
       "</table>\n",
       "</div>"
      ],
      "text/plain": [
       "                          Name Location Fuel_Type Transmission Owner_Type  \\\n",
       "count                     7253     7253      7253         7253       7253   \n",
       "unique                    2041       11         5            2          4   \n",
       "top     Mahindra XUV500 W8 2WD   Mumbai    Diesel       Manual      First   \n",
       "freq                        55      949      3852         5204       5952   \n",
       "\n",
       "       Location_income      Car_cate   Brand Brand_Category Ownership_Level  \\\n",
       "count             7253          7253    7253           7253            7253   \n",
       "unique               3             5      32              5               2   \n",
       "top             Median  Standard Car  Maruti     Mainstream          Little   \n",
       "freq              3342          6047    1444           3619            7104   \n",
       "\n",
       "       brand_Region  \n",
       "count          7253  \n",
       "unique            6  \n",
       "top           India  \n",
       "freq           2003  "
      ]
     },
     "execution_count": 21,
     "metadata": {},
     "output_type": "execute_result"
    }
   ],
   "source": [
    "df.describe(include = 'object')"
   ]
  },
  {
   "cell_type": "markdown",
   "id": "0e0cbf29",
   "metadata": {},
   "source": [
    "# <span style=\"color:red\"> 그래프 분석 및 이상치 제거</span>"
   ]
  },
  {
   "cell_type": "code",
   "execution_count": null,
   "id": "068905db",
   "metadata": {},
   "outputs": [],
   "source": [
    "sns.set(style=\"whitegrid\")\n",
    "\n",
    "# 서브플롯 생성\n",
    "fig, ax = plt.subplots(1, 4, figsize=(16, 5), sharey=True)\n",
    "\n",
    "# 박스플롯 그리기\n",
    "sns.boxplot(x=df['Kilometers_Driven'], ax=ax[0], color=\"lightblue\")\n",
    "ax[0].set_title(\"Kilometers Driven\")\n",
    "\n",
    "sns.boxplot(x=df['Mileage'], ax=ax[1], color=\"lightgreen\")\n",
    "ax[1].set_title(\"Mileage\")\n",
    "\n",
    "sns.boxplot(x=df['Engine'], ax=ax[2], color=\"lightcoral\")\n",
    "ax[2].set_title(\"Engine\")\n",
    "\n",
    "sns.boxplot(x=df['Power'], ax=ax[3], color=\"lightgoldenrodyellow\")\n",
    "ax[3].set_title(\"Power\")\n",
    "\n",
    "# 전체 제목 및 레이아웃 조정\n",
    "fig.suptitle(\"Boxplots of Car Features\", fontsize=16)\n",
    "plt.tight_layout(rect=[0, 0, 1, 0.95])\n",
    "plt.show()"
   ]
  },
  {
   "cell_type": "markdown",
   "id": "ab77ffe6",
   "metadata": {},
   "source": [
    "- 상용차 기준 Kilometers_Driven의 값이 300,000이상인 데이터는 이상치로 판단하여 제거하였습니다."
   ]
  },
  {
   "cell_type": "code",
   "execution_count": null,
   "id": "75a6269f",
   "metadata": {},
   "outputs": [],
   "source": [
    "df.drop(df[df['Kilometers_Driven'] > 300000].index, inplace=True)"
   ]
  },
  {
   "cell_type": "markdown",
   "id": "a258dbf8",
   "metadata": {},
   "source": [
    "- 표준주행거리가 너무 낮게 나오는 데이터도 이상치로 판단하여 제거하였습니다."
   ]
  },
  {
   "cell_type": "code",
   "execution_count": null,
   "id": "932f788f",
   "metadata": {},
   "outputs": [],
   "source": [
    "df.drop(df[df['Mileage'] < 5].index, inplace=True)"
   ]
  },
  {
   "cell_type": "markdown",
   "id": "830f67fb",
   "metadata": {},
   "source": [
    "- 엔진cc는 고급형이 아닌차가 수치가 높게 나오는 경우 이상치로 간주하여 제거하였습니다. 너무 낮은 값도 제거하였습니다."
   ]
  },
  {
   "cell_type": "code",
   "execution_count": null,
   "id": "1a8a4074",
   "metadata": {},
   "outputs": [],
   "source": [
    "df = df.drop(df[(df['Engine'] > 4000) & (~df['Brand_Category'].isin(['Luxury', 'Premium']))].index)\n",
    "df = df.drop(df[df['Engine'] < 800].index)"
   ]
  },
  {
   "cell_type": "markdown",
   "id": "6254ccc1",
   "metadata": {},
   "source": [
    "- 마력 수치는 고급형이 아닌차가 수치가 높게 나오는 경우 이상치로 간주하여 제거하였습니다. 너무 낮은 값도 제거하였습니다."
   ]
  },
  {
   "cell_type": "code",
   "execution_count": null,
   "id": "db1705a3",
   "metadata": {
    "scrolled": true
   },
   "outputs": [],
   "source": [
    "df.drop(df[(df['Power'] > 400) & (~df['Brand_Category'].isin(['Luxury', 'Premium']))].index)\n",
    "df.drop(df[(df['Power'] < 60)].index)"
   ]
  },
  {
   "cell_type": "markdown",
   "id": "f2b7c544",
   "metadata": {},
   "source": [
    "columns_to_encode = ['Transmission', 'Owner_Type', 'Fuel_Type', 'Owner_Type', 'Location_income','Car_cate','Brand_Category']\n",
    "\n",
    "df = pd.get_dummies(df, columns=columns_to_encode)"
   ]
  },
  {
   "cell_type": "code",
   "execution_count": null,
   "id": "cb320355",
   "metadata": {},
   "outputs": [],
   "source": [
    "sns.set(style=\"whitegrid\")\n",
    "sns.scatterplot(x=df['Kilometers_Driven'], y=df['Price'], \n",
    "                hue=df['Brand_Category'],  # 색상으로 브랜드 구분\n",
    "                palette='viridis',  # 색상 팔레트\n",
    "                s=100,  # 점의 크기\n",
    "                edgecolor='w',  # 점의 가장자리 색상\n",
    "                alpha=0.7)"
   ]
  },
  {
   "cell_type": "code",
   "execution_count": null,
   "id": "786a8efa",
   "metadata": {},
   "outputs": [],
   "source": [
    "sns.scatterplot(x=df['Year'], y=df['Price'], \n",
    "                hue=df['Brand_Category'],  # 색상으로 브랜드 구분\n",
    "                palette='viridis',  # 색상 팔레트\n",
    "                s=100,  # 점의 크기\n",
    "                edgecolor='w',  # 점의 가장자리 색상\n",
    "                alpha=0.7)"
   ]
  },
  {
   "cell_type": "code",
   "execution_count": null,
   "id": "fb33b460",
   "metadata": {},
   "outputs": [],
   "source": [
    "sns.scatterplot(x=df['Mileage'], y=df['Price'], \n",
    "                hue=df['Brand_Category'],  # 색상으로 브랜드 구분\n",
    "                palette='viridis',  # 색상 팔레트\n",
    "                s=100,  # 점의 크기\n",
    "                edgecolor='w',  # 점의 가장자리 색상\n",
    "                alpha=0.7)"
   ]
  },
  {
   "cell_type": "code",
   "execution_count": null,
   "id": "e9230e17",
   "metadata": {},
   "outputs": [],
   "source": [
    "sns.scatterplot(x=df['Engine'], y=df['Price'], \n",
    "                hue=df['Brand_Category'],  # 색상으로 브랜드 구분\n",
    "                palette='viridis',  # 색상 팔레트\n",
    "                s=100,  # 점의 크기\n",
    "                edgecolor='w',  # 점의 가장자리 색상\n",
    "                alpha=0.7)"
   ]
  },
  {
   "cell_type": "code",
   "execution_count": null,
   "id": "814bfd50",
   "metadata": {},
   "outputs": [],
   "source": [
    "sns.scatterplot(x=df['Power'], y=df['Price'], \n",
    "                hue=df['Brand_Category'],  # 색상으로 브랜드 구분\n",
    "                palette='viridis',  # 색상 팔레트\n",
    "                s=100,  # 점의 크기\n",
    "                edgecolor='w',  # 점의 가장자리 색상\n",
    "                alpha=0.7)"
   ]
  },
  {
   "cell_type": "code",
   "execution_count": null,
   "id": "ea1d6d0f",
   "metadata": {
    "scrolled": false
   },
   "outputs": [],
   "source": [
    "dummies = [\"Fuel_Type\", \"Transmission\", \"Owner_Type\", \"Location_income\", \"Car_cate\", \"Brand_Category\", \"Ownership_Level\", \"brand_Region\"]\n",
    "for dum in dummies:\n",
    "    plt.figure(figsize=(30,10))\n",
    "    sns.set_theme(style=\"whitegrid\")\n",
    "    sns.boxplot(x=dum, y=\"Price\", \n",
    "                data=df, palette=\"Set3\")\n",
    "    \n",
    "    plt.title(\"Price by \"+ dum, fontsize=30, y=1.03)\n",
    "    \n",
    "    plt.xticks(fontsize=13)\n",
    "    plt.xlabel(dum, fontsize=22, labelpad=20)\n",
    "    \n",
    "    plt.yticks(fontsize=20)\n",
    "    plt.ylabel(\"Price\", fontsize=22, labelpad=20)\n",
    "    \n",
    "    plt.show()"
   ]
  },
  {
   "cell_type": "markdown",
   "id": "914a4510",
   "metadata": {},
   "source": [
    "- 가격값이 널값인 데이터와 아닌 데이터를 분리합니다."
   ]
  },
  {
   "cell_type": "code",
   "execution_count": null,
   "id": "76becda5",
   "metadata": {},
   "outputs": [],
   "source": [
    "df_mis_price = df[df['Price'].isna()]\n",
    "\n",
    "df = df[df['Price'].notna()]\n",
    "\n",
    "print(df_mis_price.shape)\n",
    "print(df.shape)"
   ]
  },
  {
   "cell_type": "markdown",
   "id": "006160f8",
   "metadata": {},
   "source": [
    "# <span style=\"color:red\"> 가설 수립 및 검정</span>"
   ]
  },
  {
   "cell_type": "markdown",
   "id": "9647a062",
   "metadata": {},
   "source": [
    "- 검정 및 분석을 진행하기전 연속형 변수들에 대해서 상관관계를 확인합니다."
   ]
  },
  {
   "cell_type": "code",
   "execution_count": null,
   "id": "e7268b28",
   "metadata": {},
   "outputs": [],
   "source": [
    "df_sel = df.select_dtypes(include=np.number)\n",
    "plt.figure(figsize=(10, 10))\n",
    "sns.heatmap(df_sel.corr(), annot=True, square=True, fmt='.2f', annot_kws={'size': 10})"
   ]
  },
  {
   "cell_type": "code",
   "execution_count": null,
   "id": "f803f10c",
   "metadata": {},
   "outputs": [],
   "source": [
    "df.corr().round(3)"
   ]
  },
  {
   "cell_type": "markdown",
   "id": "fefc42ed",
   "metadata": {},
   "source": [
    "- 귀무가설 : 지역 제조사별 중고차 가격 차이가 없다.\n",
    "- 대립가설 : 지역 제조사별 중고차 가격 차이가 있다."
   ]
  },
  {
   "cell_type": "markdown",
   "id": "f6349f79",
   "metadata": {},
   "source": [
    "## ANOVA 분석"
   ]
  },
  {
   "cell_type": "code",
   "execution_count": null,
   "id": "ec870251",
   "metadata": {},
   "outputs": [],
   "source": [
    "# ANOVA 분석\n",
    "model = ols('Price ~ C(brand_Region)', data=df).fit()\n",
    "anova_table = sm.stats.anova_lm(model, typ=2)\n",
    "\n",
    "print(\"ANOVA 결과:\")\n",
    "print(anova_table)"
   ]
  },
  {
   "cell_type": "markdown",
   "id": "1e4f8b03",
   "metadata": {},
   "source": [
    "- P-value 값은 0.0으로 귀무가설을 기각할 수 있기에 지역 제조사별 중고차 가격에 차이가 있음을 알 수 있습니다. \n",
    "- 또한, F값이 507.237로 값이 매우 높기에 지역 제조사별 가격 차이는 상당하다는 것을 의미합니다."
   ]
  },
  {
   "cell_type": "code",
   "execution_count": null,
   "id": "95753541",
   "metadata": {},
   "outputs": [],
   "source": [
    "# 박스 플롯 그리기\n",
    "plt.figure(figsize=(12, 8))\n",
    "sns.boxplot(x='brand_Region', y='Price', data=df)\n",
    "\n",
    "# 제목과 라벨 설정\n",
    "plt.title('Box Plot of Car Prices by Region')\n",
    "plt.xlabel('brand_Region')\n",
    "plt.ylabel('Price')\n",
    "\n",
    "# 그래프 출력\n",
    "plt.show()"
   ]
  },
  {
   "cell_type": "markdown",
   "id": "7a3af921",
   "metadata": {},
   "source": [
    " - box-plot 그래프를 보면 Europe 제조사 차량의 가격이 상당히 높은 것을 볼 수 있습니다. 이는 유럽의 고급 브랜드와 품질 유지, 차량의 역사적 가치 등이 영향을 미쳤을 것이라고 생각합니다.\n",
    " - 그 다음으로는 Japan, Usa 가격이 높게 측정 되었고, Korea, Other, India 순서임을 알 수 있습니다. \n",
    " - 해당 지역의 시장 조건, 브랜드의 인지도에 따라 지역 제조사별 중고차의 가격에 차이가 있습니다."
   ]
  },
  {
   "cell_type": "markdown",
   "id": "ad2e6ec7",
   "metadata": {},
   "source": [
    "## T 검정"
   ]
  },
  {
   "cell_type": "markdown",
   "id": "1beb99ca",
   "metadata": {},
   "source": [
    "- 귀무가설 : Owner_type의 (First, Second)와 (Third,Fourth&Above) 간 중고차 가격에 차이가 없다.\n",
    "- 대립가설 :Owner_type의 (First, Second)와 (Third,Fourth&Above) 간 중고차 가격에 차이가 있다."
   ]
  },
  {
   "cell_type": "markdown",
   "id": "a75ec395",
   "metadata": {},
   "source": [
    "###### Owner_Type -> Little vs. Much"
   ]
  },
  {
   "cell_type": "code",
   "execution_count": null,
   "id": "546dd483",
   "metadata": {},
   "outputs": [],
   "source": [
    "price_little = df[df['Ownership_Level'] == 'Little']['Price']\n",
    "price_much = df[df['Ownership_Level'] == 'Much']['Price']"
   ]
  },
  {
   "cell_type": "code",
   "execution_count": null,
   "id": "66820af0",
   "metadata": {},
   "outputs": [],
   "source": [
    "# T-검정 수행\n",
    "t_stat, p_value = stats.ttest_ind(price_little, price_much, equal_var=False)\n",
    "\n",
    "print(f\"T-Statistic: {t_stat:.4f}\")\n",
    "print(f\"P-Value: {p_value:.4f}\")"
   ]
  },
  {
   "cell_type": "markdown",
   "id": "be6b9025",
   "metadata": {},
   "source": [
    "- t 통계량 값 4.3313이고 P-value 값이 0.000으로 귀무가설을 기각할 수 있기에 Litte(Fisrt, Second)와 Much(Third, Fourth&Above) 두 그룹 간 중고차 평균 가격 차이는 통계적으로 유의미하다고 결론을 내릴 수 있습니다."
   ]
  },
  {
   "cell_type": "code",
   "execution_count": null,
   "id": "66f9d10f",
   "metadata": {},
   "outputs": [],
   "source": [
    "plt.figure(figsize=(10, 6))\n",
    "sns.boxplot(x='Ownership_Level', y='Price', data=df)\n",
    "\n",
    "# 그래프 제목과 레이블 설정\n",
    "plt.title('Price Distribution by Ownership Level')\n",
    "plt.xlabel('Ownership Level')\n",
    "plt.ylabel('Price')\n",
    "\n",
    "# 그래프 출력\n",
    "plt.show()"
   ]
  },
  {
   "cell_type": "code",
   "execution_count": null,
   "id": "5b3a411f",
   "metadata": {},
   "outputs": [],
   "source": [
    "manual_group = df[df['Transmission'] == 'Manual']['Price']\n",
    "automatic_group = df[df['Transmission'] == 'Automatic']['Price']\n",
    "\n",
    "# t-검정 수행\n",
    "t_stat, p_value = stats.ttest_ind(manual_group, automatic_group, equal_var=False)\n",
    "\n",
    "\n",
    "# 결과 출력\n",
    "print(f\"T-Statistic: {t_stat:.4f}\")\n",
    "print(f\"P-Value: {p_value:.4f}\")"
   ]
  },
  {
   "cell_type": "code",
   "execution_count": null,
   "id": "ec80862c",
   "metadata": {},
   "outputs": [],
   "source": [
    "# 그래프\n",
    "plt.figure(figsize=(10, 6))\n",
    "sns.boxplot(x='Transmission', y='Price', data=df)  # 'Price'를 실제 변수명으로 수정\n",
    "\n",
    "plt.title('Distribution of Price by Transmission Type')\n",
    "plt.xlabel('Transmission Type')\n",
    "plt.ylabel('Price')\n",
    "plt.show()"
   ]
  },
  {
   "cell_type": "markdown",
   "id": "d113f25b",
   "metadata": {},
   "source": [
    "- T-Statistic: -37.0963 \\\n",
    "  => Manual 그룹의 평균 가격이 Automatic 그룹보다 낮습니다. \\\n",
    "  => 그룹 간 평균 가격의 차이가 매우 큽니다."
   ]
  },
  {
   "cell_type": "markdown",
   "id": "e95874a7",
   "metadata": {},
   "source": [
    "## 카이제곱 검정"
   ]
  },
  {
   "cell_type": "code",
   "execution_count": null,
   "id": "1933ab3f",
   "metadata": {},
   "outputs": [],
   "source": [
    "cross_tab = pd.crosstab(df['Brand_Category'], df['Location_income'])\n",
    "\n",
    "chi2_stat, p_value, dof, expected = chi2_contingency(cross_tab)\n",
    "\n",
    "# 결과 출력\n",
    "print(f\"카이제곱 통계량: {chi2_stat}\")\n",
    "print(f\"P-value(유의확률): {p_value}\")\n",
    "print(f\"자유도: {dof}\")\n",
    "print(\"기대 빈도:\\n\", expected)"
   ]
  },
  {
   "cell_type": "markdown",
   "id": "38cd736f",
   "metadata": {},
   "source": [
    "- p-value값이 0.05보다 작으므로 귀무가설을 기각합니다. 즉, 특정 소득 수준(Location_income)에 따라 특정 브랜드 카테고리의 중고차 비율이 달라질 가능성이 있으며, 두 변수 사이에 통계적으로 유의미한 관계가 있다고 볼 수 있습니다."
   ]
  },
  {
   "cell_type": "code",
   "execution_count": null,
   "id": "63b118cd",
   "metadata": {},
   "outputs": [],
   "source": [
    "#귀무가설 : 관측된 빈도가 기대되는 빈도와 차이가 없다.-> \n",
    "# 대립 : 관측된 빈도가 기대되는 빈도와 차이가 있다.\n",
    "\n",
    "cross_tab = pd.crosstab(df['Brand_Category'], df['Location_income'])\n",
    "\n",
    "# 카이제곱 검정 수행\n",
    "chi2_stat, p_value, dof, expected = chi2_contingency(cross_tab)\n",
    "\n",
    "# 실제 빈도와 기대 빈도의 차이 계산\n",
    "difference = cross_tab - expected\n",
    "\n",
    "# 결과 출력\n",
    "print(f\"카이제곱 통계량: {chi2_stat}\")\n",
    "print(f\"P-value(유의확률): {p_value}\")\n",
    "print(f\"자유도: {dof}\")\n",
    "print(\"기대 빈도:\\n\", pd.DataFrame(expected, index=cross_tab.index, columns=cross_tab.columns))\n",
    "print(\"실제 빈도와 기대 빈도의 차이:\\n\", difference)"
   ]
  },
  {
   "cell_type": "markdown",
   "id": "ebf2ca4b",
   "metadata": {},
   "source": [
    "- p-value가 0.05이하이므로 귀무가설을 기각합니다.결국, 이는 소득 수준에 따라 사람들이 선호하는 중고차 브랜드가 달라질 수 있음을 시사하고, 이는 특정 소득 수준에서 특정 브랜드의 중고차가 더 많이 판매될 수 있다고 볼 수 있습니다."
   ]
  },
  {
   "cell_type": "code",
   "execution_count": null,
   "id": "fdf112b4",
   "metadata": {},
   "outputs": [],
   "source": [
    "plt.figure(figsize=(10, 8))\n",
    "sns.heatmap(difference, annot=True, cmap='coolwarm', fmt=\".2f\", cbar=True)\n",
    "plt.title('Difference between Actual and Expected Frequencies')\n",
    "plt.show()"
   ]
  },
  {
   "cell_type": "markdown",
   "id": "9448e0d0",
   "metadata": {},
   "source": [
    "> 양의 값 : 실제 빈도가 기대 빈도보다 높음을 나타내고 이는 특정 브랜드의 특정소득 범위에서 실제 판매량이 기대보다 많다면 이 브랜드가 그 소득 범위에서 예상보다 더 많은 인기를 끌고 있음을 의미한다고 볼 수 있습니다.\n",
    "\n",
    "> 음의 값 : 실제 빈도가 기대 빈도보다 낮음을 나타내고 만약 특정 브랜드의 특정 소득 범위에서 실제 판매량이 기대보다 적다면, 이 브랜드가 그 소득 범위에서 예상보다 덜 인기 있음을 의미한다고 볼 수 있습니다."
   ]
  },
  {
   "cell_type": "markdown",
   "id": "ed5b8930",
   "metadata": {},
   "source": [
    "# <span style=\"color:red\"> 모델링 및 평가 </span>"
   ]
  },
  {
   "cell_type": "code",
   "execution_count": null,
   "id": "ffd76738",
   "metadata": {},
   "outputs": [],
   "source": [
    "plt.hist(df['Price'],bins = 30)"
   ]
  },
  {
   "cell_type": "markdown",
   "id": "ee4453d9",
   "metadata": {},
   "source": [
    "- 타겟값인 가격값의 분포를 로그변환하여 정규화를 어느정도 진행해줍니다."
   ]
  },
  {
   "cell_type": "code",
   "execution_count": null,
   "id": "7d2cfbbf",
   "metadata": {},
   "outputs": [],
   "source": [
    "df['Price_log'] = np.log1p(df['Price'])\n",
    "\n",
    "plt.figure(figsize=(5, 5))\n",
    "plt.hist(df['Price_log'], bins=30)\n",
    "plt.xlabel('Log(Price)')\n",
    "plt.ylabel('Count')\n",
    "plt.title('Distribution of Log(Price)')\n",
    "plt.show()"
   ]
  },
  {
   "cell_type": "markdown",
   "id": "09571e76",
   "metadata": {},
   "source": [
    "- 정규화를 확인하기위해 샤피로 검정과 Q-Q Plot를 생성합니다. p-value가 0.05보다 낮기 때문에 정규화가 유의하지않습니다\\\n",
    "\n",
    "- 하지만 통계량이 1에 가까울수록 정규성을 띈다는 점, Q-Q Plot이 어느정도 직선에 겹치게 분포한다는 것을 확인해주는 것으로 price 값이 정규성을 띈다고 가정하였습니다"
   ]
  },
  {
   "cell_type": "code",
   "execution_count": null,
   "id": "b4603b5e",
   "metadata": {},
   "outputs": [],
   "source": [
    "stat, p = shapiro(df['Price_log'])\n",
    "print('Shapiro-Wilk test 결과 - Statistic: {}, p-value: {}'.format(stat, p))"
   ]
  },
  {
   "cell_type": "code",
   "execution_count": null,
   "id": "e946db66",
   "metadata": {},
   "outputs": [],
   "source": [
    "sm.qqplot(df['Price_log'], line='s')\n",
    "plt.title('Q-Q Plot - Price_log')\n",
    "plt.show()"
   ]
  },
  {
   "cell_type": "code",
   "execution_count": null,
   "id": "60751ea8",
   "metadata": {},
   "outputs": [],
   "source": [
    "fig, axs = plt.subplots(2, 3, figsize=(15, 9))\n",
    "axs = axs.flatten()\n",
    "\n",
    "fig.subplots_adjust(wspace=0.4, hspace=0.6)\n",
    "\n",
    "axs[0].boxplot(df['Price_log'])\n",
    "axs[0].set_title('Price_log')\n",
    "\n",
    "axs[1].boxplot(df['Kilometers_Driven'])\n",
    "axs[1].set_title('Kilometers_Driven')\n",
    "\n",
    "axs[2].boxplot(df['Mileage'])\n",
    "axs[2].set_title('Mileage')\n",
    "\n",
    "axs[3].boxplot(df['Engine'])\n",
    "axs[3].set_title('Engine')\n",
    "\n",
    "axs[4].boxplot(df['Power'])\n",
    "axs[4].set_title('Power')\n",
    "\n",
    "axs[5].boxplot(df['Year'])\n",
    "axs[5].set_title('Year')"
   ]
  },
  {
   "cell_type": "markdown",
   "id": "a1562b73",
   "metadata": {},
   "source": [
    "- 가격값을 로그조정한 후 이상치가 일부 발견되어 제거해주었습니다."
   ]
  },
  {
   "cell_type": "code",
   "execution_count": null,
   "id": "235de577",
   "metadata": {},
   "outputs": [],
   "source": [
    "df.drop(df[df['Price_log'] < 3].index, inplace=True)"
   ]
  },
  {
   "cell_type": "markdown",
   "id": "373a0519",
   "metadata": {},
   "source": [
    "- 원핫 인코딩 전 의미가 없는 변수들을 제거합니다."
   ]
  },
  {
   "cell_type": "code",
   "execution_count": null,
   "id": "7fcd1023",
   "metadata": {},
   "outputs": [],
   "source": [
    "df.drop(labels = 'Location', axis = 1, inplace = True)\n",
    "df.drop(labels = 'Name', axis = 1, inplace = True)\n",
    "df.drop(labels = 'Seats', axis = 1, inplace = True)\n",
    "df.drop(labels = 'Brand', axis = 1, inplace = True)\n",
    "df.drop(labels = 'Price', axis = 1, inplace = True)"
   ]
  },
  {
   "cell_type": "markdown",
   "id": "7c24e44f",
   "metadata": {},
   "source": [
    "- 다중선형회귀 분석을 하기전 연속형 : 표준화, 범주형 : 원핫 인코딩 을 진행합니다."
   ]
  },
  {
   "cell_type": "code",
   "execution_count": null,
   "id": "9bdbad97",
   "metadata": {},
   "outputs": [],
   "source": [
    "df_char=df.select_dtypes(include=\"object\")\n",
    "df_numeric=df.select_dtypes(exclude=\"object\")\n",
    "\n",
    "scaler = StandardScaler()\n",
    "np_numeric_scaled = scaler.fit_transform(df_numeric)\n",
    "df_numeric_scaled = pd.DataFrame(np_numeric_scaled, columns=df_numeric.columns)\n",
    "df_encoded = pd.get_dummies(df_char, drop_first=True)\n",
    "\n",
    "df_final = df_numeric_scaled.join(df_encoded)"
   ]
  },
  {
   "cell_type": "markdown",
   "id": "04b909ef",
   "metadata": {},
   "source": [
    "- 학습 및 평가 데이터도 나눠줍니다."
   ]
  },
  {
   "cell_type": "code",
   "execution_count": null,
   "id": "0fe56a8b",
   "metadata": {},
   "outputs": [],
   "source": [
    "df_train, df_test = train_test_split(df_final, test_size = 0.3, random_state = 1234) \n",
    "print('train data size : {}'.format(df_train.shape)) \n",
    "print('test data size : {}'.format(df_test.shape))"
   ]
  },
  {
   "cell_type": "markdown",
   "id": "9400fda0",
   "metadata": {},
   "source": [
    "- 연속형 데이터에 대해서 다중회귀분석을 진행합니다."
   ]
  },
  {
   "cell_type": "code",
   "execution_count": null,
   "id": "0a032c19",
   "metadata": {},
   "outputs": [],
   "source": [
    "reg_model = smf.ols(\n",
    "    formula='Price_log ~ Power + Kilometers_Driven + Mileage + Engine + Year', \n",
    "    data=df_train\n",
    ")\n",
    "\n",
    "reg_result = reg_model.fit()\n",
    "\n",
    "print(reg_result.summary())"
   ]
  },
  {
   "cell_type": "markdown",
   "id": "b48269c1",
   "metadata": {},
   "source": [
    "- VIF 계수를 확인하여 다중공선성도 고려해줍니다"
   ]
  },
  {
   "cell_type": "code",
   "execution_count": null,
   "id": "8210bfa0",
   "metadata": {},
   "outputs": [],
   "source": [
    "df_train_x = df_final[['Power', 'Kilometers_Driven', 'Mileage', 'Engine', 'Year']]\n",
    "\n",
    "# 상수 항 추가\n",
    "df_train_x_const = add_constant(df_train_x)\n",
    "\n",
    "# VIF 계산\n",
    "df_vif = pd.DataFrame()\n",
    "df_vif['variable'] = df_train_x_const.columns\n",
    "df_vif[\"VIF\"] = [variance_inflation_factor(df_train_x_const.values, i) for i in range(df_train_x_const.shape[1])]\n",
    "\n",
    "# VIF 결과 출력\n",
    "print(df_vif.sort_values('VIF', ascending=True).round(2))"
   ]
  },
  {
   "cell_type": "code",
   "execution_count": null,
   "id": "946fb92b",
   "metadata": {},
   "outputs": [],
   "source": [
    "reg_model1 = smf.ols(\n",
    "    formula='Price_log ~ Power + Mileage + Engine + Year', \n",
    "    data=df_train\n",
    ")\n",
    "\n",
    "reg_result1 = reg_model1.fit()\n",
    "\n",
    "print(reg_result1.summary())"
   ]
  },
  {
   "cell_type": "code",
   "execution_count": null,
   "id": "0e21102f",
   "metadata": {},
   "outputs": [],
   "source": [
    "df_train_x = df_final[['Power', 'Mileage', 'Engine', 'Year']]\n",
    "\n",
    "# 상수 항 추가\n",
    "df_train_x_const = add_constant(df_train_x)\n",
    "\n",
    "# VIF 계산\n",
    "df_vif = pd.DataFrame()\n",
    "df_vif['variable'] = df_train_x_const.columns\n",
    "df_vif[\"VIF\"] = [variance_inflation_factor(df_train_x_const.values, i) for i in range(df_train_x_const.shape[1])]\n",
    "\n",
    "# VIF 결과 출력\n",
    "print(df_vif.sort_values('VIF', ascending=True).round(2))"
   ]
  },
  {
   "cell_type": "markdown",
   "id": "e0e26fbb",
   "metadata": {},
   "source": [
    "- 유의한 피처들만 남기고 VIF 값을 확인해줍니다.(최종모델)"
   ]
  },
  {
   "cell_type": "code",
   "execution_count": null,
   "id": "59953099",
   "metadata": {},
   "outputs": [],
   "source": [
    "reg_model2 = smf.ols(\n",
    "    formula='Price_log ~ Power + Engine + Year', \n",
    "    data=df_train\n",
    ")\n",
    "\n",
    "reg_result2 = reg_model2.fit()\n",
    "\n",
    "print(reg_result2.summary())"
   ]
  },
  {
   "cell_type": "markdown",
   "id": "51d0f4f8",
   "metadata": {},
   "source": [
    "- 등분산성 및 정규성, 독립성을 확인합니다.\n",
    "\n",
    "- 등분산성 및 정규성 같은 경우 타겟값을 로그변환 해줬음에도 불구하고 만족스러운 결과가 도출되지 않았습니다. Box-cox 기법을 이용하는 등의 개선이 필요하다고 생각합니다."
   ]
  },
  {
   "cell_type": "markdown",
   "id": "6324e01f",
   "metadata": {},
   "source": [
    "- 등분산성 : 불만족"
   ]
  },
  {
   "cell_type": "code",
   "execution_count": null,
   "id": "01d4b9c9",
   "metadata": {},
   "outputs": [],
   "source": [
    "plt.scatter(reg_result2.fittedvalues, reg_result2.resid)\n",
    "plt.xlabel(\"fitted value\")\n",
    "plt.ylabel(\"residual\")\n",
    "plt.axhline(y = 0, linestyle = \"--\")"
   ]
  },
  {
   "cell_type": "markdown",
   "id": "ddfb9456",
   "metadata": {},
   "source": [
    "- 정규성 : 불만족"
   ]
  },
  {
   "cell_type": "code",
   "execution_count": null,
   "id": "1b41827b",
   "metadata": {},
   "outputs": [],
   "source": [
    "residuals = reg_result2.resid\n",
    "# Q-Q 플롯\n",
    "sm.qqplot(residuals, line ='45')\n",
    "plt.title('Q-Q Plot of Residuals')\n",
    "plt.show()\n",
    "\n",
    "# 잔차 히스토그램\n",
    "plt.hist(residuals, bins=30, edgecolor='k', alpha=0.7)\n",
    "plt.title('Histogram of Residuals')\n",
    "plt.show()"
   ]
  },
  {
   "cell_type": "markdown",
   "id": "3fed8c97",
   "metadata": {},
   "source": [
    "- 독립성 : 불만족 > 일부 최고급 및 특수목적의 차량의 값이 독립성 검정에서 이상치로 발생된다고 생각합니다."
   ]
  },
  {
   "cell_type": "code",
   "execution_count": null,
   "id": "6833e72f",
   "metadata": {},
   "outputs": [],
   "source": [
    "plt.scatter(df_train.index, reg_result.resid)\n",
    "plt.xlabel(\"Data\")  ;  plt.ylabel(\"Residual\")\n",
    "plt.axhline(y=0,linestyle=\"-\", label='CL')\n",
    "plt.axhline(y=3*np.std(reg_result.resid),linestyle=\"--\",color=\"red\",label='UCL' )\n",
    "plt.axhline(y=-3*np.std(reg_result.resid),linestyle=\"dashed\",color=\"red\",label='LCL')\n",
    "plt.legend()"
   ]
  },
  {
   "cell_type": "code",
   "execution_count": null,
   "id": "95c3520d",
   "metadata": {},
   "outputs": [],
   "source": [
    "df_train_x = df_final[['Power', 'Engine', 'Year']]\n",
    "\n",
    "# 상수 항 추가\n",
    "df_train_x_const = add_constant(df_train_x)\n",
    "\n",
    "# VIF 계산\n",
    "df_vif = pd.DataFrame()\n",
    "df_vif['variable'] = df_train_x_const.columns\n",
    "df_vif[\"VIF\"] = [variance_inflation_factor(df_train_x_const.values, i) for i in range(df_train_x_const.shape[1])]\n",
    "\n",
    "# VIF 결과 출력\n",
    "print(df_vif.sort_values('VIF', ascending=True).round(2))"
   ]
  },
  {
   "cell_type": "markdown",
   "id": "5b0edf4b",
   "metadata": {},
   "source": [
    "- 회귀계수들을 출력하여 최종 회귀식을 도출합니다."
   ]
  },
  {
   "cell_type": "code",
   "execution_count": null,
   "id": "8f14baa8",
   "metadata": {},
   "outputs": [],
   "source": [
    "df_reg_coef = pd.DataFrame({\"Coef\": reg_result2.params.values[1:]},  \n",
    "                           index = ['Power','Engine','Year'])\n",
    "df_reg_coef.plot.barh(y = \"Coef\")"
   ]
  },
  {
   "cell_type": "code",
   "execution_count": null,
   "id": "61e569f7",
   "metadata": {},
   "outputs": [],
   "source": [
    "intercept = reg_result2.params[0]  # 절편\n",
    "coefficients = reg_result2.params[1:]  # 피처의 회귀 계수\n",
    "feature_names = ['Power', 'Engine', 'Year']  # 피처 이름 (절편 제외)\n",
    "\n",
    "# 회귀식 문자열 생성\n",
    "equation = f\"y = {intercept:.2f}\"\n",
    "for name, coef in zip(feature_names, coefficients):\n",
    "    if coef >= 0:\n",
    "        equation += f\" + {coef:.2f} * x ({name})\"\n",
    "    else:\n",
    "        equation += f\" - {abs(coef):.2f} * x({name})\"\n",
    "\n",
    "print(\"회귀식:\")\n",
    "print(equation)"
   ]
  },
  {
   "cell_type": "markdown",
   "id": "18f8886d",
   "metadata": {},
   "source": [
    "### 회귀식: y = -0.01 + 0.51 * x1 (Power) + 0.24 * x2 (Engine) - 0.53 * x3 (Year)"
   ]
  },
  {
   "cell_type": "markdown",
   "id": "915e4727",
   "metadata": {},
   "source": [
    "- 회귀식의 성능을 확인합니다."
   ]
  },
  {
   "cell_type": "code",
   "execution_count": null,
   "id": "d8d43f3b",
   "metadata": {},
   "outputs": [],
   "source": [
    "train_pred = reg_result.predict(df_train)\n",
    "test_pred = reg_result.predict(df_test)\n",
    "print('train data 의 결정계수:', r2_score(df_train['Price_log'],train_pred))\n",
    "print('test data의 결정계수:', r2_score(df_test['Price_log'], test_pred))"
   ]
  },
  {
   "cell_type": "markdown",
   "id": "7ad72323",
   "metadata": {},
   "source": [
    "- 트리계열의 회귀모델은 표준화가 필요없습니다. 원핫인코딩만 진행합니다."
   ]
  },
  {
   "cell_type": "code",
   "execution_count": null,
   "id": "2be5b486",
   "metadata": {},
   "outputs": [],
   "source": [
    "df_onehot = pd.get_dummies(df)"
   ]
  },
  {
   "cell_type": "markdown",
   "id": "2a592b36",
   "metadata": {},
   "source": [
    "- 학습이 가능한 형태로 전처리합니다."
   ]
  },
  {
   "cell_type": "code",
   "execution_count": null,
   "id": "d6570996",
   "metadata": {},
   "outputs": [],
   "source": [
    "df_x = df_onehot.drop(\"Price_log\", axis = 1, inplace = False)\n",
    "df_y = df_onehot[\"Price_log\"] "
   ]
  },
  {
   "cell_type": "code",
   "execution_count": null,
   "id": "c3b82df4",
   "metadata": {},
   "outputs": [],
   "source": [
    "X_train, X_test, y_train, y_test = train_test_split(df_x, df_y, test_size=0.3, random_state=13)\n",
    "v_feature_name = X_train.columns"
   ]
  },
  {
   "cell_type": "markdown",
   "id": "810b3fb9",
   "metadata": {},
   "source": [
    "- GridsearchCV 기능을 이용하여 최적 하이퍼파라미터를 도출합니다."
   ]
  },
  {
   "cell_type": "code",
   "execution_count": null,
   "id": "8c151c58",
   "metadata": {},
   "outputs": [],
   "source": [
    "# param_grid = {\n",
    "#         'max_depth': [i for i in range(1,7)],\n",
    "#         'min_samples_split': [i*10 for i in range(3,8)],\n",
    "#         'min_samples_leaf': [i*5 for i in range(2,5)]}\n",
    "\n",
    "# dt_reg = DecisionTreeRegressor()\n",
    "# grid_search = GridSearchCV(estimator=dt_reg, param_grid=param_grid, cv=5, scoring='neg_mean_squared_error')\n",
    "# grid_search.fit(X_train, y_train)\n",
    "# best_dt_reg = grid_search.best_estimator_\n",
    "# best_params = best_dt_reg.get_params()\n",
    "# print(\"Best Hyperparameters:\", best_params)"
   ]
  },
  {
   "cell_type": "code",
   "execution_count": null,
   "id": "76d6b705",
   "metadata": {},
   "outputs": [],
   "source": [
    "# param_grid = {\n",
    "#         'n_estimators': [50, 100, 200],\n",
    "#         'max_depth': [i for i in range(1,7)],\n",
    "#         'min_samples_split': [i*10 for i in range(3,8)],\n",
    "#         'min_samples_leaf': [i*5 for i in range(2,5)]}\n",
    "\n",
    "# rf_reg = RandomForestRegressor(random_state=1234)\n",
    "# grid_search = GridSearchCV(estimator=rf_reg, param_grid=param_grid, cv=5, scoring='neg_mean_squared_error')\n",
    "# grid_search.fit(X_train, y_train)\n",
    "# best_rf_reg = grid_search.best_estimator_\n",
    "# best_params = best_rf_reg.get_params()\n",
    "# print(\"Best Hyperparameters:\", best_params)"
   ]
  },
  {
   "cell_type": "code",
   "execution_count": null,
   "id": "35323e40",
   "metadata": {},
   "outputs": [],
   "source": [
    "# param_grid = {\n",
    "#         'n_estimators': [100, 200, 300],\n",
    "#         'learning_rate': [0.01, 0.05, 0.1, 0.15, 0.2],\n",
    "#         'max_depth': [i for i in range(1,7)],\n",
    "#         'min_samples_split': [i*10 for i in range(3,8)],\n",
    "#         'min_samples_leaf': [i*5 for i in range(2,5)]}\n",
    "\n",
    "# gb_reg = GradientBoostingRegressor(random_state=1234)\n",
    "# grid_search = GridSearchCV(estimator=gb_reg, param_grid=param_grid, cv=5, scoring='neg_mean_squared_error')\n",
    "# grid_search.fit(X_train, y_train)\n",
    "# best_gb_reg = grid_search.best_estimator_\n",
    "# best_params = best_gb_reg.get_params()\n",
    "# print(\"Best Hyperparameters:\", best_params)"
   ]
  },
  {
   "cell_type": "markdown",
   "id": "a66c8b3d",
   "metadata": {},
   "source": [
    "- 최적의 하이퍼 파라미터를 이용하여 모델을 학습시키고 실제값과 모델의 예측 정확도 및 평가지표를 확인합니다.\n",
    "- 추가적으로 피처들의 중요도를 확인합니다."
   ]
  },
  {
   "cell_type": "code",
   "execution_count": null,
   "id": "5b5ea7f1",
   "metadata": {},
   "outputs": [],
   "source": [
    "dt_reg = DecisionTreeRegressor(ccp_alpha = 0.0, criterion = 'squared_error', max_depth = 6, max_features = None, \\\n",
    "                            max_leaf_nodes = None, min_impurity_decrease = 0.0, min_samples_leaf = 10, min_samples_split = 30, \\\n",
    "                            min_weight_fraction_leaf = 0.0, random_state = None, splitter = 'best')\n",
    "dt_reg.fit(X_train, y_train)\n",
    "\n",
    "predicted = dt_reg.predict(X_test)\n",
    "actual = y_test\n",
    "\n",
    "act_df = pd.DataFrame(actual)\n",
    "pred_df = pd.DataFrame(predicted)\n",
    "\n",
    "act_df.reset_index(inplace=True)\n",
    "\n",
    "act_pred_df = pd.concat([act_df, pred_df], axis=1)\n",
    "act_pred_df.columns = ['index', 'actual', 'predicted']\n",
    "\n",
    "    # 성능 지표 계산\n",
    "mse = mean_squared_error(actual, predicted)\n",
    "mae = mean_absolute_error(actual, predicted)\n",
    "r2 = r2_score(actual, predicted)\n",
    "    # 그래프 생성\n",
    "plt.figure(figsize=(15, 10))\n",
    "plt.scatter(act_pred_df['predicted'], act_pred_df['actual'], alpha=0.5, label='Predicted vs Actual')\n",
    "\n",
    "    # 성능 지표를 텍스트로 그래프에 추가\n",
    "plt.text(0.1, 0.9, f'MSE: {mse:.2f}', transform=plt.gca().transAxes, fontsize=14, verticalalignment='top')\n",
    "plt.text(0.1, 0.85, f'MAE: {mae:.2f}', transform=plt.gca().transAxes, fontsize=14, verticalalignment='top')\n",
    "plt.text(0.1, 0.8, f'R²: {r2:.2f}', transform=plt.gca().transAxes, fontsize=14, verticalalignment='top')\n",
    "\n",
    "plt.xlabel('Predicted', fontsize=14)\n",
    "plt.ylabel('Actual', fontsize=14)\n",
    "line = plt.plot([5, 13], [5, 13], color='r', linewidth=3.0)\n",
    "plt.legend()\n",
    "plt.show()"
   ]
  },
  {
   "cell_type": "code",
   "execution_count": null,
   "id": "d10c64ed",
   "metadata": {},
   "outputs": [],
   "source": [
    "df_importance = pd.DataFrame()\n",
    "df_importance['Feature'] = v_feature_name\n",
    "df_importance['Importance'] = dt_reg.feature_importances_\n",
    "\n",
    "df_importance.sort_values('Importance', ascending = True, inplace = True)\n",
    "coordinates = range(len(df_importance))\n",
    "plt.figure(figsize=(12, 8))\n",
    "plt.barh(y = coordinates, width = df_importance['Importance'])\n",
    "plt.yticks(coordinates, df_importance['Feature'])\n",
    "plt.xlabel('Feature Importance')\n",
    "plt.ylabel('Feature')"
   ]
  },
  {
   "cell_type": "code",
   "execution_count": null,
   "id": "87559b89",
   "metadata": {},
   "outputs": [],
   "source": [
    "rf_reg = RandomForestRegressor(bootstrap = True, ccp_alpha = 0.0, criterion = 'squared_error', max_depth = 6,\\\n",
    "                                max_features = 1.0, max_leaf_nodes = None, max_samples = None, \\\n",
    "                                min_impurity_decrease = 0.0, min_samples_leaf = 10, min_samples_split = 30,\\\n",
    "                                min_weight_fraction_leaf = 0.0, n_estimators = 200, n_jobs = None, oob_score = False,\\\n",
    "                                random_state = 1234, verbose = 0, warm_start = False)\n",
    "rf_reg.fit(X_train, y_train)\n",
    "\n",
    "predicted = rf_reg.predict(X_test)\n",
    "actual = y_test\n",
    "\n",
    "act_df = pd.DataFrame(actual)\n",
    "pred_df = pd.DataFrame(predicted)\n",
    "\n",
    "act_df.reset_index(inplace=True)\n",
    "\n",
    "act_pred_df = pd.concat([act_df, pred_df], axis=1)\n",
    "act_pred_df.columns = ['index', 'actual', 'predicted']\n",
    "\n",
    "mse = mean_squared_error(actual, predicted)\n",
    "mae = mean_absolute_error(actual, predicted)\n",
    "r2 = r2_score(actual, predicted)\n",
    "\n",
    "plt.figure(figsize=(15, 10))\n",
    "plt.plot(act_pred_df['predicted'], act_pred_df['actual'], 'o', label='Predicted vs Actual')\n",
    "\n",
    "plt.text(0.1, 0.9, f'MSE: {mse:.2f}', transform=plt.gca().transAxes, fontsize=14, verticalalignment='top')\n",
    "plt.text(0.1, 0.85, f'MAE: {mae:.2f}', transform=plt.gca().transAxes, fontsize=14, verticalalignment='top')\n",
    "plt.text(0.1, 0.8, f'R²: {r2:.2f}', transform=plt.gca().transAxes, fontsize=14, verticalalignment='top')\n",
    "\n",
    "plt.xlabel('Predicted', fontsize=14)\n",
    "plt.ylabel('Actual', fontsize=14)\n",
    "line = plt.plot([5, 13], [5, 13], color='r', linewidth=3.0)\n",
    "plt.legend()\n",
    "plt.show()"
   ]
  },
  {
   "cell_type": "code",
   "execution_count": null,
   "id": "6a067da3",
   "metadata": {},
   "outputs": [],
   "source": [
    "rf_importance = pd.DataFrame()\n",
    "rf_importance['Feature'] = v_feature_name\n",
    "rf_importance['Importance'] = rf_reg.feature_importances_\n",
    "\n",
    "rf_importance.sort_values('Importance', ascending = True, inplace = True)\n",
    "coordinates = range(len(rf_importance))\n",
    "plt.figure(figsize=(12, 8))\n",
    "plt.barh(y = coordinates, width = rf_importance['Importance'])\n",
    "plt.yticks(coordinates, rf_importance['Feature'])\n",
    "plt.xlabel('Feature Importance')\n",
    "plt.ylabel('Feature')"
   ]
  },
  {
   "cell_type": "code",
   "execution_count": null,
   "id": "ec977f7a",
   "metadata": {},
   "outputs": [],
   "source": [
    "gb_reg = GradientBoostingRegressor(alpha = 0.9, ccp_alpha = 0.0, criterion = 'friedman_mse', init = None, learning_rate = 0.15,\\\n",
    "                                   loss = 'squared_error', max_depth = 4, max_features = None, max_leaf_nodes = None, \\\n",
    "                                   min_impurity_decrease = 0.0, min_samples_leaf = 10, min_samples_split = 70, \\\n",
    "                                   min_weight_fraction_leaf = 0.0, n_estimators = 300, n_iter_no_change = None, random_state = 1234,\\\n",
    "                                   subsample = 1.0, tol = 0.0001, validation_fraction = 0.1, verbose = 0, warm_start = False)\n",
    "gb_reg.fit(X_train, y_train)\n",
    "\n",
    "predicted = gb_reg.predict(X_test)\n",
    "actual = y_test\n",
    "\n",
    "act_df = pd.DataFrame(actual)\n",
    "pred_df = pd.DataFrame(predicted)\n",
    "act_df.reset_index(inplace=True)\n",
    "\n",
    "act_pred_df = pd.concat([act_df, pred_df], axis=1)\n",
    "act_pred_df.columns = ['index', 'actual', 'predicted']\n",
    "\n",
    "mse = mean_squared_error(actual, predicted)\n",
    "mae = mean_absolute_error(actual, predicted)\n",
    "r2 = r2_score(actual, predicted)\n",
    "\n",
    "plt.figure(figsize=(15, 10))\n",
    "plt.plot(act_pred_df['predicted'], act_pred_df['actual'], 'o', label='Predicted vs Actual')\n",
    "\n",
    "plt.text(0.1, 0.9, f'MSE: {mse:.2f}', transform=plt.gca().transAxes, fontsize=14, verticalalignment='top')\n",
    "plt.text(0.1, 0.85, f'MAE: {mae:.2f}', transform=plt.gca().transAxes, fontsize=14, verticalalignment='top')\n",
    "plt.text(0.1, 0.8, f'R²: {r2:.2f}', transform=plt.gca().transAxes, fontsize=14, verticalalignment='top')\n",
    "\n",
    "plt.xlabel('Predicted', fontsize=14)\n",
    "plt.ylabel('Actual', fontsize=14)\n",
    "line = plt.plot([5, 13], [5, 13], color='r', linewidth=3.0)\n",
    "plt.legend()\n",
    "plt.show()"
   ]
  },
  {
   "cell_type": "code",
   "execution_count": null,
   "id": "2f7d8c65",
   "metadata": {},
   "outputs": [],
   "source": [
    "gb_importance = pd.DataFrame()\n",
    "gb_importance['Feature'] = v_feature_name\n",
    "gb_importance['Importance'] = gb_reg.feature_importances_\n",
    "\n",
    "gb_importance.sort_values('Importance', ascending = True, inplace = True)\n",
    "coordinates = range(len(gb_importance))\n",
    "plt.figure(figsize=(12, 8))\n",
    "plt.barh(y = coordinates, width = gb_importance['Importance'])\n",
    "plt.yticks(coordinates, gb_importance['Feature'])\n",
    "plt.xlabel('Feature Importance')\n",
    "plt.ylabel('Feature')"
   ]
  },
  {
   "cell_type": "markdown",
   "id": "1d59d4c4",
   "metadata": {},
   "source": [
    "- 모든 모델의 성능을 참고해봤을때 XGBoost 모델의 성능이 현 데이터에 가장 적합할 것으로 판단됩니다.\n",
    "- Price가 결측값인 데이터의 Price 값을 예측하기 위해, 결측값이 없는 데이터를 사용하여 모델을 학습시키고, 이를 통해 Price 값을 예측합니다.\n",
    "- 피처 중요도를 산출하여 유의미한 인자를 출력합니다.\n",
    "- 현재시점 인도의 중고차 가격과 예측가격을 비교하여 모델의 성능평가를 진행합니다."
   ]
  },
  {
   "cell_type": "code",
   "execution_count": null,
   "id": "fc087816",
   "metadata": {},
   "outputs": [],
   "source": [
    "# param_grid = {\n",
    "#         'n_estimators': [100, 200, 300],\n",
    "#         'learning_rate': [0.01, 0.05, 0.1, 0.15, 0.2],\n",
    "#         'max_depth': [i for i in range(1,7)],\n",
    "#         'min_samples_split': [i*10 for i in range(3,8)],\n",
    "#         'min_samples_leaf': [i*5 for i in range(2,5)]}\n",
    "\n",
    "# gb_reg = GradientBoostingRegressor(random_state=1234)\n",
    "# grid_search = GridSearchCV(estimator=gb_reg, param_grid=param_grid, cv=5, scoring='neg_mean_squared_error')\n",
    "# grid_search.fit(df_x, df_y)\n",
    "# best_gb_reg = grid_search.best_estimator_\n",
    "# best_params = best_gb_reg.get_params()\n",
    "# print(\"Best Hyperparameters:\", best_params)"
   ]
  },
  {
   "cell_type": "code",
   "execution_count": null,
   "id": "ddb56483",
   "metadata": {},
   "outputs": [],
   "source": [
    "df_mis_price.drop(columns=['Location', 'Price', 'Name', 'Seats', 'Brand', 'Price'], inplace=True)\n",
    "df_mis_price_onehot = pd.get_dummies(df_mis_price)\n",
    "df_x.drop(columns=['Fuel_Type_Electric', 'Owner_Type_Fourth & Above'], inplace=True)\n",
    "\n",
    "gb_reg_final = GradientBoostingRegressor(alpha = 0.9, ccp_alpha = 0.0, criterion = 'friedman_mse', init = None, learning_rate = 0.2,\\\n",
    "                                   loss = 'squared_error', max_depth = 4, max_features = None, max_leaf_nodes = None, \\\n",
    "                                   min_impurity_decrease = 0.0, min_samples_leaf = 10, min_samples_split = 40, \\\n",
    "                                   min_weight_fraction_leaf = 0.0, n_estimators = 300, n_iter_no_change = None, random_state = 1234,\\\n",
    "                                   subsample = 1.0, tol = 0.0001, validation_fraction = 0.1, verbose = 0, warm_start = False)\n",
    "\n",
    "gb_reg_final.fit(df_x, df_y)\n",
    "\n",
    "predicted = gb_reg_final.predict(df_mis_price_onehot)\n",
    "fin = np.expm1(predicted)\n",
    "df_mis_price_onehot['price_predict'] = fin"
   ]
  },
  {
   "cell_type": "code",
   "execution_count": null,
   "id": "0e227a96",
   "metadata": {},
   "outputs": [],
   "source": [
    "v_feature_name = df_x.columns\n",
    "\n",
    "rf_importance = pd.DataFrame()\n",
    "rf_importance['Feature'] = v_feature_name\n",
    "rf_importance['Importance'] = gb_reg_final.feature_importances_\n",
    "\n",
    "rf_importance.sort_values('Importance', ascending = True, inplace = True)\n",
    "coordinates = range(len(rf_importance))\n",
    "plt.figure(figsize=(12, 8))\n",
    "plt.barh(y = coordinates, width = rf_importance['Importance'])\n",
    "plt.yticks(coordinates, rf_importance['Feature'])\n",
    "plt.xlabel('Feature Importance')\n",
    "plt.ylabel('Feature')"
   ]
  },
  {
   "cell_type": "code",
   "execution_count": null,
   "id": "f77027ed",
   "metadata": {},
   "outputs": [],
   "source": [
    "df_mis_price_onehot.to_csv('df_mis_price_onehot.csv', index=False)"
   ]
  }
 ],
 "metadata": {
  "kernelspec": {
   "display_name": "Python [conda env:base] *",
   "language": "python",
   "name": "conda-base-py"
  },
  "language_info": {
   "codemirror_mode": {
    "name": "ipython",
    "version": 3
   },
   "file_extension": ".py",
   "mimetype": "text/x-python",
   "name": "python",
   "nbconvert_exporter": "python",
   "pygments_lexer": "ipython3",
   "version": "3.10.9"
  }
 },
 "nbformat": 4,
 "nbformat_minor": 5
}
