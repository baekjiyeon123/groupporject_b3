{
 "cells": [
  {
   "cell_type": "code",
   "execution_count": 1,
   "id": "690fce10",
   "metadata": {},
   "outputs": [],
   "source": [
    "import pandas as pd\n",
    "import numpy as np\n",
    "from numpy.random import randn\n",
    "\n",
    "import matplotlib\n",
    "import matplotlib.pyplot as plt\n",
    "import seaborn as sns\n",
    "%matplotlib inline\n",
    "\n",
    "from xgboost import XGBClassifier\n",
    "from xgboost import plot_importance\n",
    "from xgboost import plot_importance\n",
    "from lightgbm import LGBMClassifier\n",
    "import xgboost as xgb\n",
    "from lightgbm import plot_importance\n",
    "from lightgbm import plot_importance\n",
    "\n",
    "from scipy.stats import chi2_contingency\n",
    "import scipy.stats as stats \n",
    "from scipy.stats import ttest_ind\n",
    "from scipy.stats import f_oneway\n",
    "from statsmodels.formula.api import ols\n",
    "import statsmodels.formula.api as smf\n",
    "import statsmodels.api as sm\n",
    "from statsmodels.api import qqplot, add_constant\n",
    "from statsmodels.api import Logit\n",
    "from statsmodels.stats.outliers_influence import variance_inflation_factor\n",
    "from statsmodels.stats.proportion import proportions_ztest\n",
    "\n",
    "from subprocess import call\n",
    "from IPython.display import Image\n",
    "from scipy.cluster.hierarchy import linkage, dendrogram, fcluster\n",
    "from yellowbrick.cluster import SilhouetteVisualizer\n",
    "\n",
    "import graphviz\n",
    "from sklearn.impute import SimpleImputer\n",
    "from sklearn.linear_model import LinearRegression, Ridge, Lasso, ElasticNet\n",
    "from sklearn.linear_model import LogisticRegression\n",
    "from sklearn.tree import export_graphviz\n",
    "from sklearn.tree import DecisionTreeRegressor\n",
    "from sklearn.tree import DecisionTreeClassifier\n",
    "from sklearn.ensemble import RandomForestClassifier\n",
    "from sklearn.ensemble import RandomForestRegressor\n",
    "from sklearn.ensemble import GradientBoostingRegressor\n",
    "from sklearn.ensemble import GradientBoostingClassifier\n",
    "from sklearn.svm import SVC\n",
    "from sklearn.neural_network import MLPClassifier\n",
    "from sklearn.cluster import AgglomerativeClustering, KMeans, DBSCAN\n",
    "from sklearn.neighbors import KNeighborsClassifier\n",
    "from sklearn.decomposition import PCA\n",
    "from sklearn.datasets import make_classification\n",
    "from sklearn.model_selection import train_test_split\n",
    "from sklearn.model_selection import GridSearchCV\n",
    "from sklearn.feature_selection import RFE\n",
    "from sklearn.feature_selection import chi2\n",
    "from sklearn.inspection import permutation_importance\n",
    "\n",
    "from sklearn.preprocessing import StandardScaler, MinMaxScaler, RobustScaler, LabelEncoder\n",
    "from sklearn.metrics import mean_squared_error, mean_absolute_error, r2_score, mean_absolute_percentage_error\n",
    "from sklearn.metrics import accuracy_score, precision_score, recall_score, roc_auc_score, f1_score, confusion_matrix, classification_report\n",
    "from sklearn.metrics import roc_curve, auc\n",
    "from sklearn.metrics import silhouette_samples, silhouette_score\n",
    "from imblearn.over_sampling import SMOTE\n",
    "\n",
    "from mlxtend.preprocessing import TransactionEncoder\n",
    "from mlxtend.frequent_patterns import apriori\n",
    "from mlxtend.frequent_patterns import association_rules\n",
    "\n",
    "import warnings\n",
    "warnings.filterwarnings('ignore')\n",
    "\n",
    "matplotlib.rc('font', family = 'NanumBarunGothic')\n",
    "matplotlib.rc('axes', unicode_minus = False)"
   ]
  },
  {
   "cell_type": "code",
   "execution_count": 2,
   "id": "622a5366",
   "metadata": {},
   "outputs": [],
   "source": [
    "df_merged = pd.read_csv(\"/home/piai/merged_with_2.csv\", encoding = 'euc-kr')"
   ]
  },
  {
   "cell_type": "code",
   "execution_count": 3,
   "id": "50fa31c0",
   "metadata": {},
   "outputs": [
    {
     "data": {
      "text/plain": [
       "(14760, 57)"
      ]
     },
     "execution_count": 3,
     "metadata": {},
     "output_type": "execute_result"
    }
   ],
   "source": [
    "df_merged.shape"
   ]
  },
  {
   "cell_type": "code",
   "execution_count": 4,
   "id": "edcb4d78",
   "metadata": {},
   "outputs": [],
   "source": [
    "df_merged['Ox_Chamber'] = df_merged['Ox_Chamber'].astype(str)\n",
    "df_merged['Lot_Num'] = df_merged['Lot_Num'].astype(str)\n",
    "df_merged['Wafer_Num'] = df_merged['Wafer_Num'].astype(str)\n",
    "\n",
    "df_merged['photo_soft_Chamber'] = df_merged['photo_soft_Chamber'].astype(str)\n",
    "\n",
    "df_merged['lithography_Chamber'] = df_merged['lithography_Chamber'].astype(str)\n",
    "df_merged['Wavelength'] = df_merged['Wavelength'].astype(str)\n",
    "\n",
    "df_merged['Etching_Chamber'] = df_merged['Etching_Chamber'].astype(str)\n",
    "\n",
    "# Flux480s, Flux840s, RTA_Temp 이산형 확인 .astype('category')\n",
    "df_merged['Chamber_Num'] = df_merged['Chamber_Num'].astype(str)\n",
    "\n",
    "df_merged['wafer_defect'] = df_merged['wafer_defect'].astype('category')\n",
    "df_merged['Line_CD_state'] = df_merged['Line_CD_state'].astype('category')\n",
    "df_merged['thickness_state'] = df_merged['thickness_state'].astype('category')"
   ]
  },
  {
   "cell_type": "code",
   "execution_count": 5,
   "id": "9a126efe",
   "metadata": {},
   "outputs": [
    {
     "name": "stdout",
     "output_type": "stream",
     "text": [
      "<class 'pandas.core.frame.DataFrame'>\n",
      "RangeIndex: 14760 entries, 0 to 14759\n",
      "Data columns (total 57 columns):\n",
      " #   Column                Non-Null Count  Dtype   \n",
      "---  ------                --------------  -----   \n",
      " 0   Ox_Chamber            14760 non-null  object  \n",
      " 1   type                  14760 non-null  object  \n",
      " 2   Temp_OXid             14760 non-null  float64 \n",
      " 3   Vapor                 14760 non-null  object  \n",
      " 4   ppm                   14760 non-null  float64 \n",
      " 5   Pressure              14760 non-null  float64 \n",
      " 6   Oxid_time             14760 non-null  int64   \n",
      " 7   thickness             14760 non-null  float64 \n",
      " 8   Lot_Num               14760 non-null  object  \n",
      " 9   Wafer_Num             14760 non-null  object  \n",
      " 10  photo_soft_Chamber    14760 non-null  object  \n",
      " 11  resist_target         14760 non-null  float64 \n",
      " 12  N2_HMDS               14760 non-null  float64 \n",
      " 13  pressure_HMDS         14760 non-null  float64 \n",
      " 14  temp_HMDS             14760 non-null  float64 \n",
      " 15  temp_HMDS_bake        14760 non-null  float64 \n",
      " 16  time_HMDS_bake        14760 non-null  float64 \n",
      " 17  spin1                 14760 non-null  float64 \n",
      " 18  spin2                 14760 non-null  float64 \n",
      " 19  spin3                 14760 non-null  float64 \n",
      " 20  photoresist_bake      14760 non-null  float64 \n",
      " 21  temp_softbake         14760 non-null  float64 \n",
      " 22  time_softbake         14760 non-null  float64 \n",
      " 23  lithography_Chamber   14760 non-null  object  \n",
      " 24  Line_CD               14760 non-null  float64 \n",
      " 25  UV_type               14760 non-null  object  \n",
      " 26  Wavelength            14760 non-null  object  \n",
      " 27  Resolution            14760 non-null  float64 \n",
      " 28  Energy_Exposure       14760 non-null  float64 \n",
      " 29  Etching_Chamber       14760 non-null  object  \n",
      " 30  Thin F4               14760 non-null  float64 \n",
      " 31  Thin F3               14760 non-null  float64 \n",
      " 32  Thin F2               14760 non-null  float64 \n",
      " 33  Thin F1               14760 non-null  float64 \n",
      " 34  Temp_Etching          14760 non-null  float64 \n",
      " 35  Source_Power          14760 non-null  float64 \n",
      " 36  Selectivity           14760 non-null  float64 \n",
      " 37  Chamber_Num           14760 non-null  object  \n",
      " 38  Flux60s               14760 non-null  float64 \n",
      " 39  Flux90s               14760 non-null  float64 \n",
      " 40  Flux160s              14760 non-null  float64 \n",
      " 41  Flux480s              14760 non-null  float64 \n",
      " 42  input_Energy          14760 non-null  float64 \n",
      " 43  Temp_implantation     14760 non-null  float64 \n",
      " 44  Furance_Temp          14760 non-null  float64 \n",
      " 45  RTA_Temp              14760 non-null  int64   \n",
      " 46  Target                14760 non-null  int64   \n",
      " 47  Error_message         14760 non-null  object  \n",
      " 48  merged_Chamber        14760 non-null  int64   \n",
      " 49  path                  14760 non-null  int64   \n",
      " 50  wafer_defect          14760 non-null  category\n",
      " 51  Month                 14760 non-null  int64   \n",
      " 52  IsWeekend             14760 non-null  int64   \n",
      " 53  Line_CD_state         14760 non-null  category\n",
      " 54  thickness_state       14760 non-null  category\n",
      " 55  Defective_Rate_chip   14760 non-null  float64 \n",
      " 56  Defective_Rate_wafer  14760 non-null  float64 \n",
      "dtypes: category(3), float64(35), int64(7), object(12)\n",
      "memory usage: 6.1+ MB\n"
     ]
    }
   ],
   "source": [
    "df_merged.info()"
   ]
  },
  {
   "cell_type": "code",
   "execution_count": 6,
   "id": "d6e6f695",
   "metadata": {
    "scrolled": false
   },
   "outputs": [
    {
     "name": "stdout",
     "output_type": "stream",
     "text": [
      "\n",
      "ANOVA - Non-significant Results (p-value > 0.05):\n",
      "  Feature 1          Feature 2   p-value\n",
      "0    Target  Temp_implantation  0.255976\n"
     ]
    }
   ],
   "source": [
    "# 숫자형 피처만 필터링\n",
    "numerical_features = df_merged.select_dtypes(include=['int64', 'float64']).columns\n",
    "\n",
    "anova_results = {}\n",
    "for feature in numerical_features:\n",
    "    feature_values = df_merged[feature]\n",
    "    \n",
    "    p_values = []\n",
    "    for other_feature in numerical_features:\n",
    "        if other_feature != feature:\n",
    "            other_values = df_merged[other_feature]\n",
    "            try:\n",
    "                # ANOVA 수행\n",
    "                f_stat, p_value = f_oneway(feature_values, other_values)\n",
    "                p_values.append((min(feature, other_feature), max(feature, other_feature), p_value))\n",
    "            except Exception as e:\n",
    "                print(f\"Error processing feature {feature} with {other_feature}: {e}\")\n",
    "                p_values.append((min(feature, other_feature), max(feature, other_feature), None))\n",
    "    \n",
    "    # 피처별 ANOVA 결과를 데이터프레임에 추가\n",
    "    anova_results[feature] = p_values\n",
    "\n",
    "# 유의하지 않은 결과만 필터링 (p-value > 0.05)\n",
    "non_significant_results = []\n",
    "for feature, results in anova_results.items():\n",
    "    for f1, f2, p_value in results:\n",
    "        if p_value is not None and p_value > 0.05:\n",
    "            non_significant_results.append((f1, f2, p_value))\n",
    "\n",
    "# 중복 제거 (정렬된 피처 쌍에 대한 중복 제거)\n",
    "non_significant_results = list(set(non_significant_results))\n",
    "\n",
    "# 결과를 p-value 기준으로 오름차순 정렬\n",
    "non_significant_results_sorted = sorted(non_significant_results, key=lambda x: x[2])\n",
    "\n",
    "# 결과 데이터프레임 생성 및 출력\n",
    "non_significant_df = pd.DataFrame(non_significant_results_sorted, columns=['Feature 1', 'Feature 2', 'p-value'])\n",
    "print(\"\\nANOVA - Non-significant Results (p-value > 0.05):\")\n",
    "print(non_significant_df)"
   ]
  },
  {
   "cell_type": "code",
   "execution_count": 7,
   "id": "11069f4f",
   "metadata": {},
   "outputs": [
    {
     "name": "stdout",
     "output_type": "stream",
     "text": [
      "\n",
      "T-test - Non-significant Results (p-value > 0.05) sorted by p-value:\n",
      "  Feature 1          Feature 2   p-value\n",
      "0    Target  Temp_implantation  0.255976\n"
     ]
    }
   ],
   "source": [
    "# 숫자형 피처만 필터링\n",
    "numerical_features = df_merged.select_dtypes(include=['int64', 'float64']).columns\n",
    "\n",
    "t_test_results = {}\n",
    "for feature in numerical_features:\n",
    "    feature_values = df_merged[feature]\n",
    "    \n",
    "    p_values = []\n",
    "    for other_feature in numerical_features:\n",
    "        if other_feature != feature:\n",
    "            other_values = df_merged[other_feature]\n",
    "            try:\n",
    "                # t-검정 수행\n",
    "                t_stat, p_value = ttest_ind(feature_values, other_values, nan_policy='omit')\n",
    "                p_values.append((min(feature, other_feature), max(feature, other_feature), p_value))\n",
    "            except Exception as e:\n",
    "                print(f\"Error processing feature {feature} with {other_feature}: {e}\")\n",
    "                p_values.append((min(feature, other_feature), max(feature, other_feature), None))\n",
    "    \n",
    "    # 피처별 t-검정 결과를 데이터프레임에 추가\n",
    "    t_test_results[feature] = p_values\n",
    "\n",
    "# 유의하지 않은 결과만 필터링 (p-value > 0.05)\n",
    "non_significant_results = []\n",
    "for feature, results in t_test_results.items():\n",
    "    for f1, f2, p_value in results:\n",
    "        if p_value is not None and p_value > 0.05:\n",
    "            non_significant_results.append((f1, f2, p_value))\n",
    "\n",
    "# 중복 제거 (정렬된 피처 쌍에 대한 중복 제거)\n",
    "non_significant_results = list(set(non_significant_results))\n",
    "\n",
    "# 결과를 p-value 기준으로 오름차순 정렬\n",
    "non_significant_results_sorted = sorted(non_significant_results, key=lambda x: x[2])\n",
    "\n",
    "# 결과 데이터프레임 생성 및 출력\n",
    "non_significant_df = pd.DataFrame(non_significant_results_sorted, columns=['Feature 1', 'Feature 2', 'p-value'])\n",
    "print(\"\\nT-test - Non-significant Results (p-value > 0.05) sorted by p-value:\")\n",
    "print(non_significant_df)"
   ]
  },
  {
   "cell_type": "code",
   "execution_count": 8,
   "id": "7751abfb",
   "metadata": {},
   "outputs": [
    {
     "name": "stdout",
     "output_type": "stream",
     "text": [
      "\n",
      "Cramér's V - Results sorted by Cramér's V:\n",
      "              Feature 1            Feature 2  Cramér's V  \\\n",
      "195       Line_CD_state      thickness_state    0.001908   \n",
      "79   photo_soft_Chamber          Chamber_Num    0.011383   \n",
      "78   photo_soft_Chamber      Etching_Chamber    0.011383   \n",
      "33                Vapor  lithography_Chamber    0.014439   \n",
      "19                 type  lithography_Chamber    0.014439   \n",
      "..                  ...                  ...         ...   \n",
      "65            Wafer_Num          Chamber_Num    0.726066   \n",
      "15                 type                Vapor    0.999861   \n",
      "135     Etching_Chamber          Chamber_Num    1.000000   \n",
      "105             UV_type           Wavelength    1.000000   \n",
      "165       Error_message         wafer_defect    1.000000   \n",
      "\n",
      "                              Feature Pair  \n",
      "195       (Line_CD_state, thickness_state)  \n",
      "79       (Chamber_Num, photo_soft_Chamber)  \n",
      "78   (Etching_Chamber, photo_soft_Chamber)  \n",
      "33            (Vapor, lithography_Chamber)  \n",
      "19             (lithography_Chamber, type)  \n",
      "..                                     ...  \n",
      "65                (Chamber_Num, Wafer_Num)  \n",
      "15                           (Vapor, type)  \n",
      "135         (Chamber_Num, Etching_Chamber)  \n",
      "105                  (UV_type, Wavelength)  \n",
      "165          (Error_message, wafer_defect)  \n",
      "\n",
      "[105 rows x 4 columns]\n"
     ]
    }
   ],
   "source": [
    "def cramers_v(confusion_matrix):\n",
    "    chi2_stat, _, _, _ = chi2_contingency(confusion_matrix)\n",
    "    n = confusion_matrix.sum().sum()\n",
    "    k = min(confusion_matrix.shape) - 1\n",
    "    return np.sqrt(chi2_stat / (n * k))\n",
    "\n",
    "# 범주형 피처만 필터링\n",
    "categorical_features = df_merged.select_dtypes(include=['object', 'category']).columns\n",
    "\n",
    "cramers_v_results = []\n",
    "for feature in categorical_features:\n",
    "    feature_values = df_merged[feature].dropna()\n",
    "    \n",
    "    for other_feature in categorical_features:\n",
    "        if other_feature != feature:\n",
    "            other_values = df_merged[other_feature].dropna()\n",
    "            \n",
    "            # 교차표 생성\n",
    "            contingency_table = pd.crosstab(feature_values, other_values)\n",
    "            \n",
    "            if contingency_table.shape[0] > 1 and contingency_table.shape[1] > 1:\n",
    "                try:\n",
    "                    # Cramér's V 계산\n",
    "                    v = cramers_v(contingency_table)\n",
    "                    cramers_v_results.append((feature, other_feature, v))\n",
    "                except Exception as e:\n",
    "                    print(f\"Error processing feature {feature} with {other_feature}: {e}\")\n",
    "                    cramers_v_results.append((feature, other_feature, None))\n",
    "            else:\n",
    "                cramers_v_results.append((feature, other_feature, None))\n",
    "\n",
    "# 결과를 Cramér's V 값 기준으로 오름차순 정렬\n",
    "cramers_v_df = pd.DataFrame(cramers_v_results, columns=['Feature 1', 'Feature 2', 'Cramér\\'s V'])\n",
    "cramers_v_df = cramers_v_df.dropna(subset=['Cramér\\'s V'])\n",
    "cramers_v_df['Feature Pair'] = cramers_v_df.apply(lambda x: tuple(sorted([x['Feature 1'], x['Feature 2']])), axis=1)\n",
    "cramers_v_df = cramers_v_df.drop_duplicates(subset=['Feature Pair'])\n",
    "cramers_v_df = cramers_v_df.sort_values(by='Cramér\\'s V')\n",
    "\n",
    "print(\"\\nCramér's V - Results sorted by Cramér's V:\")\n",
    "print(cramers_v_df)"
   ]
  },
  {
   "cell_type": "code",
   "execution_count": 9,
   "id": "d410365c",
   "metadata": {},
   "outputs": [],
   "source": [
    "df_merged.drop(columns=['Temp_implantation', 'photo_soft_Chamber', 'Line_CD_state', 'Chamber_Num', 'Etching_Chamber', 'Defective_Rate_wafer', 'Error_message', 'Vapor', 'type'], inplace=True)"
   ]
  },
  {
   "cell_type": "code",
   "execution_count": 10,
   "id": "7926b513",
   "metadata": {},
   "outputs": [],
   "source": [
    "df_char=df_merged.select_dtypes(include=\"object\")\n",
    "df_numeric=df_merged.select_dtypes(exclude=\"object\")\n",
    "\n",
    "scaler = StandardScaler()\n",
    "np_numeric_scaled = scaler.fit_transform(df_numeric)\n",
    "df_numeric_scaled = pd.DataFrame(np_numeric_scaled, columns=df_numeric.columns)\n",
    "df_encoded = pd.get_dummies(df_char, drop_first=True)\n",
    "\n",
    "df_final = df_numeric_scaled.join(df_encoded)"
   ]
  },
  {
   "cell_type": "code",
   "execution_count": 11,
   "id": "6698d28c",
   "metadata": {},
   "outputs": [
    {
     "name": "stdout",
     "output_type": "stream",
     "text": [
      "<class 'pandas.core.frame.DataFrame'>\n",
      "RangeIndex: 14760 entries, 0 to 14759\n",
      "Columns: 134 entries, Temp_OXid to Wavelength_436\n",
      "dtypes: float64(42), uint8(92)\n",
      "memory usage: 6.0 MB\n"
     ]
    }
   ],
   "source": [
    "df_final.info()"
   ]
  },
  {
   "cell_type": "code",
   "execution_count": 12,
   "id": "3084ed49",
   "metadata": {},
   "outputs": [
    {
     "name": "stdout",
     "output_type": "stream",
     "text": [
      "train data size : (10332, 134)\n",
      "test data size : (4428, 134)\n"
     ]
    }
   ],
   "source": [
    "df_train, df_test = train_test_split(df_final, test_size = 0.3, random_state = 1234) \n",
    "print('train data size : {}'.format(df_train.shape)) \n",
    "print('test data size : {}'.format(df_test.shape))"
   ]
  },
  {
   "cell_type": "code",
   "execution_count": 13,
   "id": "d2d8f6cc",
   "metadata": {
    "scrolled": false
   },
   "outputs": [
    {
     "ename": "ValueError",
     "evalue": "Pandas data cast to numpy dtype of object. Check input data with np.asarray(data). The types seen wereNone and const                   float64\nOx_Chamber               object\nTemp_OXid               float64\nppm                     float64\nPressure                float64\nOxid_time                 int64\nthickness               float64\nLot_Num                  object\nWafer_Num                object\nresist_target           float64\nN2_HMDS                 float64\npressure_HMDS           float64\ntemp_HMDS               float64\ntemp_HMDS_bake          float64\ntime_HMDS_bake          float64\nspin1                   float64\nspin2                   float64\nspin3                   float64\nphotoresist_bake        float64\ntemp_softbake           float64\ntime_softbake           float64\nlithography_Chamber      object\nLine_CD                 float64\nUV_type                  object\nWavelength               object\nResolution              float64\nEnergy_Exposure         float64\nThin F4                 float64\nThin F3                 float64\nThin F2                 float64\nThin F1                 float64\nTemp_Etching            float64\nSource_Power            float64\nSelectivity             float64\nFlux60s                 float64\nFlux90s                 float64\nFlux160s                float64\nFlux480s                float64\ninput_Energy            float64\nFurance_Temp            float64\nRTA_Temp                  int64\nmerged_Chamber            int64\npath                      int64\nwafer_defect           category\nMonth                     int64\nIsWeekend                 int64\nthickness_state        category\nDefective_Rate_chip     float64\ndtype: object. The data was\n0        141\n1         55\n2         96\n3        105\n4         79\n        ... \n14755    134\n14756    129\n14757     78\n14758     60\n14759     74\nName: Target, Length: 14760, dtype: int64\nand\n        const Ox_Chamber  Temp_OXid    ppm  Pressure  Oxid_time  thickness  \\\n0        1.0          2    1214.33  26.78      0.30        120     712.98   \n1        1.0          2     977.98  30.90      0.14        137     714.41   \n2        1.0          2    1175.95  31.11      0.25        116     710.27   \n3        1.0          2     933.47  31.20      0.29        143     710.62   \n4        1.0          2    1140.60  31.38      0.20         76     711.70   \n...      ...        ...        ...    ...       ...        ...        ...   \n14755    1.0          3    1119.37  27.37      0.13         50     711.92   \n14756    1.0          3    1263.81  31.62      0.18        112     696.98   \n14757    1.0          3     964.04  38.56      0.08         78     706.11   \n14758    1.0          3    1058.80  32.84      0.38         80     707.33   \n14759    1.0          3    1046.03  44.90      0.31         89     715.99   \n\n      Lot_Num Wafer_Num  resist_target  ...  input_Energy  Furance_Temp  \\\n0          13        28          1.426  ...     30795.856         854.0   \n1          13        29          0.730  ...     32135.659         895.0   \n2          13        30          0.903  ...     31057.876         898.0   \n3          13        31          0.510  ...     32140.435         879.0   \n4          13        32          1.696  ...     31985.989         882.0   \n...       ...       ...            ...  ...           ...           ...   \n14755      13        23          1.154  ...     31877.793         914.0   \n14756      13        24          0.876  ...     30107.476         899.0   \n14757      13        25          0.485  ...     32048.298         903.0   \n14758      13        26          1.672  ...     31221.150         879.0   \n14759      13        27          1.202  ...     31645.170         890.0   \n\n       RTA_Temp  merged_Chamber  path  wafer_defect  Month  IsWeekend  \\\n0           154            2111    28             0      1          1   \n1           156            2112    29             0      1          1   \n2           152            2113    30             0      1          1   \n3           155            2111    28             0      1          1   \n4           155            2112    29             0      1          1   \n...         ...             ...   ...           ...    ...        ...   \n14755       155            3222    68             0      6          0   \n14756       156            3231    70             0      6          0   \n14757       157            3311    73             0      6          0   \n14758       155            3322    77             0      6          0   \n14759       157            3333    81             0      6          0   \n\n       thickness_state  Defective_Rate_chip  \n0                    0               0.0705  \n1                    0               0.0275  \n2                    0               0.0480  \n3                    0               0.0525  \n4                    0               0.0395  \n...                ...                  ...  \n14755                0               0.0670  \n14756                1               0.0645  \n14757                0               0.0390  \n14758                0               0.0300  \n14759                0               0.0370  \n\n[14760 rows x 48 columns]\nbefore. After,\n[141  55  96 ...  78  60  74]\n[[1.0 '2' 1214.33 ... 1 0 0.0705]\n [1.0 '2' 977.98 ... 1 0 0.0275]\n [1.0 '2' 1175.95 ... 1 0 0.048]\n ...\n [1.0 '3' 964.04 ... 0 0 0.039]\n [1.0 '3' 1058.8 ... 0 0 0.03]\n [1.0 '3' 1046.03 ... 0 0 0.037]].",
     "output_type": "error",
     "traceback": [
      "\u001b[0;31m---------------------------------------------------------------------------\u001b[0m",
      "\u001b[0;31mValueError\u001b[0m                                Traceback (most recent call last)",
      "Cell \u001b[0;32mIn[13], line 10\u001b[0m\n\u001b[1;32m      7\u001b[0m X \u001b[38;5;241m=\u001b[39m sm\u001b[38;5;241m.\u001b[39madd_constant(X)\n\u001b[1;32m      9\u001b[0m \u001b[38;5;66;03m# OLS 회귀 모델 생성\u001b[39;00m\n\u001b[0;32m---> 10\u001b[0m model \u001b[38;5;241m=\u001b[39m \u001b[43msm\u001b[49m\u001b[38;5;241;43m.\u001b[39;49m\u001b[43mOLS\u001b[49m\u001b[43m(\u001b[49m\u001b[43my\u001b[49m\u001b[43m,\u001b[49m\u001b[43m \u001b[49m\u001b[43mX\u001b[49m\u001b[43m)\u001b[49m\n\u001b[1;32m     12\u001b[0m \u001b[38;5;66;03m# 모델 학습\u001b[39;00m\n\u001b[1;32m     13\u001b[0m results \u001b[38;5;241m=\u001b[39m model\u001b[38;5;241m.\u001b[39mfit()\n",
      "File \u001b[0;32m~/anaconda3/lib/python3.10/site-packages/statsmodels/regression/linear_model.py:906\u001b[0m, in \u001b[0;36mOLS.__init__\u001b[0;34m(self, endog, exog, missing, hasconst, **kwargs)\u001b[0m\n\u001b[1;32m    903\u001b[0m     msg \u001b[38;5;241m=\u001b[39m (\u001b[38;5;124m\"\u001b[39m\u001b[38;5;124mWeights are not supported in OLS and will be ignored\u001b[39m\u001b[38;5;124m\"\u001b[39m\n\u001b[1;32m    904\u001b[0m            \u001b[38;5;124m\"\u001b[39m\u001b[38;5;124mAn exception will be raised in the next version.\u001b[39m\u001b[38;5;124m\"\u001b[39m)\n\u001b[1;32m    905\u001b[0m     warnings\u001b[38;5;241m.\u001b[39mwarn(msg, ValueWarning)\n\u001b[0;32m--> 906\u001b[0m \u001b[38;5;28;43msuper\u001b[39;49m\u001b[43m(\u001b[49m\u001b[43mOLS\u001b[49m\u001b[43m,\u001b[49m\u001b[43m \u001b[49m\u001b[38;5;28;43mself\u001b[39;49m\u001b[43m)\u001b[49m\u001b[38;5;241;43m.\u001b[39;49m\u001b[38;5;21;43m__init__\u001b[39;49m\u001b[43m(\u001b[49m\u001b[43mendog\u001b[49m\u001b[43m,\u001b[49m\u001b[43m \u001b[49m\u001b[43mexog\u001b[49m\u001b[43m,\u001b[49m\u001b[43m \u001b[49m\u001b[43mmissing\u001b[49m\u001b[38;5;241;43m=\u001b[39;49m\u001b[43mmissing\u001b[49m\u001b[43m,\u001b[49m\n\u001b[1;32m    907\u001b[0m \u001b[43m                          \u001b[49m\u001b[43mhasconst\u001b[49m\u001b[38;5;241;43m=\u001b[39;49m\u001b[43mhasconst\u001b[49m\u001b[43m,\u001b[49m\u001b[43m \u001b[49m\u001b[38;5;241;43m*\u001b[39;49m\u001b[38;5;241;43m*\u001b[39;49m\u001b[43mkwargs\u001b[49m\u001b[43m)\u001b[49m\n\u001b[1;32m    908\u001b[0m \u001b[38;5;28;01mif\u001b[39;00m \u001b[38;5;124m\"\u001b[39m\u001b[38;5;124mweights\u001b[39m\u001b[38;5;124m\"\u001b[39m \u001b[38;5;129;01min\u001b[39;00m \u001b[38;5;28mself\u001b[39m\u001b[38;5;241m.\u001b[39m_init_keys:\n\u001b[1;32m    909\u001b[0m     \u001b[38;5;28mself\u001b[39m\u001b[38;5;241m.\u001b[39m_init_keys\u001b[38;5;241m.\u001b[39mremove(\u001b[38;5;124m\"\u001b[39m\u001b[38;5;124mweights\u001b[39m\u001b[38;5;124m\"\u001b[39m)\n",
      "File \u001b[0;32m~/anaconda3/lib/python3.10/site-packages/statsmodels/regression/linear_model.py:733\u001b[0m, in \u001b[0;36mWLS.__init__\u001b[0;34m(self, endog, exog, weights, missing, hasconst, **kwargs)\u001b[0m\n\u001b[1;32m    731\u001b[0m \u001b[38;5;28;01melse\u001b[39;00m:\n\u001b[1;32m    732\u001b[0m     weights \u001b[38;5;241m=\u001b[39m weights\u001b[38;5;241m.\u001b[39msqueeze()\n\u001b[0;32m--> 733\u001b[0m \u001b[38;5;28;43msuper\u001b[39;49m\u001b[43m(\u001b[49m\u001b[43mWLS\u001b[49m\u001b[43m,\u001b[49m\u001b[43m \u001b[49m\u001b[38;5;28;43mself\u001b[39;49m\u001b[43m)\u001b[49m\u001b[38;5;241;43m.\u001b[39;49m\u001b[38;5;21;43m__init__\u001b[39;49m\u001b[43m(\u001b[49m\u001b[43mendog\u001b[49m\u001b[43m,\u001b[49m\u001b[43m \u001b[49m\u001b[43mexog\u001b[49m\u001b[43m,\u001b[49m\u001b[43m \u001b[49m\u001b[43mmissing\u001b[49m\u001b[38;5;241;43m=\u001b[39;49m\u001b[43mmissing\u001b[49m\u001b[43m,\u001b[49m\n\u001b[1;32m    734\u001b[0m \u001b[43m                          \u001b[49m\u001b[43mweights\u001b[49m\u001b[38;5;241;43m=\u001b[39;49m\u001b[43mweights\u001b[49m\u001b[43m,\u001b[49m\u001b[43m \u001b[49m\u001b[43mhasconst\u001b[49m\u001b[38;5;241;43m=\u001b[39;49m\u001b[43mhasconst\u001b[49m\u001b[43m,\u001b[49m\u001b[43m \u001b[49m\u001b[38;5;241;43m*\u001b[39;49m\u001b[38;5;241;43m*\u001b[39;49m\u001b[43mkwargs\u001b[49m\u001b[43m)\u001b[49m\n\u001b[1;32m    735\u001b[0m nobs \u001b[38;5;241m=\u001b[39m \u001b[38;5;28mself\u001b[39m\u001b[38;5;241m.\u001b[39mexog\u001b[38;5;241m.\u001b[39mshape[\u001b[38;5;241m0\u001b[39m]\n\u001b[1;32m    736\u001b[0m weights \u001b[38;5;241m=\u001b[39m \u001b[38;5;28mself\u001b[39m\u001b[38;5;241m.\u001b[39mweights\n",
      "File \u001b[0;32m~/anaconda3/lib/python3.10/site-packages/statsmodels/regression/linear_model.py:190\u001b[0m, in \u001b[0;36mRegressionModel.__init__\u001b[0;34m(self, endog, exog, **kwargs)\u001b[0m\n\u001b[1;32m    189\u001b[0m \u001b[38;5;28;01mdef\u001b[39;00m \u001b[38;5;21m__init__\u001b[39m(\u001b[38;5;28mself\u001b[39m, endog, exog, \u001b[38;5;241m*\u001b[39m\u001b[38;5;241m*\u001b[39mkwargs):\n\u001b[0;32m--> 190\u001b[0m     \u001b[38;5;28;43msuper\u001b[39;49m\u001b[43m(\u001b[49m\u001b[43mRegressionModel\u001b[49m\u001b[43m,\u001b[49m\u001b[43m \u001b[49m\u001b[38;5;28;43mself\u001b[39;49m\u001b[43m)\u001b[49m\u001b[38;5;241;43m.\u001b[39;49m\u001b[38;5;21;43m__init__\u001b[39;49m\u001b[43m(\u001b[49m\u001b[43mendog\u001b[49m\u001b[43m,\u001b[49m\u001b[43m \u001b[49m\u001b[43mexog\u001b[49m\u001b[43m,\u001b[49m\u001b[43m \u001b[49m\u001b[38;5;241;43m*\u001b[39;49m\u001b[38;5;241;43m*\u001b[39;49m\u001b[43mkwargs\u001b[49m\u001b[43m)\u001b[49m\n\u001b[1;32m    191\u001b[0m     \u001b[38;5;28mself\u001b[39m\u001b[38;5;241m.\u001b[39m_data_attr\u001b[38;5;241m.\u001b[39mextend([\u001b[38;5;124m'\u001b[39m\u001b[38;5;124mpinv_wexog\u001b[39m\u001b[38;5;124m'\u001b[39m, \u001b[38;5;124m'\u001b[39m\u001b[38;5;124mwendog\u001b[39m\u001b[38;5;124m'\u001b[39m, \u001b[38;5;124m'\u001b[39m\u001b[38;5;124mwexog\u001b[39m\u001b[38;5;124m'\u001b[39m, \u001b[38;5;124m'\u001b[39m\u001b[38;5;124mweights\u001b[39m\u001b[38;5;124m'\u001b[39m])\n",
      "File \u001b[0;32m~/anaconda3/lib/python3.10/site-packages/statsmodels/base/model.py:267\u001b[0m, in \u001b[0;36mLikelihoodModel.__init__\u001b[0;34m(self, endog, exog, **kwargs)\u001b[0m\n\u001b[1;32m    266\u001b[0m \u001b[38;5;28;01mdef\u001b[39;00m \u001b[38;5;21m__init__\u001b[39m(\u001b[38;5;28mself\u001b[39m, endog, exog\u001b[38;5;241m=\u001b[39m\u001b[38;5;28;01mNone\u001b[39;00m, \u001b[38;5;241m*\u001b[39m\u001b[38;5;241m*\u001b[39mkwargs):\n\u001b[0;32m--> 267\u001b[0m     \u001b[38;5;28;43msuper\u001b[39;49m\u001b[43m(\u001b[49m\u001b[43m)\u001b[49m\u001b[38;5;241;43m.\u001b[39;49m\u001b[38;5;21;43m__init__\u001b[39;49m\u001b[43m(\u001b[49m\u001b[43mendog\u001b[49m\u001b[43m,\u001b[49m\u001b[43m \u001b[49m\u001b[43mexog\u001b[49m\u001b[43m,\u001b[49m\u001b[43m \u001b[49m\u001b[38;5;241;43m*\u001b[39;49m\u001b[38;5;241;43m*\u001b[39;49m\u001b[43mkwargs\u001b[49m\u001b[43m)\u001b[49m\n\u001b[1;32m    268\u001b[0m     \u001b[38;5;28mself\u001b[39m\u001b[38;5;241m.\u001b[39minitialize()\n",
      "File \u001b[0;32m~/anaconda3/lib/python3.10/site-packages/statsmodels/base/model.py:92\u001b[0m, in \u001b[0;36mModel.__init__\u001b[0;34m(self, endog, exog, **kwargs)\u001b[0m\n\u001b[1;32m     90\u001b[0m missing \u001b[38;5;241m=\u001b[39m kwargs\u001b[38;5;241m.\u001b[39mpop(\u001b[38;5;124m'\u001b[39m\u001b[38;5;124mmissing\u001b[39m\u001b[38;5;124m'\u001b[39m, \u001b[38;5;124m'\u001b[39m\u001b[38;5;124mnone\u001b[39m\u001b[38;5;124m'\u001b[39m)\n\u001b[1;32m     91\u001b[0m hasconst \u001b[38;5;241m=\u001b[39m kwargs\u001b[38;5;241m.\u001b[39mpop(\u001b[38;5;124m'\u001b[39m\u001b[38;5;124mhasconst\u001b[39m\u001b[38;5;124m'\u001b[39m, \u001b[38;5;28;01mNone\u001b[39;00m)\n\u001b[0;32m---> 92\u001b[0m \u001b[38;5;28mself\u001b[39m\u001b[38;5;241m.\u001b[39mdata \u001b[38;5;241m=\u001b[39m \u001b[38;5;28;43mself\u001b[39;49m\u001b[38;5;241;43m.\u001b[39;49m\u001b[43m_handle_data\u001b[49m\u001b[43m(\u001b[49m\u001b[43mendog\u001b[49m\u001b[43m,\u001b[49m\u001b[43m \u001b[49m\u001b[43mexog\u001b[49m\u001b[43m,\u001b[49m\u001b[43m \u001b[49m\u001b[43mmissing\u001b[49m\u001b[43m,\u001b[49m\u001b[43m \u001b[49m\u001b[43mhasconst\u001b[49m\u001b[43m,\u001b[49m\n\u001b[1;32m     93\u001b[0m \u001b[43m                              \u001b[49m\u001b[38;5;241;43m*\u001b[39;49m\u001b[38;5;241;43m*\u001b[39;49m\u001b[43mkwargs\u001b[49m\u001b[43m)\u001b[49m\n\u001b[1;32m     94\u001b[0m \u001b[38;5;28mself\u001b[39m\u001b[38;5;241m.\u001b[39mk_constant \u001b[38;5;241m=\u001b[39m \u001b[38;5;28mself\u001b[39m\u001b[38;5;241m.\u001b[39mdata\u001b[38;5;241m.\u001b[39mk_constant\n\u001b[1;32m     95\u001b[0m \u001b[38;5;28mself\u001b[39m\u001b[38;5;241m.\u001b[39mexog \u001b[38;5;241m=\u001b[39m \u001b[38;5;28mself\u001b[39m\u001b[38;5;241m.\u001b[39mdata\u001b[38;5;241m.\u001b[39mexog\n",
      "File \u001b[0;32m~/anaconda3/lib/python3.10/site-packages/statsmodels/base/model.py:132\u001b[0m, in \u001b[0;36mModel._handle_data\u001b[0;34m(self, endog, exog, missing, hasconst, **kwargs)\u001b[0m\n\u001b[1;32m    131\u001b[0m \u001b[38;5;28;01mdef\u001b[39;00m \u001b[38;5;21m_handle_data\u001b[39m(\u001b[38;5;28mself\u001b[39m, endog, exog, missing, hasconst, \u001b[38;5;241m*\u001b[39m\u001b[38;5;241m*\u001b[39mkwargs):\n\u001b[0;32m--> 132\u001b[0m     data \u001b[38;5;241m=\u001b[39m \u001b[43mhandle_data\u001b[49m\u001b[43m(\u001b[49m\u001b[43mendog\u001b[49m\u001b[43m,\u001b[49m\u001b[43m \u001b[49m\u001b[43mexog\u001b[49m\u001b[43m,\u001b[49m\u001b[43m \u001b[49m\u001b[43mmissing\u001b[49m\u001b[43m,\u001b[49m\u001b[43m \u001b[49m\u001b[43mhasconst\u001b[49m\u001b[43m,\u001b[49m\u001b[43m \u001b[49m\u001b[38;5;241;43m*\u001b[39;49m\u001b[38;5;241;43m*\u001b[39;49m\u001b[43mkwargs\u001b[49m\u001b[43m)\u001b[49m\n\u001b[1;32m    133\u001b[0m     \u001b[38;5;66;03m# kwargs arrays could have changed, easier to just attach here\u001b[39;00m\n\u001b[1;32m    134\u001b[0m     \u001b[38;5;28;01mfor\u001b[39;00m key \u001b[38;5;129;01min\u001b[39;00m kwargs:\n",
      "File \u001b[0;32m~/anaconda3/lib/python3.10/site-packages/statsmodels/base/data.py:700\u001b[0m, in \u001b[0;36mhandle_data\u001b[0;34m(endog, exog, missing, hasconst, **kwargs)\u001b[0m\n\u001b[1;32m    697\u001b[0m     exog \u001b[38;5;241m=\u001b[39m np\u001b[38;5;241m.\u001b[39masarray(exog)\n\u001b[1;32m    699\u001b[0m klass \u001b[38;5;241m=\u001b[39m handle_data_class_factory(endog, exog)\n\u001b[0;32m--> 700\u001b[0m \u001b[38;5;28;01mreturn\u001b[39;00m \u001b[43mklass\u001b[49m\u001b[43m(\u001b[49m\u001b[43mendog\u001b[49m\u001b[43m,\u001b[49m\u001b[43m \u001b[49m\u001b[43mexog\u001b[49m\u001b[38;5;241;43m=\u001b[39;49m\u001b[43mexog\u001b[49m\u001b[43m,\u001b[49m\u001b[43m \u001b[49m\u001b[43mmissing\u001b[49m\u001b[38;5;241;43m=\u001b[39;49m\u001b[43mmissing\u001b[49m\u001b[43m,\u001b[49m\u001b[43m \u001b[49m\u001b[43mhasconst\u001b[49m\u001b[38;5;241;43m=\u001b[39;49m\u001b[43mhasconst\u001b[49m\u001b[43m,\u001b[49m\n\u001b[1;32m    701\u001b[0m \u001b[43m             \u001b[49m\u001b[38;5;241;43m*\u001b[39;49m\u001b[38;5;241;43m*\u001b[39;49m\u001b[43mkwargs\u001b[49m\u001b[43m)\u001b[49m\n",
      "File \u001b[0;32m~/anaconda3/lib/python3.10/site-packages/statsmodels/base/data.py:84\u001b[0m, in \u001b[0;36mModelData.__init__\u001b[0;34m(self, endog, exog, missing, hasconst, **kwargs)\u001b[0m\n\u001b[1;32m     82\u001b[0m     \u001b[38;5;28mself\u001b[39m\u001b[38;5;241m.\u001b[39morig_endog \u001b[38;5;241m=\u001b[39m endog\n\u001b[1;32m     83\u001b[0m     \u001b[38;5;28mself\u001b[39m\u001b[38;5;241m.\u001b[39morig_exog \u001b[38;5;241m=\u001b[39m exog\n\u001b[0;32m---> 84\u001b[0m     \u001b[38;5;28mself\u001b[39m\u001b[38;5;241m.\u001b[39mendog, \u001b[38;5;28mself\u001b[39m\u001b[38;5;241m.\u001b[39mexog \u001b[38;5;241m=\u001b[39m \u001b[38;5;28;43mself\u001b[39;49m\u001b[38;5;241;43m.\u001b[39;49m\u001b[43m_convert_endog_exog\u001b[49m\u001b[43m(\u001b[49m\u001b[43mendog\u001b[49m\u001b[43m,\u001b[49m\u001b[43m \u001b[49m\u001b[43mexog\u001b[49m\u001b[43m)\u001b[49m\n\u001b[1;32m     86\u001b[0m \u001b[38;5;28mself\u001b[39m\u001b[38;5;241m.\u001b[39mconst_idx \u001b[38;5;241m=\u001b[39m \u001b[38;5;28;01mNone\u001b[39;00m\n\u001b[1;32m     87\u001b[0m \u001b[38;5;28mself\u001b[39m\u001b[38;5;241m.\u001b[39mk_constant \u001b[38;5;241m=\u001b[39m \u001b[38;5;241m0\u001b[39m\n",
      "File \u001b[0;32m~/anaconda3/lib/python3.10/site-packages/statsmodels/base/data.py:530\u001b[0m, in \u001b[0;36mPandasData._convert_endog_exog\u001b[0;34m(self, endog, exog)\u001b[0m\n\u001b[1;32m    528\u001b[0m     \u001b[38;5;28;01melse\u001b[39;00m:\n\u001b[1;32m    529\u001b[0m         exog_dtype \u001b[38;5;241m=\u001b[39m \u001b[38;5;28;01mNone\u001b[39;00m\n\u001b[0;32m--> 530\u001b[0m     \u001b[38;5;28;01mraise\u001b[39;00m \u001b[38;5;167;01mValueError\u001b[39;00m(\n\u001b[1;32m    531\u001b[0m         \u001b[38;5;124m\"\u001b[39m\u001b[38;5;124mPandas data cast to numpy dtype of object. Check input data \u001b[39m\u001b[38;5;124m\"\u001b[39m\n\u001b[1;32m    532\u001b[0m         \u001b[38;5;124m\"\u001b[39m\u001b[38;5;124mwith np.asarray(data). The types seen were\u001b[39m\u001b[38;5;124m\"\u001b[39m\n\u001b[1;32m    533\u001b[0m         \u001b[38;5;124mf\u001b[39m\u001b[38;5;124m\"\u001b[39m\u001b[38;5;132;01m{\u001b[39;00mendog_dtype\u001b[38;5;132;01m}\u001b[39;00m\u001b[38;5;124m and \u001b[39m\u001b[38;5;132;01m{\u001b[39;00mexog_dtype\u001b[38;5;132;01m}\u001b[39;00m\u001b[38;5;124m. The data was\u001b[39m\u001b[38;5;130;01m\\n\u001b[39;00m\u001b[38;5;124m\"\u001b[39m\n\u001b[1;32m    534\u001b[0m         \u001b[38;5;124mf\u001b[39m\u001b[38;5;124m\"\u001b[39m\u001b[38;5;132;01m{\u001b[39;00morig_endog\u001b[38;5;132;01m}\u001b[39;00m\u001b[38;5;130;01m\\n\u001b[39;00m\u001b[38;5;124mand\u001b[39m\u001b[38;5;130;01m\\n\u001b[39;00m\u001b[38;5;124m \u001b[39m\u001b[38;5;132;01m{\u001b[39;00morig_exog\u001b[38;5;132;01m}\u001b[39;00m\u001b[38;5;130;01m\\n\u001b[39;00m\u001b[38;5;124mbefore. After,\u001b[39m\u001b[38;5;130;01m\\n\u001b[39;00m\u001b[38;5;132;01m{\u001b[39;00mendog\u001b[38;5;132;01m}\u001b[39;00m\u001b[38;5;130;01m\\n\u001b[39;00m\u001b[38;5;132;01m{\u001b[39;00mexog\u001b[38;5;132;01m}\u001b[39;00m\u001b[38;5;124m.\u001b[39m\u001b[38;5;124m\"\u001b[39m\n\u001b[1;32m    535\u001b[0m     )\n\u001b[1;32m    536\u001b[0m \u001b[38;5;28;01mreturn\u001b[39;00m \u001b[38;5;28msuper\u001b[39m(PandasData, \u001b[38;5;28mself\u001b[39m)\u001b[38;5;241m.\u001b[39m_convert_endog_exog(endog, exog)\n",
      "\u001b[0;31mValueError\u001b[0m: Pandas data cast to numpy dtype of object. Check input data with np.asarray(data). The types seen wereNone and const                   float64\nOx_Chamber               object\nTemp_OXid               float64\nppm                     float64\nPressure                float64\nOxid_time                 int64\nthickness               float64\nLot_Num                  object\nWafer_Num                object\nresist_target           float64\nN2_HMDS                 float64\npressure_HMDS           float64\ntemp_HMDS               float64\ntemp_HMDS_bake          float64\ntime_HMDS_bake          float64\nspin1                   float64\nspin2                   float64\nspin3                   float64\nphotoresist_bake        float64\ntemp_softbake           float64\ntime_softbake           float64\nlithography_Chamber      object\nLine_CD                 float64\nUV_type                  object\nWavelength               object\nResolution              float64\nEnergy_Exposure         float64\nThin F4                 float64\nThin F3                 float64\nThin F2                 float64\nThin F1                 float64\nTemp_Etching            float64\nSource_Power            float64\nSelectivity             float64\nFlux60s                 float64\nFlux90s                 float64\nFlux160s                float64\nFlux480s                float64\ninput_Energy            float64\nFurance_Temp            float64\nRTA_Temp                  int64\nmerged_Chamber            int64\npath                      int64\nwafer_defect           category\nMonth                     int64\nIsWeekend                 int64\nthickness_state        category\nDefective_Rate_chip     float64\ndtype: object. The data was\n0        141\n1         55\n2         96\n3        105\n4         79\n        ... \n14755    134\n14756    129\n14757     78\n14758     60\n14759     74\nName: Target, Length: 14760, dtype: int64\nand\n        const Ox_Chamber  Temp_OXid    ppm  Pressure  Oxid_time  thickness  \\\n0        1.0          2    1214.33  26.78      0.30        120     712.98   \n1        1.0          2     977.98  30.90      0.14        137     714.41   \n2        1.0          2    1175.95  31.11      0.25        116     710.27   \n3        1.0          2     933.47  31.20      0.29        143     710.62   \n4        1.0          2    1140.60  31.38      0.20         76     711.70   \n...      ...        ...        ...    ...       ...        ...        ...   \n14755    1.0          3    1119.37  27.37      0.13         50     711.92   \n14756    1.0          3    1263.81  31.62      0.18        112     696.98   \n14757    1.0          3     964.04  38.56      0.08         78     706.11   \n14758    1.0          3    1058.80  32.84      0.38         80     707.33   \n14759    1.0          3    1046.03  44.90      0.31         89     715.99   \n\n      Lot_Num Wafer_Num  resist_target  ...  input_Energy  Furance_Temp  \\\n0          13        28          1.426  ...     30795.856         854.0   \n1          13        29          0.730  ...     32135.659         895.0   \n2          13        30          0.903  ...     31057.876         898.0   \n3          13        31          0.510  ...     32140.435         879.0   \n4          13        32          1.696  ...     31985.989         882.0   \n...       ...       ...            ...  ...           ...           ...   \n14755      13        23          1.154  ...     31877.793         914.0   \n14756      13        24          0.876  ...     30107.476         899.0   \n14757      13        25          0.485  ...     32048.298         903.0   \n14758      13        26          1.672  ...     31221.150         879.0   \n14759      13        27          1.202  ...     31645.170         890.0   \n\n       RTA_Temp  merged_Chamber  path  wafer_defect  Month  IsWeekend  \\\n0           154            2111    28             0      1          1   \n1           156            2112    29             0      1          1   \n2           152            2113    30             0      1          1   \n3           155            2111    28             0      1          1   \n4           155            2112    29             0      1          1   \n...         ...             ...   ...           ...    ...        ...   \n14755       155            3222    68             0      6          0   \n14756       156            3231    70             0      6          0   \n14757       157            3311    73             0      6          0   \n14758       155            3322    77             0      6          0   \n14759       157            3333    81             0      6          0   \n\n       thickness_state  Defective_Rate_chip  \n0                    0               0.0705  \n1                    0               0.0275  \n2                    0               0.0480  \n3                    0               0.0525  \n4                    0               0.0395  \n...                ...                  ...  \n14755                0               0.0670  \n14756                1               0.0645  \n14757                0               0.0390  \n14758                0               0.0300  \n14759                0               0.0370  \n\n[14760 rows x 48 columns]\nbefore. After,\n[141  55  96 ...  78  60  74]\n[[1.0 '2' 1214.33 ... 1 0 0.0705]\n [1.0 '2' 977.98 ... 1 0 0.0275]\n [1.0 '2' 1175.95 ... 1 0 0.048]\n ...\n [1.0 '3' 964.04 ... 0 0 0.039]\n [1.0 '3' 1058.8 ... 0 0 0.03]\n [1.0 '3' 1046.03 ... 0 0 0.037]]."
     ]
    }
   ],
   "source": [
    "# 특성과 타겟 변수 정의\n",
    "# 여기서는 'target'이 회귀를 수행할 타겟 변수를 나타낸다고 가정합니다.\n",
    "X = df_merged.drop(columns='Target')  # 'target' 열을 실제 타겟 변수 이름으로 바꿉니다.\n",
    "y = df_merged['Target']  # 'target' 열을 실제 타겟 변수 이름으로 바꿉니다.\n",
    "\n",
    "# 상수 항 추가 (절편을 포함시키기 위해)\n",
    "X = sm.add_constant(X)\n",
    "\n",
    "# OLS 회귀 모델 생성\n",
    "model = sm.OLS(y, X)\n",
    "\n",
    "# 모델 학습\n",
    "results = model.fit()\n",
    "\n",
    "# 회귀 분석 결과 출력\n",
    "print(results.summary())"
   ]
  },
  {
   "cell_type": "code",
   "execution_count": null,
   "id": "b46f7e50",
   "metadata": {},
   "outputs": [],
   "source": []
  }
 ],
 "metadata": {
  "kernelspec": {
   "display_name": "Python [conda env:base] *",
   "language": "python",
   "name": "conda-base-py"
  },
  "language_info": {
   "codemirror_mode": {
    "name": "ipython",
    "version": 3
   },
   "file_extension": ".py",
   "mimetype": "text/x-python",
   "name": "python",
   "nbconvert_exporter": "python",
   "pygments_lexer": "ipython3",
   "version": "3.10.9"
  }
 },
 "nbformat": 4,
 "nbformat_minor": 5
}
