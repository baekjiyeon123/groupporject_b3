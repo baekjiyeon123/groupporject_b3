{
 "cells": [
  {
   "cell_type": "code",
   "execution_count": 1,
   "id": "98a51b46",
   "metadata": {},
   "outputs": [],
   "source": [
    "import pandas as pd\n",
    "import numpy as np\n",
    "from numpy.random import randn\n",
    "\n",
    "import matplotlib\n",
    "import matplotlib.pyplot as plt\n",
    "import seaborn as sns\n",
    "%matplotlib inline\n",
    "\n",
    "import statsmodels.formula.api as smf\n",
    "from statsmodels.api import qqplot, add_constant\n",
    "from statsmodels.stats.outliers_influence import variance_inflation_factor\n",
    "from statsmodels.stats.proportion import proportions_ztest\n",
    "\n",
    "import graphviz\n",
    "from sklearn.impute import SimpleImputer\n",
    "from sklearn.linear_model import LinearRegression, Ridge, Lasso, ElasticNet\n",
    "from sklearn.tree import export_graphviz\n",
    "from sklearn.tree import DecisionTreeRegressor\n",
    "from sklearn.ensemble import RandomForestRegressor\n",
    "from sklearn.ensemble import GradientBoostingRegressor\n",
    "from sklearn.model_selection import train_test_split\n",
    "from sklearn.model_selection import GridSearchCV\n",
    "from sklearn.feature_selection import RFE\n",
    "\n",
    "from sklearn.preprocessing import StandardScaler, MinMaxScaler, RobustScaler\n",
    "from sklearn.metrics import mean_squared_error, mean_absolute_error, r2_score, mean_absolute_percentage_error\n",
    "\n",
    "import warnings\n",
    "warnings.filterwarnings('ignore')\n",
    "\n",
    "matplotlib.rc('font', family = 'NanumBarunGothic')\n",
    "matplotlib.rc('axes', unicode_minus = False)"
   ]
  },
  {
   "cell_type": "markdown",
   "id": "1eefd17b",
   "metadata": {},
   "source": [
    "### 타겟변수\n",
    "- Price : 중고차 가격(단위:천원)\n",
    "\n",
    "### 설명변수\n",
    "- Name : 자동차 브랜드, 모델\n",
    "- Location : 영업점 위치\n",
    "- Year : 모델 연식\n",
    "- Kilometers_Driven : 차량 누적 주행거리(Km)\n",
    "- Fuel_Type : 자동차 사용연료\n",
    "- Transmission : 변속방식(Manual/Automatic)\n",
    "- Owner_Type : 소유권한 여부\n",
    "- Mileage : 표준주행거리(kmpl)\n",
    "- Engine : 엔진배기량(cc)\n",
    "- Power : 엔진최대출력(bhp)\n",
    "- Seats : 좌석 수\n",
    "- New_Price : 신차 가격"
   ]
  },
  {
   "cell_type": "code",
   "execution_count": 2,
   "id": "20c04f47",
   "metadata": {},
   "outputs": [],
   "source": [
    "def classify_city_income(city_name):\n",
    "    high_income = {\n",
    "        \"Mumbai\": \"High\",\n",
    "        \"Delhi\": \"High\",\n",
    "        \"Bangalore\": \"High\",\n",
    "        \"Chennai\": \"High\"}\n",
    "\n",
    "    mid_income = {\n",
    "        \"Hyderabad\": \"Median\",\n",
    "        \"Ahmedabad\": \"Median\",\n",
    "        \"Pune\": \"Median\",\n",
    "        \"Kolkata\": \"Median\",\n",
    "        \"Coimbatore\": \"Median\"}\n",
    "    \n",
    "    low_income = {\n",
    "        \"Jaipur\": \"Low\",\n",
    "        \"Kochi\": \"Low\"}\n",
    "    \n",
    "    city_name = city_name.strip()\n",
    "    \n",
    "    if city_name in high_income:\n",
    "        return high_income[city_name]\n",
    "    elif city_name in mid_income:\n",
    "        return mid_income[city_name]\n",
    "    elif city_name in low_income:\n",
    "        return low_income[city_name]\n",
    "    else:\n",
    "        return np.nan\n",
    "    \n",
    "    \n",
    "def classify_car_by_seats(seat_count):\n",
    "    if seat_count == 2:\n",
    "        return \"Sports Car\"\n",
    "    elif seat_count == 4:\n",
    "        return \"Sedan\"\n",
    "    elif seat_count == 5:\n",
    "        return \"Standard Car\"\n",
    "    elif seat_count in (6, 7):\n",
    "        return \"SUV\"\n",
    "    else:\n",
    "        return \"Large Vehicle\"\n",
    "    \n",
    "brand_categories = {\n",
    "    'Audi': 'Luxury', 'BMW': 'Luxury', 'Mercedes-Benz': 'Luxury', 'Jaguar': 'Luxury', 'Porsche': 'Luxury', 'Bentley': 'Luxury', 'Lamborghini': 'Luxury',\n",
    "    'Volvo': 'Premium', 'Land': 'Premium', 'Mini': 'Premium', 'Smart': 'Premium',\n",
    "    'Toyota': 'Mainstream', 'Honda': 'Mainstream', 'Hyundai': 'Mainstream', 'Nissan': 'Mainstream', 'Volkswagen': 'Mainstream', 'Ford': 'Mainstream', 'Chevrolet': 'Mainstream',\n",
    "    'Maruti': 'Economy', 'Tata': 'Economy', 'Mahindra': 'Economy', 'Datsun': 'Economy', 'Fiat': 'Economy', 'Renault': 'Economy', 'Skoda': 'Economy', 'Jeep': 'Economy', 'OpelCorsa': 'Economy',\n",
    "    'ISUZU': 'Commercial/Utility', 'Force': 'Commercial/Utility', 'Hindustan': 'Commercial/Utility', 'Ambassador': 'Commercial/Utility', 'Mitsubishi': 'Mainstream'}"
   ]
  },
  {
   "cell_type": "code",
   "execution_count": 3,
   "id": "8299caf8",
   "metadata": {},
   "outputs": [
    {
     "data": {
      "text/plain": [
       "(7253, 13)"
      ]
     },
     "execution_count": 3,
     "metadata": {},
     "output_type": "execute_result"
    }
   ],
   "source": [
    "df = pd.read_csv(\"/home/piai/다운로드/01_실습파일/2. Big Data 분석/Car.csv\")\n",
    "df.shape"
   ]
  },
  {
   "cell_type": "code",
   "execution_count": 4,
   "id": "5a0585d9",
   "metadata": {},
   "outputs": [],
   "source": [
    "df['Engine'] = df['Engine'].replace(['null', '0 CC'], np.nan).astype(str).str.replace(' CC', '').astype(float)\n",
    "df['Power'] = df['Power'].replace(['null bhp', '0 bhp'], np.nan).astype(str).str.replace(' bhp', '').astype(float)\n",
    "df['Mileage'] = df['Mileage'].replace('null kmpl', np.nan).astype(str).str.replace(' kmpl', '').astype(str).str.replace(' km/kg', '').astype(float)"
   ]
  },
  {
   "cell_type": "code",
   "execution_count": 5,
   "id": "36546288",
   "metadata": {
    "scrolled": true
   },
   "outputs": [
    {
     "data": {
      "text/html": [
       "<div>\n",
       "<style scoped>\n",
       "    .dataframe tbody tr th:only-of-type {\n",
       "        vertical-align: middle;\n",
       "    }\n",
       "\n",
       "    .dataframe tbody tr th {\n",
       "        vertical-align: top;\n",
       "    }\n",
       "\n",
       "    .dataframe thead th {\n",
       "        text-align: right;\n",
       "    }\n",
       "</style>\n",
       "<table border=\"1\" class=\"dataframe\">\n",
       "  <thead>\n",
       "    <tr style=\"text-align: right;\">\n",
       "      <th></th>\n",
       "      <th>Name</th>\n",
       "      <th>Location</th>\n",
       "      <th>Price</th>\n",
       "      <th>Year</th>\n",
       "      <th>Kilometers_Driven</th>\n",
       "      <th>Fuel_Type</th>\n",
       "      <th>Transmission</th>\n",
       "      <th>Owner_Type</th>\n",
       "      <th>Mileage</th>\n",
       "      <th>Engine</th>\n",
       "      <th>Power</th>\n",
       "      <th>Seats</th>\n",
       "      <th>New_Price</th>\n",
       "    </tr>\n",
       "  </thead>\n",
       "  <tbody>\n",
       "    <tr>\n",
       "      <th>0</th>\n",
       "      <td>Maruti Wagon R LXI CNG</td>\n",
       "      <td>Mumbai</td>\n",
       "      <td>2682.68</td>\n",
       "      <td>2010</td>\n",
       "      <td>72000</td>\n",
       "      <td>CNG</td>\n",
       "      <td>Manual</td>\n",
       "      <td>First</td>\n",
       "      <td>26.60</td>\n",
       "      <td>998.0</td>\n",
       "      <td>58.16</td>\n",
       "      <td>5.0</td>\n",
       "      <td>NaN</td>\n",
       "    </tr>\n",
       "    <tr>\n",
       "      <th>1</th>\n",
       "      <td>Hyundai Creta 1.6 CRDi SX Option</td>\n",
       "      <td>Pune</td>\n",
       "      <td>19162.00</td>\n",
       "      <td>2015</td>\n",
       "      <td>41000</td>\n",
       "      <td>Diesel</td>\n",
       "      <td>Manual</td>\n",
       "      <td>First</td>\n",
       "      <td>19.67</td>\n",
       "      <td>1582.0</td>\n",
       "      <td>126.20</td>\n",
       "      <td>5.0</td>\n",
       "      <td>NaN</td>\n",
       "    </tr>\n",
       "    <tr>\n",
       "      <th>2</th>\n",
       "      <td>Honda Jazz V</td>\n",
       "      <td>Chennai</td>\n",
       "      <td>6898.32</td>\n",
       "      <td>2011</td>\n",
       "      <td>46000</td>\n",
       "      <td>Petrol</td>\n",
       "      <td>Manual</td>\n",
       "      <td>First</td>\n",
       "      <td>18.20</td>\n",
       "      <td>1199.0</td>\n",
       "      <td>88.70</td>\n",
       "      <td>5.0</td>\n",
       "      <td>8.61 Lakh</td>\n",
       "    </tr>\n",
       "    <tr>\n",
       "      <th>3</th>\n",
       "      <td>Maruti Ertiga VDI</td>\n",
       "      <td>Chennai</td>\n",
       "      <td>9197.76</td>\n",
       "      <td>2012</td>\n",
       "      <td>87000</td>\n",
       "      <td>Diesel</td>\n",
       "      <td>Manual</td>\n",
       "      <td>First</td>\n",
       "      <td>20.77</td>\n",
       "      <td>1248.0</td>\n",
       "      <td>88.76</td>\n",
       "      <td>7.0</td>\n",
       "      <td>NaN</td>\n",
       "    </tr>\n",
       "    <tr>\n",
       "      <th>4</th>\n",
       "      <td>Audi A4 New 2.0 TDI Multitronic</td>\n",
       "      <td>Coimbatore</td>\n",
       "      <td>27194.71</td>\n",
       "      <td>2013</td>\n",
       "      <td>40670</td>\n",
       "      <td>Diesel</td>\n",
       "      <td>Automatic</td>\n",
       "      <td>Second</td>\n",
       "      <td>15.20</td>\n",
       "      <td>1968.0</td>\n",
       "      <td>140.80</td>\n",
       "      <td>5.0</td>\n",
       "      <td>NaN</td>\n",
       "    </tr>\n",
       "  </tbody>\n",
       "</table>\n",
       "</div>"
      ],
      "text/plain": [
       "                               Name    Location     Price  Year  \\\n",
       "0            Maruti Wagon R LXI CNG      Mumbai   2682.68  2010   \n",
       "1  Hyundai Creta 1.6 CRDi SX Option        Pune  19162.00  2015   \n",
       "2                      Honda Jazz V     Chennai   6898.32  2011   \n",
       "3                 Maruti Ertiga VDI     Chennai   9197.76  2012   \n",
       "4   Audi A4 New 2.0 TDI Multitronic  Coimbatore  27194.71  2013   \n",
       "\n",
       "   Kilometers_Driven Fuel_Type Transmission Owner_Type  Mileage  Engine  \\\n",
       "0              72000       CNG       Manual      First    26.60   998.0   \n",
       "1              41000    Diesel       Manual      First    19.67  1582.0   \n",
       "2              46000    Petrol       Manual      First    18.20  1199.0   \n",
       "3              87000    Diesel       Manual      First    20.77  1248.0   \n",
       "4              40670    Diesel    Automatic     Second    15.20  1968.0   \n",
       "\n",
       "    Power  Seats  New_Price  \n",
       "0   58.16    5.0        NaN  \n",
       "1  126.20    5.0        NaN  \n",
       "2   88.70    5.0  8.61 Lakh  \n",
       "3   88.76    7.0        NaN  \n",
       "4  140.80    5.0        NaN  "
      ]
     },
     "execution_count": 5,
     "metadata": {},
     "output_type": "execute_result"
    }
   ],
   "source": [
    "df.head()"
   ]
  },
  {
   "cell_type": "code",
   "execution_count": 6,
   "id": "860d54ec",
   "metadata": {},
   "outputs": [
    {
     "name": "stdout",
     "output_type": "stream",
     "text": [
      "<class 'pandas.core.frame.DataFrame'>\n",
      "RangeIndex: 7253 entries, 0 to 7252\n",
      "Data columns (total 13 columns):\n",
      " #   Column             Non-Null Count  Dtype  \n",
      "---  ------             --------------  -----  \n",
      " 0   Name               7253 non-null   object \n",
      " 1   Location           7253 non-null   object \n",
      " 2   Price              6200 non-null   float64\n",
      " 3   Year               7253 non-null   int64  \n",
      " 4   Kilometers_Driven  7253 non-null   int64  \n",
      " 5   Fuel_Type          7253 non-null   object \n",
      " 6   Transmission       7253 non-null   object \n",
      " 7   Owner_Type         7253 non-null   object \n",
      " 8   Mileage            7251 non-null   float64\n",
      " 9   Engine             7207 non-null   float64\n",
      " 10  Power              7078 non-null   float64\n",
      " 11  Seats              7200 non-null   float64\n",
      " 12  New_Price          1006 non-null   object \n",
      "dtypes: float64(5), int64(2), object(6)\n",
      "memory usage: 736.8+ KB\n"
     ]
    }
   ],
   "source": [
    "df.info()"
   ]
  },
  {
   "cell_type": "code",
   "execution_count": 7,
   "id": "5bc3a0a7",
   "metadata": {},
   "outputs": [
    {
     "data": {
      "text/html": [
       "<div>\n",
       "<style scoped>\n",
       "    .dataframe tbody tr th:only-of-type {\n",
       "        vertical-align: middle;\n",
       "    }\n",
       "\n",
       "    .dataframe tbody tr th {\n",
       "        vertical-align: top;\n",
       "    }\n",
       "\n",
       "    .dataframe thead th {\n",
       "        text-align: right;\n",
       "    }\n",
       "</style>\n",
       "<table border=\"1\" class=\"dataframe\">\n",
       "  <thead>\n",
       "    <tr style=\"text-align: right;\">\n",
       "      <th></th>\n",
       "      <th>Price</th>\n",
       "      <th>Year</th>\n",
       "      <th>Kilometers_Driven</th>\n",
       "      <th>Mileage</th>\n",
       "      <th>Engine</th>\n",
       "      <th>Power</th>\n",
       "      <th>Seats</th>\n",
       "    </tr>\n",
       "  </thead>\n",
       "  <tbody>\n",
       "    <tr>\n",
       "      <th>count</th>\n",
       "      <td>6200.000000</td>\n",
       "      <td>7253.000000</td>\n",
       "      <td>7.253000e+03</td>\n",
       "      <td>7251.000000</td>\n",
       "      <td>7207.000000</td>\n",
       "      <td>7078.000000</td>\n",
       "      <td>7200.000000</td>\n",
       "    </tr>\n",
       "    <tr>\n",
       "      <th>mean</th>\n",
       "      <td>14912.514750</td>\n",
       "      <td>2013.365366</td>\n",
       "      <td>5.869906e+04</td>\n",
       "      <td>18.141580</td>\n",
       "      <td>1616.573470</td>\n",
       "      <td>112.765214</td>\n",
       "      <td>5.279722</td>\n",
       "    </tr>\n",
       "    <tr>\n",
       "      <th>std</th>\n",
       "      <td>17674.318464</td>\n",
       "      <td>3.254421</td>\n",
       "      <td>8.442772e+04</td>\n",
       "      <td>4.562197</td>\n",
       "      <td>595.285137</td>\n",
       "      <td>53.493553</td>\n",
       "      <td>0.811660</td>\n",
       "    </tr>\n",
       "    <tr>\n",
       "      <th>min</th>\n",
       "      <td>7.080000</td>\n",
       "      <td>1996.000000</td>\n",
       "      <td>1.710000e+02</td>\n",
       "      <td>0.000000</td>\n",
       "      <td>72.000000</td>\n",
       "      <td>34.200000</td>\n",
       "      <td>0.000000</td>\n",
       "    </tr>\n",
       "    <tr>\n",
       "      <th>25%</th>\n",
       "      <td>5365.360000</td>\n",
       "      <td>2011.000000</td>\n",
       "      <td>3.400000e+04</td>\n",
       "      <td>15.170000</td>\n",
       "      <td>1198.000000</td>\n",
       "      <td>75.000000</td>\n",
       "      <td>5.000000</td>\n",
       "    </tr>\n",
       "    <tr>\n",
       "      <th>50%</th>\n",
       "      <td>8814.520000</td>\n",
       "      <td>2014.000000</td>\n",
       "      <td>5.341600e+04</td>\n",
       "      <td>18.160000</td>\n",
       "      <td>1493.000000</td>\n",
       "      <td>94.000000</td>\n",
       "      <td>5.000000</td>\n",
       "    </tr>\n",
       "    <tr>\n",
       "      <th>75%</th>\n",
       "      <td>15869.972500</td>\n",
       "      <td>2016.000000</td>\n",
       "      <td>7.300000e+04</td>\n",
       "      <td>21.100000</td>\n",
       "      <td>1968.000000</td>\n",
       "      <td>138.100000</td>\n",
       "      <td>5.000000</td>\n",
       "    </tr>\n",
       "    <tr>\n",
       "      <th>max</th>\n",
       "      <td>245273.600000</td>\n",
       "      <td>2019.000000</td>\n",
       "      <td>6.500000e+06</td>\n",
       "      <td>33.540000</td>\n",
       "      <td>5998.000000</td>\n",
       "      <td>616.000000</td>\n",
       "      <td>10.000000</td>\n",
       "    </tr>\n",
       "  </tbody>\n",
       "</table>\n",
       "</div>"
      ],
      "text/plain": [
       "               Price         Year  Kilometers_Driven      Mileage  \\\n",
       "count    6200.000000  7253.000000       7.253000e+03  7251.000000   \n",
       "mean    14912.514750  2013.365366       5.869906e+04    18.141580   \n",
       "std     17674.318464     3.254421       8.442772e+04     4.562197   \n",
       "min         7.080000  1996.000000       1.710000e+02     0.000000   \n",
       "25%      5365.360000  2011.000000       3.400000e+04    15.170000   \n",
       "50%      8814.520000  2014.000000       5.341600e+04    18.160000   \n",
       "75%     15869.972500  2016.000000       7.300000e+04    21.100000   \n",
       "max    245273.600000  2019.000000       6.500000e+06    33.540000   \n",
       "\n",
       "            Engine        Power        Seats  \n",
       "count  7207.000000  7078.000000  7200.000000  \n",
       "mean   1616.573470   112.765214     5.279722  \n",
       "std     595.285137    53.493553     0.811660  \n",
       "min      72.000000    34.200000     0.000000  \n",
       "25%    1198.000000    75.000000     5.000000  \n",
       "50%    1493.000000    94.000000     5.000000  \n",
       "75%    1968.000000   138.100000     5.000000  \n",
       "max    5998.000000   616.000000    10.000000  "
      ]
     },
     "execution_count": 7,
     "metadata": {},
     "output_type": "execute_result"
    }
   ],
   "source": [
    "df.describe()"
   ]
  },
  {
   "cell_type": "code",
   "execution_count": 8,
   "id": "b807a9fa",
   "metadata": {},
   "outputs": [
    {
     "data": {
      "text/html": [
       "<div>\n",
       "<style scoped>\n",
       "    .dataframe tbody tr th:only-of-type {\n",
       "        vertical-align: middle;\n",
       "    }\n",
       "\n",
       "    .dataframe tbody tr th {\n",
       "        vertical-align: top;\n",
       "    }\n",
       "\n",
       "    .dataframe thead th {\n",
       "        text-align: right;\n",
       "    }\n",
       "</style>\n",
       "<table border=\"1\" class=\"dataframe\">\n",
       "  <thead>\n",
       "    <tr style=\"text-align: right;\">\n",
       "      <th></th>\n",
       "      <th>Name</th>\n",
       "      <th>Location</th>\n",
       "      <th>Fuel_Type</th>\n",
       "      <th>Transmission</th>\n",
       "      <th>Owner_Type</th>\n",
       "      <th>New_Price</th>\n",
       "    </tr>\n",
       "  </thead>\n",
       "  <tbody>\n",
       "    <tr>\n",
       "      <th>count</th>\n",
       "      <td>7253</td>\n",
       "      <td>7253</td>\n",
       "      <td>7253</td>\n",
       "      <td>7253</td>\n",
       "      <td>7253</td>\n",
       "      <td>1006</td>\n",
       "    </tr>\n",
       "    <tr>\n",
       "      <th>unique</th>\n",
       "      <td>2041</td>\n",
       "      <td>11</td>\n",
       "      <td>5</td>\n",
       "      <td>2</td>\n",
       "      <td>4</td>\n",
       "      <td>625</td>\n",
       "    </tr>\n",
       "    <tr>\n",
       "      <th>top</th>\n",
       "      <td>Mahindra XUV500 W8 2WD</td>\n",
       "      <td>Mumbai</td>\n",
       "      <td>Diesel</td>\n",
       "      <td>Manual</td>\n",
       "      <td>First</td>\n",
       "      <td>63.71 Lakh</td>\n",
       "    </tr>\n",
       "    <tr>\n",
       "      <th>freq</th>\n",
       "      <td>55</td>\n",
       "      <td>949</td>\n",
       "      <td>3852</td>\n",
       "      <td>5204</td>\n",
       "      <td>5952</td>\n",
       "      <td>6</td>\n",
       "    </tr>\n",
       "  </tbody>\n",
       "</table>\n",
       "</div>"
      ],
      "text/plain": [
       "                          Name Location Fuel_Type Transmission Owner_Type  \\\n",
       "count                     7253     7253      7253         7253       7253   \n",
       "unique                    2041       11         5            2          4   \n",
       "top     Mahindra XUV500 W8 2WD   Mumbai    Diesel       Manual      First   \n",
       "freq                        55      949      3852         5204       5952   \n",
       "\n",
       "         New_Price  \n",
       "count         1006  \n",
       "unique         625  \n",
       "top     63.71 Lakh  \n",
       "freq             6  "
      ]
     },
     "execution_count": 8,
     "metadata": {},
     "output_type": "execute_result"
    }
   ],
   "source": [
    "df.describe(include = 'object')"
   ]
  },
  {
   "cell_type": "markdown",
   "id": "42dd2753",
   "metadata": {},
   "source": [
    "> 약 7300개의 뎅터 행개수의 대다수가 널값인 New_Price 열은 지워주었습니다"
   ]
  },
  {
   "cell_type": "code",
   "execution_count": 9,
   "id": "b8471700",
   "metadata": {},
   "outputs": [],
   "source": [
    "df.drop(labels = 'New_Price', axis = 1, inplace = True)"
   ]
  },
  {
   "cell_type": "markdown",
   "id": "6b611eca",
   "metadata": {},
   "source": [
    "> Engine과 Power 값의 경우 회귀모델을 설계하여 널값을 제외한 값들로 학습시키고 비어있는 값들을 에측하여 넣어주었습니다. 200개정도의 널값이 있었기에 과적합의 우려가 적을것이라 판단했습니다."
   ]
  },
  {
   "cell_type": "code",
   "execution_count": 10,
   "id": "9ed0db6a",
   "metadata": {},
   "outputs": [],
   "source": [
    "missing_engine_indices = df[df['Engine'].isnull() | (df['Engine'] == 0)].index\n",
    "\n",
    "imputer = SimpleImputer(strategy='mean')\n",
    "df[['Engine', 'Power', 'Mileage']] = imputer.fit_transform(df[['Engine', 'Power', 'Mileage']])\n",
    "\n",
    "engine_data = df[['Engine', 'Power', 'Year', 'Kilometers_Driven', 'Fuel_Type', 'Transmission', 'Owner_Type', 'Mileage']]\n",
    "engine_data = pd.get_dummies(engine_data, columns=['Fuel_Type', 'Transmission', 'Owner_Type'], drop_first=True)\n",
    "\n",
    "train_data = engine_data[engine_data['Engine'].notnull() | (engine_data['Engine'] == 0)]\n",
    "predict_data = engine_data.loc[missing_engine_indices]\n",
    "\n",
    "X_train = train_data.drop('Engine', axis=1)\n",
    "y_train = train_data['Engine']\n",
    "X_predict = predict_data.drop('Engine', axis=1)\n",
    "\n",
    "if not X_predict.empty:\n",
    "    engine_model = RandomForestRegressor(n_estimators=100, random_state=42)\n",
    "    engine_model.fit(X_train, y_train)\n",
    "\n",
    "    predicted_engines = engine_model.predict(X_predict)\n",
    "    df.loc[missing_engine_indices, 'Engine'] = predicted_engines"
   ]
  },
  {
   "cell_type": "code",
   "execution_count": 11,
   "id": "9fdc8d43",
   "metadata": {},
   "outputs": [],
   "source": [
    "missing_power_indices = df[df['Power'].isnull() | (df['Power'] == 0)].index\n",
    "\n",
    "power_data = df[['Power', 'Engine', 'Year', 'Kilometers_Driven', 'Fuel_Type', 'Transmission', 'Owner_Type', 'Mileage']]\n",
    "power_data = pd.get_dummies(power_data, columns=['Fuel_Type', 'Transmission', 'Owner_Type'], drop_first=True)\n",
    "\n",
    "train_data = power_data[power_data['Power'].notnull()| (engine_data['Power'] == 0)]\n",
    "predict_data = power_data.loc[missing_power_indices]\n",
    "\n",
    "X_train = train_data.drop('Power', axis=1)\n",
    "y_train = train_data['Power']\n",
    "X_predict = predict_data.drop('Power', axis=1)\n",
    "\n",
    "if not X_predict.empty:\n",
    "    power_model = RandomForestRegressor(n_estimators=100, random_state=42)\n",
    "    power_model.fit(X_train, y_train)\n",
    "\n",
    "    predicted_powers = power_model.predict(X_predict)\n",
    "    df.loc[missing_power_indices, 'Power'] = predicted_powersMaruti"
   ]
  },
  {
   "cell_type": "code",
   "execution_count": 12,
   "id": "764e9048",
   "metadata": {},
   "outputs": [
    {
     "name": "stdout",
     "output_type": "stream",
     "text": [
      "Best Parameters: {'max_depth': None, 'min_samples_leaf': 1, 'min_samples_split': 5, 'n_estimators': 100}\n"
     ]
    }
   ],
   "source": [
    "missing_mileage_indices = df[df['Mileage'].isnull() | (df['Mileage'] == 0)].index\n",
    "\n",
    "mileage_data = df[['Power', 'Engine', 'Year', 'Kilometers_Driven', 'Fuel_Type', 'Transmission', 'Owner_Type', 'Mileage']]\n",
    "mileage_data = pd.get_dummies(mileage_data, columns=['Fuel_Type', 'Transmission', 'Owner_Type'], drop_first=True)\n",
    "\n",
    "train_data = mileage_data[mileage_data['Mileage'].notnull() (engine_data['Mileage'] == 0)]\n",
    "predict_data = mileage_data.loc[missing_mileage_indices]\n",
    "\n",
    "X_train = train_data.drop('Mileage', axis=1)\n",
    "y_train = train_data['Mileage']\n",
    "X_predict = predict_data.drop('Mileage', axis=1)\n",
    "\n",
    "X_train, X_val, y_train, y_val = train_test_split(X_train, y_train, test_size=0.2, random_state=42)\n",
    "\n",
    "if not X_predict.empty:\n",
    "    param_grid = {\n",
    "        'n_estimators': [50, 100, 200],\n",
    "        'max_depth': [None, 10, 20, 30],\n",
    "        'min_samples_split': [2, 5, 10],\n",
    "        'min_samples_leaf': [1, 2, 4]\n",
    "    }\n",
    "\n",
    "    grid_search = GridSearchCV(estimator=RandomForestRegressor(random_state=42), param_grid=param_grid, cv=5, n_jobs=-1)\n",
    "    grid_search.fit(X_train, y_train)\n",
    "\n",
    "    best_params = grid_search.best_params_\n",
    "    print(\"Best Parameters:\", best_params)\n",
    "\n",
    "    best_model = grid_search.best_estimator_\n",
    "    predicted_mileages = best_model.predict(X_predict)\n",
    "\n",
    "    df.loc[missing_mileage_indices, 'Mileage'] = predicted_mileages"
   ]
  },
  {
   "cell_type": "code",
   "execution_count": 13,
   "id": "afc36a3b",
   "metadata": {},
   "outputs": [
    {
     "name": "stdout",
     "output_type": "stream",
     "text": [
      "Validation MAE: 0.7542989483438974\n",
      "Validation MSE: 2.2220484966652045\n",
      "Validation RMSE: 1.4906537145377543\n",
      "Validation R^2 Score: 0.8867211765970708\n"
     ]
    }
   ],
   "source": [
    "val_predictions = best_model.predict(X_val)\n",
    "print(\"Validation MAE:\", mean_absolute_error(y_val, val_predictions))\n",
    "print(\"Validation MSE:\", mean_squared_error(y_val, val_predictions))\n",
    "print(\"Validation RMSE:\", np.sqrt(mean_squared_error(y_val, val_predictions)))\n",
    "print(\"Validation R^2 Score:\", r2_score(y_val, val_predictions))\n",
    "\n",
    "predicted_mileages = best_model.predict(X_predict)\n",
    "df.loc[missing_mileage_indices, 'Mileage'] = predicted_mileages"
   ]
  },
  {
   "cell_type": "code",
   "execution_count": 14,
   "id": "6b4fcf2f",
   "metadata": {
    "scrolled": false
   },
   "outputs": [
    {
     "ename": "ValueError",
     "evalue": "Found input variables with inconsistent numbers of samples: [1451, 7253]",
     "output_type": "error",
     "traceback": [
      "\u001b[0;31m---------------------------------------------------------------------------\u001b[0m",
      "\u001b[0;31mValueError\u001b[0m                                Traceback (most recent call last)",
      "Cell \u001b[0;32mIn[14], line 17\u001b[0m\n\u001b[1;32m     13\u001b[0m X_predict_mean_filled \u001b[38;5;241m=\u001b[39m predict_data_mean_filled\u001b[38;5;241m.\u001b[39mdrop(\u001b[38;5;124m'\u001b[39m\u001b[38;5;124mMileage\u001b[39m\u001b[38;5;124m'\u001b[39m, axis\u001b[38;5;241m=\u001b[39m\u001b[38;5;241m1\u001b[39m)\n\u001b[1;32m     15\u001b[0m X_train_mean_filled, X_val_mean_filled, y_train_mean_filled, y_val_mean_filled \u001b[38;5;241m=\u001b[39m train_test_split(X_train_mean_filled, y_train_mean_filled, test_size\u001b[38;5;241m=\u001b[39m\u001b[38;5;241m0.2\u001b[39m, random_state\u001b[38;5;241m=\u001b[39m\u001b[38;5;241m42\u001b[39m)\n\u001b[0;32m---> 17\u001b[0m \u001b[38;5;28mprint\u001b[39m(\u001b[38;5;124m\"\u001b[39m\u001b[38;5;124mValidation MAE (Mean):\u001b[39m\u001b[38;5;124m\"\u001b[39m, \u001b[43mmean_absolute_error\u001b[49m\u001b[43m(\u001b[49m\u001b[43my_val_mean_filled\u001b[49m\u001b[43m,\u001b[49m\u001b[43m \u001b[49m\u001b[43mdf_mean_filled\u001b[49m\u001b[43m)\u001b[49m)\n\u001b[1;32m     18\u001b[0m \u001b[38;5;28mprint\u001b[39m(\u001b[38;5;124m\"\u001b[39m\u001b[38;5;124mValidation MSE (Mean):\u001b[39m\u001b[38;5;124m\"\u001b[39m, mean_squared_error(y_val_mean_filled, df_mean_filled))\n\u001b[1;32m     19\u001b[0m \u001b[38;5;28mprint\u001b[39m(\u001b[38;5;124m\"\u001b[39m\u001b[38;5;124mValidation RMSE (Mean):\u001b[39m\u001b[38;5;124m\"\u001b[39m, np\u001b[38;5;241m.\u001b[39msqrt(mean_squared_error(y_val_mean_filled, df_mean_filled)))\n",
      "File \u001b[0;32m~/anaconda3/lib/python3.10/site-packages/sklearn/metrics/_regression.py:196\u001b[0m, in \u001b[0;36mmean_absolute_error\u001b[0;34m(y_true, y_pred, sample_weight, multioutput)\u001b[0m\n\u001b[1;32m    141\u001b[0m \u001b[38;5;28;01mdef\u001b[39;00m \u001b[38;5;21mmean_absolute_error\u001b[39m(\n\u001b[1;32m    142\u001b[0m     y_true, y_pred, \u001b[38;5;241m*\u001b[39m, sample_weight\u001b[38;5;241m=\u001b[39m\u001b[38;5;28;01mNone\u001b[39;00m, multioutput\u001b[38;5;241m=\u001b[39m\u001b[38;5;124m\"\u001b[39m\u001b[38;5;124muniform_average\u001b[39m\u001b[38;5;124m\"\u001b[39m\n\u001b[1;32m    143\u001b[0m ):\n\u001b[1;32m    144\u001b[0m     \u001b[38;5;124;03m\"\"\"Mean absolute error regression loss.\u001b[39;00m\n\u001b[1;32m    145\u001b[0m \n\u001b[1;32m    146\u001b[0m \u001b[38;5;124;03m    Read more in the :ref:`User Guide <mean_absolute_error>`.\u001b[39;00m\n\u001b[0;32m   (...)\u001b[0m\n\u001b[1;32m    194\u001b[0m \u001b[38;5;124;03m    0.85...\u001b[39;00m\n\u001b[1;32m    195\u001b[0m \u001b[38;5;124;03m    \"\"\"\u001b[39;00m\n\u001b[0;32m--> 196\u001b[0m     y_type, y_true, y_pred, multioutput \u001b[38;5;241m=\u001b[39m \u001b[43m_check_reg_targets\u001b[49m\u001b[43m(\u001b[49m\n\u001b[1;32m    197\u001b[0m \u001b[43m        \u001b[49m\u001b[43my_true\u001b[49m\u001b[43m,\u001b[49m\u001b[43m \u001b[49m\u001b[43my_pred\u001b[49m\u001b[43m,\u001b[49m\u001b[43m \u001b[49m\u001b[43mmultioutput\u001b[49m\n\u001b[1;32m    198\u001b[0m \u001b[43m    \u001b[49m\u001b[43m)\u001b[49m\n\u001b[1;32m    199\u001b[0m     check_consistent_length(y_true, y_pred, sample_weight)\n\u001b[1;32m    200\u001b[0m     output_errors \u001b[38;5;241m=\u001b[39m np\u001b[38;5;241m.\u001b[39maverage(np\u001b[38;5;241m.\u001b[39mabs(y_pred \u001b[38;5;241m-\u001b[39m y_true), weights\u001b[38;5;241m=\u001b[39msample_weight, axis\u001b[38;5;241m=\u001b[39m\u001b[38;5;241m0\u001b[39m)\n",
      "File \u001b[0;32m~/anaconda3/lib/python3.10/site-packages/sklearn/metrics/_regression.py:100\u001b[0m, in \u001b[0;36m_check_reg_targets\u001b[0;34m(y_true, y_pred, multioutput, dtype)\u001b[0m\n\u001b[1;32m     66\u001b[0m \u001b[38;5;28;01mdef\u001b[39;00m \u001b[38;5;21m_check_reg_targets\u001b[39m(y_true, y_pred, multioutput, dtype\u001b[38;5;241m=\u001b[39m\u001b[38;5;124m\"\u001b[39m\u001b[38;5;124mnumeric\u001b[39m\u001b[38;5;124m\"\u001b[39m):\n\u001b[1;32m     67\u001b[0m     \u001b[38;5;124;03m\"\"\"Check that y_true and y_pred belong to the same regression task.\u001b[39;00m\n\u001b[1;32m     68\u001b[0m \n\u001b[1;32m     69\u001b[0m \u001b[38;5;124;03m    Parameters\u001b[39;00m\n\u001b[0;32m   (...)\u001b[0m\n\u001b[1;32m     98\u001b[0m \u001b[38;5;124;03m        correct keyword.\u001b[39;00m\n\u001b[1;32m     99\u001b[0m \u001b[38;5;124;03m    \"\"\"\u001b[39;00m\n\u001b[0;32m--> 100\u001b[0m     \u001b[43mcheck_consistent_length\u001b[49m\u001b[43m(\u001b[49m\u001b[43my_true\u001b[49m\u001b[43m,\u001b[49m\u001b[43m \u001b[49m\u001b[43my_pred\u001b[49m\u001b[43m)\u001b[49m\n\u001b[1;32m    101\u001b[0m     y_true \u001b[38;5;241m=\u001b[39m check_array(y_true, ensure_2d\u001b[38;5;241m=\u001b[39m\u001b[38;5;28;01mFalse\u001b[39;00m, dtype\u001b[38;5;241m=\u001b[39mdtype)\n\u001b[1;32m    102\u001b[0m     y_pred \u001b[38;5;241m=\u001b[39m check_array(y_pred, ensure_2d\u001b[38;5;241m=\u001b[39m\u001b[38;5;28;01mFalse\u001b[39;00m, dtype\u001b[38;5;241m=\u001b[39mdtype)\n",
      "File \u001b[0;32m~/anaconda3/lib/python3.10/site-packages/sklearn/utils/validation.py:397\u001b[0m, in \u001b[0;36mcheck_consistent_length\u001b[0;34m(*arrays)\u001b[0m\n\u001b[1;32m    395\u001b[0m uniques \u001b[38;5;241m=\u001b[39m np\u001b[38;5;241m.\u001b[39munique(lengths)\n\u001b[1;32m    396\u001b[0m \u001b[38;5;28;01mif\u001b[39;00m \u001b[38;5;28mlen\u001b[39m(uniques) \u001b[38;5;241m>\u001b[39m \u001b[38;5;241m1\u001b[39m:\n\u001b[0;32m--> 397\u001b[0m     \u001b[38;5;28;01mraise\u001b[39;00m \u001b[38;5;167;01mValueError\u001b[39;00m(\n\u001b[1;32m    398\u001b[0m         \u001b[38;5;124m\"\u001b[39m\u001b[38;5;124mFound input variables with inconsistent numbers of samples: \u001b[39m\u001b[38;5;132;01m%r\u001b[39;00m\u001b[38;5;124m\"\u001b[39m\n\u001b[1;32m    399\u001b[0m         \u001b[38;5;241m%\u001b[39m [\u001b[38;5;28mint\u001b[39m(l) \u001b[38;5;28;01mfor\u001b[39;00m l \u001b[38;5;129;01min\u001b[39;00m lengths]\n\u001b[1;32m    400\u001b[0m     )\n",
      "\u001b[0;31mValueError\u001b[0m: Found input variables with inconsistent numbers of samples: [1451, 7253]"
     ]
    }
   ],
   "source": [
    "# mean_mileage = df['Mileage'].mean()\n",
    "# df_mean_filled = df.copy()\n",
    "# df_mean_filled.loc[missing_mileage_indices, 'Mileage'] = mean_mileage\n",
    "\n",
    "# mileage_data_mean_filled = df_mean_filled[['Power', 'Engine', 'Year', 'Kilometers_Driven', 'Fuel_Type', 'Transmission', 'Owner_Type', 'Mileage']]\n",
    "# mileage_data_mean_filled = pd.get_dummies(mileage_data_mean_filled, columns=['Fuel_Type', 'Transmission', 'Owner_Type'], drop_first=True)\n",
    "\n",
    "# train_data_mean_filled = mileage_data_mean_filled[mileage_data_mean_filled['Mileage'].notnull()]\n",
    "# predict_data_mean_filled = mileage_data_mean_filled.loc[missing_mileage_indices]\n",
    "\n",
    "# X_train_mean_filled = train_data_mean_filled.drop('Mileage', axis=1)\n",
    "# y_train_mean_filled = train_data_mean_filled['Mileage']\n",
    "# X_predict_mean_filled = predict_data_mean_filled.drop('Mileage', axis=1)\n",
    "\n",
    "# X_train_mean_filled, X_val_mean_filled, y_train_mean_filled, y_val_mean_filled = train_test_split(X_train_mean_filled, y_train_mean_filled, test_size=0.2, random_state=42)\n",
    "\n",
    "# print(\"Validation MAE (Mean):\", mean_absolute_error(y_val_mean_filled, df_mean_filled))\n",
    "# print(\"Validation MSE (Mean):\", mean_squared_error(y_val_mean_filled, df_mean_filled))\n",
    "# print(\"Validation RMSE (Mean):\", np.sqrt(mean_squared_error(y_val_mean_filled, df_mean_filled)))\n",
    "# print(\"Validation R^2 Score (Mean):\", r2_score(y_val_mean_filled, df_mean_filled))\n"
   ]
  },
  {
   "cell_type": "code",
   "execution_count": null,
   "id": "eea96f7f",
   "metadata": {},
   "outputs": [],
   "source": [
    "df['Year'] = 2024 - df['Year']"
   ]
  },
  {
   "cell_type": "code",
   "execution_count": null,
   "id": "2d9b34fd",
   "metadata": {},
   "outputs": [],
   "source": [
    "df['Location_income'] = df['Location'].apply(classify_city_income)\n",
    "df['Car_cate'] = df['Seats'].apply(classify_car_by_seats)\n",
    "df['Brand'] = df['Name'].apply(lambda x :x.split()[0])"
   ]
  },
  {
   "cell_type": "code",
   "execution_count": null,
   "id": "7038a3cd",
   "metadata": {},
   "outputs": [],
   "source": [
    "df['Brand_Category'] = df['Brand'].str.split().str[0].map(brand_categories).fillna('Unknown')"
   ]
  },
  {
   "cell_type": "markdown",
   "id": "5fab17da",
   "metadata": {},
   "source": [
    "> Seats 값의 경우 7인 모델하나를 제외하고 나머지 모델은 전부 5인승이기에 서칭한 데이터를 기반으로 값을 넣어주었습니다."
   ]
  },
  {
   "cell_type": "code",
   "execution_count": null,
   "id": "4b8f6135",
   "metadata": {},
   "outputs": [],
   "source": [
    "condition = (df['Seats'].isnull() & (df['Name'] == 'Mahindra TUV 300 P4'))\n",
    "df.loc[condition, 'Seats'] = 7\n",
    "\n",
    "condition1 = (df['Seats'].isnull() & (df['Name'] != 'Mahindra TUV 300 P4'))\n",
    "df.loc[condition1, 'Seats'] = 5\n",
    "\n",
    "df.loc[3999, 'Seats'] = 5"
   ]
  },
  {
   "cell_type": "code",
   "execution_count": null,
   "id": "3dffeb14",
   "metadata": {},
   "outputs": [],
   "source": [
    "df.info()"
   ]
  },
  {
   "cell_type": "code",
   "execution_count": null,
   "id": "fd573e4c",
   "metadata": {},
   "outputs": [],
   "source": [
    "df.describe()"
   ]
  },
  {
   "cell_type": "code",
   "execution_count": null,
   "id": "e812bde1",
   "metadata": {},
   "outputs": [],
   "source": [
    "df.describe(include = 'object')"
   ]
  },
  {
   "cell_type": "code",
   "execution_count": null,
   "id": "5ed48650",
   "metadata": {},
   "outputs": [],
   "source": [
    "fig, ax = plt.subplots(1,4, figsize=(16,4))\n",
    "\n",
    "ax[0].boxplot(df.Kilometers_Driven)\n",
    "ax[0].set_title(\"Kilometers Driven\")\n",
    "\n",
    "ax[1].boxplot(df.Mileage)\n",
    "ax[1].set_title(\"Mileage\")\n",
    "\n",
    "ax[2].boxplot(df.Engine)\n",
    "ax[2].set_title(\"Engine\")\n",
    "\n",
    "ax[3].boxplot(df.Power)\n",
    "ax[3].set_title(\"Power\")"
   ]
  },
  {
   "cell_type": "markdown",
   "id": "8be49140",
   "metadata": {},
   "source": [
    "> 상용차 기준 Kilometers_Driven의 값이 300,000이상인 데이터는 이상치로 판단하여 제거하였습니다."
   ]
  },
  {
   "cell_type": "code",
   "execution_count": null,
   "id": "e6c20e08",
   "metadata": {},
   "outputs": [],
   "source": [
    "df.drop(df[df['Kilometers_Driven'] > 300000].index, inplace=True)"
   ]
  },
  {
   "cell_type": "markdown",
   "id": "60dac0e8",
   "metadata": {},
   "source": [
    "> 엔진cc는 고급형이 아닌차가 수치가 높게 나오는 경우 이상치로 간주하여 제거하였습니다. 너무 낮은 값도 제거하였습니다."
   ]
  },
  {
   "cell_type": "code",
   "execution_count": null,
   "id": "b8cfe79c",
   "metadata": {},
   "outputs": [],
   "source": [
    "df = df.drop(df[(df['Engine'] > 4000) & (~df['Brand_Category'].isin(['Luxury', 'Premium']))].index)\n",
    "df = df.drop(df[df['Engine'] < 800].index)"
   ]
  },
  {
   "cell_type": "markdown",
   "id": "875d2a66",
   "metadata": {},
   "source": [
    "> 엔진cc는 고급형이 아닌차가 수치가 높게 나오는 경우 이상치로 간주하여 제거하였습니다. 너무 낮은 값도 제거하였습니다."
   ]
  },
  {
   "cell_type": "code",
   "execution_count": null,
   "id": "bb5a4191",
   "metadata": {
    "scrolled": true
   },
   "outputs": [],
   "source": [
    "df.drop(df[(df['Power'] > 400) & (~df['Brand_Category'].isin(['Luxury', 'Premium']))].index)\n",
    "df.drop(df[(df['Power'] < 60)].index)"
   ]
  },
  {
   "cell_type": "markdown",
   "id": "69b008aa",
   "metadata": {},
   "source": [
    "columns_to_encode = ['Transmission', 'Owner_Type', 'Fuel_Type', 'Owner_Type', 'Location_income','Car_cate','Brand_Category']\n",
    "\n",
    "df = pd.get_dummies(df, columns=columns_to_encode)"
   ]
  },
  {
   "cell_type": "code",
   "execution_count": null,
   "id": "0447ebb7",
   "metadata": {},
   "outputs": [],
   "source": [
    "sns.scatterplot(x=df.Kilometers_Driven, y=df.Price)"
   ]
  },
  {
   "cell_type": "code",
   "execution_count": null,
   "id": "7e6892d3",
   "metadata": {},
   "outputs": [],
   "source": [
    "sns.scatterplot(x=df.Year, y=df.Price)"
   ]
  },
  {
   "cell_type": "code",
   "execution_count": null,
   "id": "c6e6f945",
   "metadata": {},
   "outputs": [],
   "source": [
    "sns.scatterplot(x=df.Mileage, y=df.Price)"
   ]
  },
  {
   "cell_type": "code",
   "execution_count": null,
   "id": "ddc99c11",
   "metadata": {},
   "outputs": [],
   "source": [
    "sns.scatterplot(x=df.Engine, y=df.Price)"
   ]
  },
  {
   "cell_type": "code",
   "execution_count": null,
   "id": "a7a1b949",
   "metadata": {},
   "outputs": [],
   "source": [
    "sns.scatterplot(x=df.Power, y=df.Price)"
   ]
  },
  {
   "cell_type": "code",
   "execution_count": null,
   "id": "94651477",
   "metadata": {},
   "outputs": [],
   "source": [
    "df.info()"
   ]
  },
  {
   "cell_type": "code",
   "execution_count": null,
   "id": "e60a7817",
   "metadata": {
    "scrolled": false
   },
   "outputs": [],
   "source": [
    "dummies = [\"Fuel_Type\", \"Transmission\", \"Owner_Type\", \"Location_income\", \"Car_cate\", \"Brand_Category\"]\n",
    "\n",
    "for dum in dummies:\n",
    "    plt.figure(figsize=(30,10))\n",
    "    sns.set_theme(style=\"whitegrid\")\n",
    "    sns.boxplot(x=dum, y=\"Price\", \n",
    "                data=df, palette=\"Set3\")\n",
    "    \n",
    "    plt.title(\"Price by \"+ dum, fontsize=30, y=1.03)\n",
    "    \n",
    "    plt.xticks(fontsize=13)\n",
    "    plt.xlabel(dum, fontsize=22, labelpad=20)\n",
    "    \n",
    "    plt.yticks(fontsize=20)\n",
    "    plt.ylabel(\"Price\", fontsize=22, labelpad=20)\n",
    "    \n",
    "    plt.show()"
   ]
  },
  {
   "cell_type": "code",
   "execution_count": null,
   "id": "bef8fcc0",
   "metadata": {},
   "outputs": [],
   "source": [
    "plt.figure(figsize=(24,10))\n",
    "sns.set_theme(style=\"whitegrid\")\n",
    "sns.boxplot(x=\"Brand\", y=\"Engine\", data=df, palette=\"Set3\")\n",
    "\n",
    "plt.title(\"Engine by Brand\", fontsize=30)\n",
    "plt.xticks(fontsize=15, rotation=45)  # X-axis labels rotated by 45 degrees\n",
    "plt.xlabel(\"Brand\", fontsize=22)\n",
    "plt.yticks(fontsize=20)\n",
    "plt.ylabel(\"Engine\", fontsize=22)\n",
    "\n",
    "plt.show()"
   ]
  },
  {
   "cell_type": "code",
   "execution_count": null,
   "id": "c40bc699",
   "metadata": {},
   "outputs": [],
   "source": [
    "df.drop(labels = 'Location', axis = 1, inplace = True)\n",
    "df.drop(labels = 'Name', axis = 1, inplace = True)\n",
    "df.drop(labels = 'Seats', axis = 1, inplace = True)\n",
    "df.drop(labels = 'Brand', axis = 1, inplace = True)"
   ]
  },
  {
   "cell_type": "code",
   "execution_count": null,
   "id": "ab9340b7",
   "metadata": {},
   "outputs": [],
   "source": [
    "df.info()"
   ]
  },
  {
   "cell_type": "code",
   "execution_count": null,
   "id": "a2465eaa",
   "metadata": {},
   "outputs": [],
   "source": [
    "# Price 열이 결측치인 행을 분리\n",
    "df_mis_price = df[df['Price'].isna()]\n",
    "\n",
    "# Price 열이 결측치가 아닌 행을 분리\n",
    "df_nmis_price = df[df['Price'].notna()]"
   ]
  },
  {
   "cell_type": "code",
   "execution_count": null,
   "id": "f04166f8",
   "metadata": {},
   "outputs": [],
   "source": [
    "print(df_mis_price.shape)\n",
    "print(df_nmis_price.shape)"
   ]
  },
  {
   "cell_type": "code",
   "execution_count": null,
   "id": "0bd1c24f",
   "metadata": {},
   "outputs": [],
   "source": []
  }
 ],
 "metadata": {
  "kernelspec": {
   "display_name": "Python [conda env:base] *",
   "language": "python",
   "name": "conda-base-py"
  },
  "language_info": {
   "codemirror_mode": {
    "name": "ipython",
    "version": 3
   },
   "file_extension": ".py",
   "mimetype": "text/x-python",
   "name": "python",
   "nbconvert_exporter": "python",
   "pygments_lexer": "ipython3",
   "version": "3.10.9"
  }
 },
 "nbformat": 4,
 "nbformat_minor": 5
}
